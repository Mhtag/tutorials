{
 "cells": [
  {
   "cell_type": "code",
   "execution_count": 1,
   "id": "9543bf2b",
   "metadata": {},
   "outputs": [],
   "source": [
    "import requests"
   ]
  },
  {
   "cell_type": "code",
   "execution_count": 4,
   "id": "ea6b22af",
   "metadata": {},
   "outputs": [],
   "source": [
    "#api_url = 'https://jsonplaceholder.typicode.com/todos/1'\n",
    "#response = requests.get(api_url)"
   ]
  },
  {
   "cell_type": "code",
   "execution_count": 5,
   "id": "ec069a45",
   "metadata": {},
   "outputs": [
    {
     "data": {
      "text/plain": [
       "{'userId': 1, 'id': 1, 'title': 'delectus aut autem', 'completed': False}"
      ]
     },
     "execution_count": 5,
     "metadata": {},
     "output_type": "execute_result"
    }
   ],
   "source": [
    "#response.json()"
   ]
  },
  {
   "cell_type": "markdown",
   "id": "b1e122f4",
   "metadata": {},
   "source": [
    "## POST"
   ]
  },
  {
   "cell_type": "markdown",
   "id": "944f7a57",
   "metadata": {},
   "source": [
    "Now, take a look at how you use requests to POST data to a REST API to create a new resource. \n",
    "You’ll use JSONPlaceholder again, but this time you’ll include JSON data in the request. Here’s the data that you’ll send:"
   ]
  },
  {
   "cell_type": "code",
   "execution_count": 12,
   "id": "bef02b6c",
   "metadata": {},
   "outputs": [
    {
     "data": {
      "text/plain": [
       "{'userId': 1, 'title': 'Buy milk', 'completed': False, 'id': 201}"
      ]
     },
     "execution_count": 12,
     "metadata": {},
     "output_type": "execute_result"
    }
   ],
   "source": [
    "api_url = 'https://jsonplaceholder.typicode.com/todos'\n",
    "todo = {'userId': 1, 'title': 'Buy milk', 'completed': False, 'id': 201}\n",
    "response = requests.post(api_url, json=todo)\n",
    "response.json()"
   ]
  },
  {
   "cell_type": "code",
   "execution_count": 13,
   "id": "86b242b5",
   "metadata": {},
   "outputs": [
    {
     "data": {
      "text/plain": [
       "201"
      ]
     },
     "execution_count": 13,
     "metadata": {},
     "output_type": "execute_result"
    }
   ],
   "source": [
    "response.status_code"
   ]
  },
  {
   "cell_type": "markdown",
   "id": "481256b0",
   "metadata": {},
   "source": [
    "## PUT"
   ]
  },
  {
   "cell_type": "markdown",
   "id": "ba8d85ab",
   "metadata": {},
   "source": [
    "Beyond GET and POST, requests provides support for all the other HTTP methods you would use with a REST API. \n",
    "The following code sends a PUT request to update an existing todo with new data. \n",
    "Any data sent with a PUT request will completely replace the existing values of the todo."
   ]
  },
  {
   "cell_type": "code",
   "execution_count": 14,
   "id": "bc3d9c5b",
   "metadata": {},
   "outputs": [
    {
     "data": {
      "text/plain": [
       "{'userId': 1,\n",
       " 'id': 10,\n",
       " 'title': 'illo est ratione doloremque quia maiores aut',\n",
       " 'completed': True}"
      ]
     },
     "execution_count": 14,
     "metadata": {},
     "output_type": "execute_result"
    }
   ],
   "source": [
    "api_url = 'https://jsonplaceholder.typicode.com/todos/10'\n",
    "response = requests.get(api_url)\n",
    "response.json()\n"
   ]
  },
  {
   "cell_type": "code",
   "execution_count": 15,
   "id": "3f2d72c9",
   "metadata": {},
   "outputs": [
    {
     "data": {
      "text/plain": [
       "{'userId': 1, 'title': 'Wash car', 'completed': True, 'id': 10}"
      ]
     },
     "execution_count": 15,
     "metadata": {},
     "output_type": "execute_result"
    }
   ],
   "source": [
    "todo = {\"userId\": 1, \"title\": \"Wash car\", \"completed\": True}\n",
    "response = requests.put(api_url, json=todo)\n",
    "response.json()"
   ]
  },
  {
   "cell_type": "code",
   "execution_count": 16,
   "id": "ea7e94a4",
   "metadata": {},
   "outputs": [
    {
     "data": {
      "text/plain": [
       "200"
      ]
     },
     "execution_count": 16,
     "metadata": {},
     "output_type": "execute_result"
    }
   ],
   "source": [
    "response.status_code"
   ]
  },
  {
   "cell_type": "markdown",
   "id": "348320f6",
   "metadata": {},
   "source": [
    "* Here, you first call requests.get() to view the contents of the existing todo. \n",
    "* Next, you call requests.put() with new JSON data to replace the existing to-do’s values. \n",
    "* You can see the new values when you call response.json(). \n",
    "* Successful PUT requests will always return 200 instead of 201 because you aren’t creating a new resource \n",
    "* but just updating an existing one"
   ]
  },
  {
   "cell_type": "markdown",
   "id": "acb4f8a5",
   "metadata": {},
   "source": [
    "## PATCH"
   ]
  },
  {
   "cell_type": "markdown",
   "id": "c60f5857",
   "metadata": {},
   "source": [
    "* Next up, you’ll use requests.patch() to modify the value of a specific field on an existing todo. \n",
    "* PATCH differs from PUT in that it doesn’t completely replace the existing resource.\n",
    "* It only modifies the values set in the JSON sent with the request."
   ]
  },
  {
   "cell_type": "code",
   "execution_count": 19,
   "id": "678fb237",
   "metadata": {},
   "outputs": [
    {
     "data": {
      "text/plain": [
       "{'userId': 1, 'id': 10, 'title': 'Mow lawn', 'completed': True}"
      ]
     },
     "execution_count": 19,
     "metadata": {},
     "output_type": "execute_result"
    }
   ],
   "source": [
    "api_url = 'https://jsonplaceholder.typicode.com/todos/10'\n",
    "todo = {\"title\": \"Mow lawn\"}\n",
    "response = requests.patch(api_url, json=todo)\n",
    "response.json()"
   ]
  },
  {
   "cell_type": "code",
   "execution_count": 21,
   "id": "f09134ef",
   "metadata": {},
   "outputs": [
    {
     "data": {
      "text/plain": [
       "200"
      ]
     },
     "execution_count": 21,
     "metadata": {},
     "output_type": "execute_result"
    }
   ],
   "source": [
    "response.status_code"
   ]
  },
  {
   "cell_type": "markdown",
   "id": "2c532428",
   "metadata": {},
   "source": [
    "## DELETE"
   ]
  },
  {
   "cell_type": "markdown",
   "id": "c791c81a",
   "metadata": {},
   "source": [
    "Last but not least, if you want to completely remove a resource, then you use DELETE. Here’s the code to remove a todo"
   ]
  },
  {
   "cell_type": "code",
   "execution_count": 23,
   "id": "2d8af9da",
   "metadata": {},
   "outputs": [
    {
     "data": {
      "text/plain": [
       "{}"
      ]
     },
     "execution_count": 23,
     "metadata": {},
     "output_type": "execute_result"
    }
   ],
   "source": [
    "response = requests.delete(api_url)\n",
    "response.json()"
   ]
  },
  {
   "cell_type": "code",
   "execution_count": null,
   "id": "a29a36e2",
   "metadata": {},
   "outputs": [],
   "source": []
  }
 ],
 "metadata": {
  "kernelspec": {
   "display_name": "Python 3",
   "language": "python",
   "name": "python3"
  },
  "language_info": {
   "codemirror_mode": {
    "name": "ipython",
    "version": 3
   },
   "file_extension": ".py",
   "mimetype": "text/x-python",
   "name": "python",
   "nbconvert_exporter": "python",
   "pygments_lexer": "ipython3",
   "version": "3.8.8"
  }
 },
 "nbformat": 4,
 "nbformat_minor": 5
}
