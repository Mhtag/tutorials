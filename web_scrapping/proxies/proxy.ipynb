{
 "cells": [
  {
   "cell_type": "code",
   "execution_count": 1,
   "id": "46938140",
   "metadata": {},
   "outputs": [],
   "source": [
    "\n",
    "from tabulate import *   # to prettyprint the table"
   ]
  },
  {
   "cell_type": "code",
   "execution_count": 2,
   "id": "6c1d895e",
   "metadata": {},
   "outputs": [],
   "source": [
    "url = 'https://free-proxy-list.net/'"
   ]
  },
  {
   "cell_type": "code",
   "execution_count": 3,
   "id": "ea915a7c",
   "metadata": {},
   "outputs": [],
   "source": [
    "html = requests.get(url)\n",
    "soup = BeautifulSoup(html.text, 'lxml')"
   ]
  },
  {
   "cell_type": "code",
   "execution_count": 4,
   "id": "e23df3ea",
   "metadata": {},
   "outputs": [],
   "source": [
    "table = soup.find('table')"
   ]
  },
  {
   "cell_type": "code",
   "execution_count": 5,
   "id": "9da38fc7",
   "metadata": {},
   "outputs": [],
   "source": [
    "rows = table.find_all('tr')"
   ]
  },
  {
   "cell_type": "code",
   "execution_count": 6,
   "id": "0cbd978c",
   "metadata": {},
   "outputs": [],
   "source": [
    "header = [header.text for header in rows[0]]\n"
   ]
  },
  {
   "cell_type": "code",
   "execution_count": 8,
   "id": "db6bd1ca",
   "metadata": {},
   "outputs": [],
   "source": [
    "result = [header]\n",
    "for row in rows:\n",
    "    if len(row.find_all('td'))>0:\n",
    "        result.append([data.text for data in row.find_all('td')])"
   ]
  },
  {
   "cell_type": "code",
   "execution_count": 9,
   "id": "442af460",
   "metadata": {},
   "outputs": [],
   "source": [
    "with open('proxies.csv', 'w', newline='') as csv_file:\n",
    "    writer = csv.writer(csv_file)\n",
    "    writer.writerows(result)"
   ]
  },
  {
   "cell_type": "code",
   "execution_count": null,
   "id": "abd84307",
   "metadata": {},
   "outputs": [],
   "source": []
  }
 ],
 "metadata": {
  "kernelspec": {
   "display_name": "Python 3",
   "language": "python",
   "name": "python3"
  },
  "language_info": {
   "codemirror_mode": {
    "name": "ipython",
    "version": 3
   },
   "file_extension": ".py",
   "mimetype": "text/x-python",
   "name": "python",
   "nbconvert_exporter": "python",
   "pygments_lexer": "ipython3",
   "version": "3.8.8"
  }
 },
 "nbformat": 4,
 "nbformat_minor": 5
}
