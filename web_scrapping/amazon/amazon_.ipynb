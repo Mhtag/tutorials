{
 "cells": [
  {
   "cell_type": "code",
   "execution_count": 2,
   "id": "5ca357b0",
   "metadata": {},
   "outputs": [],
   "source": [
    "import os\n",
    "from selenium import webdriver\n",
    "import requests\n",
    "from bs4 import BeautifulSoup\n",
    "import time"
   ]
  },
  {
   "cell_type": "code",
   "execution_count": 3,
   "id": "5de23ff0",
   "metadata": {},
   "outputs": [],
   "source": [
    "base_url = 'https://www.amazon.com/stores/page/E0960A73-FD40-4EBA-8152-512746435C73'"
   ]
  },
  {
   "cell_type": "code",
   "execution_count": 4,
   "id": "3a90de10",
   "metadata": {},
   "outputs": [],
   "source": [
    "chromedriver = \"C:\\SeleniumDrivers\\chromedriver\"\n",
    "driver = webdriver.Chrome(chromedriver)\n",
    "#driver.maximize_window()\n",
    "driver.implicitly_wait(45)"
   ]
  },
  {
   "cell_type": "code",
   "execution_count": 5,
   "id": "abf226d7",
   "metadata": {},
   "outputs": [],
   "source": [
    "driver.get(base_url)\n",
    "time.sleep(30)"
   ]
  },
  {
   "cell_type": "markdown",
   "id": "8aad8a5d",
   "metadata": {},
   "source": [
    "### codes for testing\n",
    "\n",
    "product_info = driver.find_elements_by_class_name('ProductGridItem__fixed__1w9d4')\n"
   ]
  },
  {
   "cell_type": "markdown",
   "id": "c883f3c5",
   "metadata": {},
   "source": [
    "product_info"
   ]
  },
  {
   "cell_type": "markdown",
   "id": "c09f8e3b",
   "metadata": {},
   "source": [
    "ppp = product_info[0]"
   ]
  },
  {
   "cell_type": "markdown",
   "id": "5ab00a6d",
   "metadata": {},
   "source": [
    "pp1 = ppp.find_elements_by_tag_name('a')[2]\n",
    "pp1"
   ]
  },
  {
   "cell_type": "markdown",
   "id": "71d4a407",
   "metadata": {},
   "source": [
    "pp1.get_property('href')"
   ]
  },
  {
   "cell_type": "markdown",
   "id": "75167beb",
   "metadata": {},
   "source": [
    "product_link = []\n",
    "for elem in product_info:\n",
    "    p_tag = elem.find_elements_by_tag_name('a')[2]\n",
    "    p_link = p_tag.get_property('href')\n",
    "    product_link.append(p_link)\n",
    "print(product_link)"
   ]
  },
  {
   "cell_type": "markdown",
   "id": "f3455afc",
   "metadata": {},
   "source": [
    "len(product_link)"
   ]
  },
  {
   "cell_type": "markdown",
   "id": "2d3ae4b0",
   "metadata": {},
   "source": [
    "button = driver.find_elements_by_css_selector('.style__button__1KJD9')\n",
    "button[0].click()"
   ]
  },
  {
   "cell_type": "code",
   "execution_count": 6,
   "id": "520de041",
   "metadata": {},
   "outputs": [],
   "source": [
    "product_links =[]\n",
    "condition = True\n",
    "while condition:\n",
    "    product_info = driver.find_elements_by_class_name('ProductGridItem__fixed__1w9d4')\n",
    "    for elem in product_info:\n",
    "        p_tag = elem.find_elements_by_tag_name('a')[2]\n",
    "        p_link = p_tag.get_property('href')\n",
    "        if p_link not in product_links:\n",
    "            product_links.append(p_link)\n",
    "    try:\n",
    "        button = driver.find_elements_by_css_selector('.style__button__1KJD9')\n",
    "        button[0].click()\n",
    "        time.sleep(2)\n",
    "    except:\n",
    "        condition = False\n",
    "        "
   ]
  },
  {
   "cell_type": "code",
   "execution_count": 7,
   "id": "0915e82b",
   "metadata": {},
   "outputs": [
    {
     "data": {
      "text/plain": [
       "67"
      ]
     },
     "execution_count": 7,
     "metadata": {},
     "output_type": "execute_result"
    }
   ],
   "source": [
    "len(product_links)"
   ]
  },
  {
   "cell_type": "code",
   "execution_count": null,
   "id": "4d933ea7",
   "metadata": {},
   "outputs": [],
   "source": []
  },
  {
   "cell_type": "code",
   "execution_count": 26,
   "id": "0dd0cb8f",
   "metadata": {},
   "outputs": [],
   "source": [
    "driver.get(product_links[0])"
   ]
  },
  {
   "cell_type": "code",
   "execution_count": 74,
   "id": "77a23c3a",
   "metadata": {},
   "outputs": [
    {
     "data": {
      "text/plain": [
       "'Best Sellers Rank'"
      ]
     },
     "execution_count": 74,
     "metadata": {},
     "output_type": "execute_result"
    }
   ],
   "source": [
    "title = driver.find_element_by_xpath('//*[@id=\"productTitle\"]').text# title\n",
    "ASIN = driver.find_element_by_xpath('//*[@id=\"productDetails_detailBullets_sections1\"]/tbody/tr[1]/td').text           # ASIN\n",
    "Price = driver.find_element_by_xpath('//*[@id=\"priceblock_ourprice\"]').text                                           # price\n",
    "Review = driver.find_element_by_xpath('//*[@id=\"a-popover-content-1\"]/div/div/div/div[1]/span')                                        # review\n",
    "Ranking = driver.find_element_by_xpath('//*[@id=\"productDetails_detailBullets_sections1\"]/tbody/tr[3]/td').text.split('\\n')[0]          # best_seler\n",
    "avv = driver.find_element_by_xpath('//*[@id=\"productDetails_detailBullets_sections1\"]/tbody/tr[2]/th').text\n",
    "\n",
    "driver.find_element_by_xpath('//*[@id=\"productDetails_detailBullets_sections1\"]/tbody/tr[3]/th').text"
   ]
  },
  {
   "cell_type": "code",
   "execution_count": 73,
   "id": "31ed4c31",
   "metadata": {},
   "outputs": [
    {
     "data": {
      "text/plain": [
       "'Customer Reviews'"
      ]
     },
     "execution_count": 73,
     "metadata": {},
     "output_type": "execute_result"
    }
   ],
   "source": [
    "avv"
   ]
  },
  {
   "cell_type": "code",
   "execution_count": 71,
   "id": "76825a11",
   "metadata": {},
   "outputs": [
    {
     "data": {
      "text/plain": [
       "<selenium.webdriver.remote.webelement.WebElement (session=\"fd1381bd41cc0e567b64512c9a5fed61\", element=\"07c0baec-73eb-4afa-b54b-0d9fa7e7e786\")>"
      ]
     },
     "execution_count": 71,
     "metadata": {},
     "output_type": "execute_result"
    }
   ],
   "source": [
    "Review.det"
   ]
  },
  {
   "cell_type": "code",
   "execution_count": 65,
   "id": "9fdbb767",
   "metadata": {},
   "outputs": [],
   "source": [
    "data1 = {\n",
    "    'Title': title,\n",
    "    'ASIN': ASIN,\n",
    "    'Price': Price,\n",
    "    'Review':Review,\n",
    "    'Ranking': Ranking\n",
    "}"
   ]
  },
  {
   "cell_type": "code",
   "execution_count": 66,
   "id": "6ed5de36",
   "metadata": {},
   "outputs": [
    {
     "name": "stdout",
     "output_type": "stream",
     "text": [
      "{'Title': 'HP 15z 15-ef0021n Home and Business Laptop (AMD Ryzen 3 3250U 2-Core, 16GB RAM, 512GB PCIe SSD, 15.6\" HD (1366x768), AMD Radeon Graphics, WiFi, Bluetooth, Webcam, 2xUSB 3.1, Win 10 Home) with USB Hub', 'ASIN': 'B08KQ3KTQ2', 'Price': '$565.00', 'Review': '', 'Ranking': '#26,900 in Computers & Accessories (See Top 100 in Computers & Accessories)'}\n"
     ]
    }
   ],
   "source": [
    "print(data1)"
   ]
  },
  {
   "cell_type": "code",
   "execution_count": 9,
   "id": "5bcfa4a0",
   "metadata": {},
   "outputs": [],
   "source": [
    "import pandas as pd"
   ]
  },
  {
   "cell_type": "code",
   "execution_count": 10,
   "id": "cdb0ee1b",
   "metadata": {},
   "outputs": [
    {
     "name": "stderr",
     "output_type": "stream",
     "text": [
      "  1%|█▏                                                                                 | 1/67 [00:32<36:17, 32.99s/it]"
     ]
    },
    {
     "name": "stdout",
     "output_type": "stream",
     "text": [
      "                                               Title        ASIN    Price  \\\n",
      "0  HP 15z 15-ef0021n Home and Business Laptop (AM...  B08KQ3KTQ2  $565.00   \n",
      "\n",
      "                             Review  \\\n",
      "0  [10 ratings, 5.0 out of 5 stars]   \n",
      "\n",
      "                                             Ranking  \n",
      "0  [#28,199 in Computers & Accessories (See Top 1...  \n"
     ]
    },
    {
     "name": "stderr",
     "output_type": "stream",
     "text": [
      "\r",
      "  3%|██▍                                                                                | 2/67 [00:41<20:17, 18.73s/it]"
     ]
    },
    {
     "name": "stdout",
     "output_type": "stream",
     "text": [
      "                                               Title        ASIN    Price  \\\n",
      "1  HP 17z-cp000 Home & Business Laptop (AMD Athlo...  B098LG3GWB  $549.00   \n",
      "\n",
      "                             Review  \\\n",
      "1  [10 ratings, 5.0 out of 5 stars]   \n",
      "\n",
      "                                             Ranking  \n",
      "1  [#103,569 in Computers & Accessories (See Top ...  \n"
     ]
    },
    {
     "name": "stderr",
     "output_type": "stream",
     "text": [
      "\r",
      "  4%|███▋                                                                               | 3/67 [00:48<14:08, 13.26s/it]"
     ]
    },
    {
     "name": "stdout",
     "output_type": "stream",
     "text": [
      "                                               Title        ASIN    Price  \\\n",
      "2  HP 15z 15-ef0021n Home and Business Laptop (AM...  B08KQ579JX  $599.00   \n",
      "\n",
      "                            Review  \\\n",
      "2  [4 ratings, 3.8 out of 5 stars]   \n",
      "\n",
      "                                             Ranking  \n",
      "2  [#98,753 in Computers & Accessories (See Top 1...  \n"
     ]
    },
    {
     "name": "stderr",
     "output_type": "stream",
     "text": [
      "\r",
      "  6%|████▉                                                                              | 4/67 [01:41<30:17, 28.85s/it]"
     ]
    },
    {
     "name": "stdout",
     "output_type": "stream",
     "text": [
      "                                               Title        ASIN      Price  \\\n",
      "3  ASUS TUF A15 Gaming and Entertainment Laptop (...  B091R84FM3  $1,183.00   \n",
      "\n",
      "                            Review Ranking  \n",
      "3  [4 ratings, 3.8 out of 5 stars]          \n"
     ]
    },
    {
     "name": "stderr",
     "output_type": "stream",
     "text": [
      "\r",
      "  7%|██████▏                                                                            | 5/67 [01:55<24:28, 23.68s/it]"
     ]
    },
    {
     "name": "stdout",
     "output_type": "stream",
     "text": [
      "                                               Title        ASIN      Price  \\\n",
      "4  HP Envy x360 15 Home & Entertainment 2-in-1 Ni...  B08F76PR6K  $1,109.00   \n",
      "\n",
      "                            Review  \\\n",
      "4  [3 ratings, 5.0 out of 5 stars]   \n",
      "\n",
      "                                             Ranking  \n",
      "4  [#154,970 in Computers & Accessories (See Top ...  \n"
     ]
    },
    {
     "name": "stderr",
     "output_type": "stream",
     "text": [
      "\r",
      "  9%|███████▍                                                                           | 6/67 [02:12<21:43, 21.37s/it]"
     ]
    },
    {
     "name": "stdout",
     "output_type": "stream",
     "text": [
      "                                               Title        ASIN      Price  \\\n",
      "5  ASUS ROG Strix GA15 Gaming and Entertainment D...  B089992C7K  $1,431.00   \n",
      "\n",
      "                            Review  \\\n",
      "5  [5 ratings, 5.0 out of 5 stars]   \n",
      "\n",
      "                                             Ranking  \n",
      "5  [#180,814 in Computers & Accessories (See Top ...  \n"
     ]
    },
    {
     "name": "stderr",
     "output_type": "stream",
     "text": [
      "\r",
      " 10%|████████▋                                                                          | 7/67 [02:21<17:26, 17.44s/it]"
     ]
    },
    {
     "name": "stdout",
     "output_type": "stream",
     "text": [
      "                                               Title        ASIN    Price  \\\n",
      "6  HP 14z Home and Business Laptop (AMD AMD 3020e...  B08N6W12QL  $399.00   \n",
      "\n",
      "                            Review  \\\n",
      "6  [3 ratings, 4.6 out of 5 stars]   \n",
      "\n",
      "                                             Ranking  \n",
      "6  [#70,686 in Computers & Accessories (See Top 1...  \n"
     ]
    },
    {
     "name": "stderr",
     "output_type": "stream",
     "text": [
      "\r",
      " 12%|█████████▉                                                                         | 8/67 [02:29<14:06, 14.34s/it]"
     ]
    },
    {
     "name": "stdout",
     "output_type": "stream",
     "text": [
      "                                               Title        ASIN    Price  \\\n",
      "7  Intel NUC NUC10I7FNH Home & Business Desktop M...  B086XLS93Z  $949.00   \n",
      "\n",
      "                            Review  \\\n",
      "7  [2 ratings, 4.7 out of 5 stars]   \n",
      "\n",
      "                                             Ranking  \n",
      "7  [#18,360 in Computers & Accessories (See Top 1...  \n"
     ]
    },
    {
     "name": "stderr",
     "output_type": "stream",
     "text": [
      "\r",
      " 13%|███████████▏                                                                       | 9/67 [03:21<25:10, 26.04s/it]"
     ]
    },
    {
     "name": "stdout",
     "output_type": "stream",
     "text": [
      "                                               Title        ASIN      Price  \\\n",
      "8  Intel NUC 9 NUC9i7QNX Gaming and Entertainment...  B08KPS28D4  $1,554.00   \n",
      "\n",
      "                            Review Ranking  \n",
      "8  [2 ratings, 4.7 out of 5 stars]          \n"
     ]
    },
    {
     "name": "stderr",
     "output_type": "stream",
     "text": [
      "\r",
      " 15%|████████████▏                                                                     | 10/67 [03:29<19:35, 20.62s/it]"
     ]
    },
    {
     "name": "stdout",
     "output_type": "stream",
     "text": [
      "                                               Title        ASIN      Price  \\\n",
      "9  HP Spectre x360-13t 2-in-1 Convertible Laptop ...  B07D7JT9VY  $1,999.11   \n",
      "\n",
      "                            Review  \\\n",
      "9  [2 ratings, 3.9 out of 5 stars]   \n",
      "\n",
      "                                             Ranking  \n",
      "9  [#411,215 in Electronics (See Top 100 in Elect...  \n"
     ]
    },
    {
     "name": "stderr",
     "output_type": "stream",
     "text": [
      "\r",
      " 16%|█████████████▍                                                                    | 11/67 [05:07<41:15, 44.20s/it]"
     ]
    },
    {
     "name": "stdout",
     "output_type": "stream",
     "text": [
      "                                                Title  \\\n",
      "10  HP 23er 23-Inch Full HD 1080p IPS LED Monitor ...   \n",
      "\n",
      "                               ASIN Price                           Review  \\\n",
      "10  749 ratings\\n4.7 out of 5 stars        [2 ratings, 3.9 out of 5 stars]   \n",
      "\n",
      "   Ranking  \n",
      "10          \n"
     ]
    },
    {
     "name": "stderr",
     "output_type": "stream",
     "text": [
      "\r",
      " 18%|██████████████▋                                                                   | 12/67 [05:58<42:30, 46.37s/it]"
     ]
    },
    {
     "name": "stdout",
     "output_type": "stream",
     "text": [
      "                                                Title        ASIN      Price  \\\n",
      "11  Intel NUC 9 NUC9i9QNX Home and Entertainment D...  B08KPSNFJQ  $1,966.00   \n",
      "\n",
      "                             Review Ranking  \n",
      "11  [2 ratings, 3.9 out of 5 stars]          \n"
     ]
    },
    {
     "name": "stderr",
     "output_type": "stream",
     "text": [
      "\r",
      " 19%|███████████████▉                                                                  | 13/67 [06:51<43:18, 48.13s/it]"
     ]
    },
    {
     "name": "stdout",
     "output_type": "stream",
     "text": [
      "                                                Title        ASIN    Price  \\\n",
      "12  HP 11a Chromebook School and Business Laptop B...  B091DSSC1D  $205.00   \n",
      "\n",
      "                             Review Ranking  \n",
      "12  [2 ratings, 3.9 out of 5 stars]          \n"
     ]
    },
    {
     "name": "stderr",
     "output_type": "stream",
     "text": [
      "\r",
      " 21%|█████████████████▏                                                                | 14/67 [07:44<43:58, 49.77s/it]"
     ]
    },
    {
     "name": "stdout",
     "output_type": "stream",
     "text": [
      "                                                Title        ASIN    Price  \\\n",
      "13  HP Chromebook x360 14b-ca Home and Business La...  B091CYYZ3K  $514.00   \n",
      "\n",
      "                             Review Ranking  \n",
      "13  [2 ratings, 3.9 out of 5 stars]          \n"
     ]
    },
    {
     "name": "stderr",
     "output_type": "stream",
     "text": [
      "\r",
      " 22%|██████████████████▎                                                               | 15/67 [08:37<43:53, 50.65s/it]"
     ]
    },
    {
     "name": "stdout",
     "output_type": "stream",
     "text": [
      "                                                Title        ASIN    Price  \\\n",
      "14  HP 15 - ef1010nr nt Home and Business Laptop (...  B0917S3FGK  $617.00   \n",
      "\n",
      "                             Review Ranking  \n",
      "14  [2 ratings, 3.9 out of 5 stars]          \n"
     ]
    },
    {
     "name": "stderr",
     "output_type": "stream",
     "text": [
      "\r",
      " 24%|███████████████████▌                                                              | 16/67 [09:28<43:17, 50.93s/it]"
     ]
    },
    {
     "name": "stdout",
     "output_type": "stream",
     "text": [
      "                                                Title        ASIN    Price  \\\n",
      "15  MSI Modern Home & Business Laptop (Intel i3-10...  B098MSG7FL  $729.00   \n",
      "\n",
      "                             Review Ranking  \n",
      "15  [2 ratings, 3.9 out of 5 stars]          \n"
     ]
    },
    {
     "name": "stderr",
     "output_type": "stream",
     "text": [
      "\r",
      " 25%|████████████████████▊                                                             | 17/67 [10:19<42:24, 50.89s/it]"
     ]
    },
    {
     "name": "stdout",
     "output_type": "stream",
     "text": [
      "                                                Title        ASIN    Price  \\\n",
      "16  HP 17-cn Home & Business Laptop Natural Silver...  B097S1TWPL  $769.00   \n",
      "\n",
      "                             Review Ranking  \n",
      "16  [2 ratings, 3.9 out of 5 stars]          \n"
     ]
    },
    {
     "name": "stderr",
     "output_type": "stream",
     "text": [
      "\r",
      " 27%|██████████████████████                                                            | 18/67 [11:11<41:47, 51.17s/it]"
     ]
    },
    {
     "name": "stdout",
     "output_type": "stream",
     "text": [
      "                                                Title        ASIN    Price  \\\n",
      "17  ASUS Vivobook 14 Home & Business Laptop (Intel...  B097S4G272  $869.00   \n",
      "\n",
      "                             Review Ranking  \n",
      "17  [2 ratings, 3.9 out of 5 stars]          \n"
     ]
    },
    {
     "name": "stderr",
     "output_type": "stream",
     "text": [
      "\r",
      " 28%|███████████████████████▎                                                          | 19/67 [12:02<40:50, 51.06s/it]"
     ]
    },
    {
     "name": "stdout",
     "output_type": "stream",
     "text": [
      "                                                Title        ASIN    Price  \\\n",
      "18  MSI GF63 Gaming & Entertainment Laptop (Intel ...  B0995CRNDY  $899.00   \n",
      "\n",
      "                             Review Ranking  \n",
      "18  [2 ratings, 3.9 out of 5 stars]          \n"
     ]
    },
    {
     "name": "stderr",
     "output_type": "stream",
     "text": [
      "\r",
      " 30%|████████████████████████▍                                                         | 20/67 [13:38<50:39, 64.68s/it]"
     ]
    },
    {
     "name": "stdout",
     "output_type": "stream",
     "text": [
      "                                                Title        ASIN Price  \\\n",
      "19  Intel NUC Kit NUC10I3FNK Business Desktop Mini...  B097NML8WP         \n",
      "\n",
      "                             Review Ranking  \n",
      "19  [2 ratings, 3.9 out of 5 stars]          \n"
     ]
    },
    {
     "name": "stderr",
     "output_type": "stream",
     "text": [
      "\r",
      " 31%|█████████████████████████▋                                                        | 21/67 [14:28<46:09, 60.21s/it]"
     ]
    },
    {
     "name": "stdout",
     "output_type": "stream",
     "text": [
      "                                                Title        ASIN    Price  \\\n",
      "20  HP 15-dy 2021 Home & Business Laptop (Intel i5...  B097FCQZYP  $919.00   \n",
      "\n",
      "                             Review Ranking  \n",
      "20  [2 ratings, 3.9 out of 5 stars]          \n"
     ]
    },
    {
     "name": "stderr",
     "output_type": "stream",
     "text": [
      "\r",
      " 33%|██████████████████████████▉                                                       | 22/67 [15:18<42:50, 57.11s/it]"
     ]
    },
    {
     "name": "stdout",
     "output_type": "stream",
     "text": [
      "                                                Title        ASIN    Price  \\\n",
      "21  HP 17z-cp000 Home & Business Laptop Jet Black ...  B0993TFNLG  $919.00   \n",
      "\n",
      "                             Review Ranking  \n",
      "21  [2 ratings, 3.9 out of 5 stars]          \n"
     ]
    },
    {
     "name": "stderr",
     "output_type": "stream",
     "text": [
      "\r",
      " 34%|████████████████████████████▏                                                     | 23/67 [16:09<40:26, 55.15s/it]"
     ]
    },
    {
     "name": "stdout",
     "output_type": "stream",
     "text": [
      "                                                Title        ASIN    Price  \\\n",
      "22  HP 15-dy HD Home and Business Laptop (Intel i3...  B08ZNW36LN  $926.00   \n",
      "\n",
      "                             Review Ranking  \n",
      "22  [2 ratings, 3.9 out of 5 stars]          \n"
     ]
    },
    {
     "name": "stderr",
     "output_type": "stream",
     "text": [
      "\r",
      " 36%|█████████████████████████████▎                                                    | 24/67 [16:58<38:17, 53.43s/it]"
     ]
    },
    {
     "name": "stdout",
     "output_type": "stream",
     "text": [
      "                                                Title        ASIN    Price  \\\n",
      "23  HP 14s-fq 14 Home and Business Laptop (AMD Ath...  B093X4QJD7  $959.00   \n",
      "\n",
      "                             Review Ranking  \n",
      "23  [2 ratings, 3.9 out of 5 stars]          \n"
     ]
    },
    {
     "name": "stderr",
     "output_type": "stream",
     "text": [
      "\r",
      " 37%|██████████████████████████████▌                                                   | 25/67 [17:55<38:15, 54.65s/it]"
     ]
    },
    {
     "name": "stdout",
     "output_type": "stream",
     "text": [
      "                                                Title        ASIN    Price  \\\n",
      "24  ASUS VivoBook 15 S513 Home & Business Laptop (...  B097KM2Q6Y  $961.59   \n",
      "\n",
      "                             Review Ranking  \n",
      "24  [2 ratings, 3.9 out of 5 stars]          \n"
     ]
    },
    {
     "name": "stderr",
     "output_type": "stream",
     "text": [
      "\r",
      " 39%|███████████████████████████████▊                                                  | 26/67 [18:02<27:29, 40.23s/it]"
     ]
    },
    {
     "name": "stdout",
     "output_type": "stream",
     "text": [
      "                                                Title        ASIN    Price  \\\n",
      "25  HP 15-dy2021nr i7Touch Home & Business Laptop ...  B094YJSVLW  $991.47   \n",
      "\n",
      "                             Review  \\\n",
      "25  [2 ratings, 3.9 out of 5 stars]   \n",
      "\n",
      "                                              Ranking  \n",
      "25  [#274,424 in Computers & Accessories (See Top ...  \n"
     ]
    },
    {
     "name": "stderr",
     "output_type": "stream",
     "text": [
      "\r",
      " 40%|█████████████████████████████████                                                 | 27/67 [18:51<28:37, 42.94s/it]"
     ]
    },
    {
     "name": "stdout",
     "output_type": "stream",
     "text": [
      "                                                Title        ASIN      Price  \\\n",
      "26  HP 15-ef FHD Home and Business Laptop (AMD Ryz...  B092ZY7565  $1,031.17   \n",
      "\n",
      "                             Review Ranking  \n",
      "26  [2 ratings, 3.9 out of 5 stars]          \n"
     ]
    },
    {
     "name": "stderr",
     "output_type": "stream",
     "text": [
      "\r",
      " 42%|██████████████████████████████████▎                                               | 28/67 [19:42<29:20, 45.13s/it]"
     ]
    },
    {
     "name": "stdout",
     "output_type": "stream",
     "text": [
      "                                                Title        ASIN      Price  \\\n",
      "27  HP 15t-dw300 Home & Business Laptop (Intel i5-...  B097QC56C2  $1,069.00   \n",
      "\n",
      "                             Review Ranking  \n",
      "27  [2 ratings, 3.9 out of 5 stars]          \n"
     ]
    },
    {
     "name": "stderr",
     "output_type": "stream",
     "text": [
      "\r",
      " 43%|███████████████████████████████████▍                                              | 29/67 [20:33<29:43, 46.93s/it]"
     ]
    },
    {
     "name": "stdout",
     "output_type": "stream",
     "text": [
      "                                                Title        ASIN      Price  \\\n",
      "28  ASUS ZenBook 14 Home and Business Laptop (AMD ...  B093X646HQ  $1,149.00   \n",
      "\n",
      "                             Review Ranking  \n",
      "28  [2 ratings, 3.9 out of 5 stars]          \n"
     ]
    },
    {
     "name": "stderr",
     "output_type": "stream",
     "text": [
      "\r",
      " 45%|████████████████████████████████████▋                                             | 30/67 [21:22<29:24, 47.68s/it]"
     ]
    },
    {
     "name": "stdout",
     "output_type": "stream",
     "text": [
      "                                                Title        ASIN      Price  \\\n",
      "29  HP 17t-cn000 Home & Business Laptop (Intel i5-...  B097K61GSW  $1,199.00   \n",
      "\n",
      "                             Review Ranking  \n",
      "29  [2 ratings, 3.9 out of 5 stars]          \n"
     ]
    },
    {
     "name": "stderr",
     "output_type": "stream",
     "text": [
      "\r",
      " 46%|█████████████████████████████████████▉                                            | 31/67 [22:13<29:07, 48.55s/it]"
     ]
    },
    {
     "name": "stdout",
     "output_type": "stream",
     "text": [
      "                                                Title        ASIN      Price  \\\n",
      "30  HP 17z-cp000 Home & Business Laptop Jet Black ...  B098LGS1GV  $1,219.00   \n",
      "\n",
      "                             Review Ranking  \n",
      "30  [2 ratings, 3.9 out of 5 stars]          \n"
     ]
    },
    {
     "name": "stderr",
     "output_type": "stream",
     "text": [
      "\r",
      " 48%|███████████████████████████████████████▏                                          | 32/67 [23:03<28:35, 49.01s/it]"
     ]
    },
    {
     "name": "stdout",
     "output_type": "stream",
     "text": [
      "                                                Title        ASIN      Price  \\\n",
      "31  Intel NUC 10 NUC10i7FNKN Home & Business Deskt...  B098LCSFSG  $1,329.00   \n",
      "\n",
      "                             Review Ranking  \n",
      "31  [2 ratings, 3.9 out of 5 stars]          \n"
     ]
    },
    {
     "name": "stderr",
     "output_type": "stream",
     "text": [
      "\r",
      " 49%|████████████████████████████████████████▍                                         | 33/67 [23:10<20:35, 36.35s/it]"
     ]
    },
    {
     "name": "stdout",
     "output_type": "stream",
     "text": [
      "                                                Title        ASIN      Price  \\\n",
      "32  HP Envy x360-15t Home and Business Laptop (Int...  B091KDF13W  $1,235.00   \n",
      "\n",
      "                             Review  \\\n",
      "32  [2 ratings, 3.9 out of 5 stars]   \n",
      "\n",
      "                                              Ranking  \n",
      "32  [#107,135 in Computers & Accessories (See Top ...  \n"
     ]
    },
    {
     "name": "stderr",
     "output_type": "stream",
     "text": [
      "\r",
      " 51%|█████████████████████████████████████████▌                                        | 34/67 [23:59<22:08, 40.26s/it]"
     ]
    },
    {
     "name": "stdout",
     "output_type": "stream",
     "text": [
      "                                                Title        ASIN      Price  \\\n",
      "33  Intel NUC 10 NUC10i7FNHN Home & Business Deskt...  B099245Q2K  $1,239.00   \n",
      "\n",
      "                             Review Ranking  \n",
      "33  [2 ratings, 3.9 out of 5 stars]          \n"
     ]
    },
    {
     "name": "stderr",
     "output_type": "stream",
     "text": [
      "\r",
      " 52%|██████████████████████████████████████████▊                                       | 35/67 [24:50<23:12, 43.52s/it]"
     ]
    },
    {
     "name": "stdout",
     "output_type": "stream",
     "text": [
      "                                                Title        ASIN      Price  \\\n",
      "34  ASUS VivoBook 17 Home & Business Laptop (Intel...  B097LL5FVK  $1,259.00   \n",
      "\n",
      "                             Review Ranking  \n",
      "34  [2 ratings, 3.9 out of 5 stars]          \n"
     ]
    },
    {
     "name": "stderr",
     "output_type": "stream",
     "text": [
      "\r",
      " 54%|████████████████████████████████████████████                                      | 36/67 [24:58<16:57, 32.82s/it]"
     ]
    },
    {
     "name": "stdout",
     "output_type": "stream",
     "text": [
      "                                                Title        ASIN      Price  \\\n",
      "35  HP Envy x360 15t Home and Business Laptop 2-in...  B0918LB4D4  $1,387.97   \n",
      "\n",
      "                             Review  \\\n",
      "35  [2 ratings, 3.9 out of 5 stars]   \n",
      "\n",
      "                                              Ranking  \n",
      "35  [#116,178 in Computers & Accessories (See Top ...  \n"
     ]
    },
    {
     "name": "stderr",
     "output_type": "stream",
     "text": [
      "\r",
      " 55%|█████████████████████████████████████████████▎                                    | 37/67 [25:50<19:20, 38.70s/it]"
     ]
    },
    {
     "name": "stdout",
     "output_type": "stream",
     "text": [
      "                                                Title        ASIN      Price  \\\n",
      "36  HP Envy 17t CG Home and Business Laptop (Intel...  B0918L7KNG  $1,389.00   \n",
      "\n",
      "                             Review Ranking  \n",
      "36  [2 ratings, 3.9 out of 5 stars]          \n"
     ]
    },
    {
     "name": "stderr",
     "output_type": "stream",
     "text": [
      "\r",
      " 57%|██████████████████████████████████████████████▌                                   | 38/67 [26:42<20:30, 42.45s/it]"
     ]
    },
    {
     "name": "stdout",
     "output_type": "stream",
     "text": [
      "                                                Title        ASIN      Price  \\\n",
      "37  ASUS VivoBook S17 S712 Home & Business Laptop ...  B0965KGG96  $1,549.00   \n",
      "\n",
      "                             Review Ranking  \n",
      "37  [2 ratings, 3.9 out of 5 stars]          \n"
     ]
    },
    {
     "name": "stderr",
     "output_type": "stream",
     "text": [
      "\r",
      " 58%|███████████████████████████████████████████████▋                                  | 39/67 [27:32<20:52, 44.73s/it]"
     ]
    },
    {
     "name": "stdout",
     "output_type": "stream",
     "text": [
      "                                                Title        ASIN      Price  \\\n",
      "38  HP Envy 17t-cg 4K Home and Business Laptop (In...  B0918R41XF  $1,647.00   \n",
      "\n",
      "                             Review Ranking  \n",
      "38  [2 ratings, 3.9 out of 5 stars]          \n"
     ]
    },
    {
     "name": "stderr",
     "output_type": "stream",
     "text": [
      "\r",
      " 60%|████████████████████████████████████████████████▉                                 | 40/67 [28:22<20:57, 46.56s/it]"
     ]
    },
    {
     "name": "stdout",
     "output_type": "stream",
     "text": [
      "                                                Title        ASIN      Price  \\\n",
      "39  MSI Aegis SE 10th Desktop PC Black (Intel i5-1...  B096MPKZ3T  $1,649.00   \n",
      "\n",
      "                             Review Ranking  \n",
      "39  [2 ratings, 3.9 out of 5 stars]          \n"
     ]
    },
    {
     "name": "stderr",
     "output_type": "stream",
     "text": [
      "\r",
      " 61%|██████████████████████████████████████████████████▏                               | 41/67 [29:17<21:10, 48.85s/it]"
     ]
    },
    {
     "name": "stdout",
     "output_type": "stream",
     "text": [
      "                                                Title        ASIN      Price  \\\n",
      "40  ASUS ROG Zephyrus Gaming and Entertainment Lap...  B092SFDSC8  $1,719.00   \n",
      "\n",
      "                             Review Ranking  \n",
      "40  [2 ratings, 3.9 out of 5 stars]          \n"
     ]
    },
    {
     "name": "stderr",
     "output_type": "stream",
     "text": [
      "\r",
      " 63%|███████████████████████████████████████████████████▍                              | 42/67 [30:07<20:30, 49.23s/it]"
     ]
    },
    {
     "name": "stdout",
     "output_type": "stream",
     "text": [
      "                                                Title        ASIN      Price  \\\n",
      "41  HP 15-dy2021nr-Plus Home & Business Laptop (In...  B096475XXC  $1,757.87   \n",
      "\n",
      "                             Review Ranking  \n",
      "41  [2 ratings, 3.9 out of 5 stars]          \n"
     ]
    },
    {
     "name": "stderr",
     "output_type": "stream",
     "text": [
      "\r",
      " 64%|████████████████████████████████████████████████████▋                             | 43/67 [30:57<19:48, 49.51s/it]"
     ]
    },
    {
     "name": "stdout",
     "output_type": "stream",
     "text": [
      "                                                Title        ASIN      Price  \\\n",
      "42  HP 15-dy FHD Home & Business Laptop (Intel i5-...  B097NJP7ML  $1,769.00   \n",
      "\n",
      "                             Review Ranking  \n",
      "42  [2 ratings, 3.9 out of 5 stars]          \n"
     ]
    },
    {
     "name": "stderr",
     "output_type": "stream",
     "text": [
      "\r",
      " 66%|█████████████████████████████████████████████████████▊                            | 44/67 [31:51<19:28, 50.81s/it]"
     ]
    },
    {
     "name": "stdout",
     "output_type": "stream",
     "text": [
      "                                                Title        ASIN      Price  \\\n",
      "43  HP 15-dy2021nr 15 WLED Home & Business Laptop ...  B098XPT4S6  $1,769.00   \n",
      "\n",
      "                             Review Ranking  \n",
      "43  [2 ratings, 3.9 out of 5 stars]          \n"
     ]
    },
    {
     "name": "stderr",
     "output_type": "stream",
     "text": [
      "\r",
      " 67%|███████████████████████████████████████████████████████                           | 45/67 [32:41<18:34, 50.66s/it]"
     ]
    },
    {
     "name": "stdout",
     "output_type": "stream",
     "text": [
      "                                                Title        ASIN      Price  \\\n",
      "44  HP 15z-ef Home & Business Laptop (AMD Ryzen 7 ...  B097F9XDXJ  $1,819.00   \n",
      "\n",
      "                             Review Ranking  \n",
      "44  [2 ratings, 3.9 out of 5 stars]          \n"
     ]
    },
    {
     "name": "stderr",
     "output_type": "stream",
     "text": [
      "\r",
      " 69%|████████████████████████████████████████████████████████▎                         | 46/67 [33:31<17:40, 50.50s/it]"
     ]
    },
    {
     "name": "stdout",
     "output_type": "stream",
     "text": [
      "                                                Title        ASIN      Price  \\\n",
      "45  HP 15t-dw300 Home & Business Laptop (Intel i7-...  B097JPW1YJ  $1,859.00   \n",
      "\n",
      "                             Review Ranking  \n",
      "45  [2 ratings, 3.9 out of 5 stars]          \n"
     ]
    },
    {
     "name": "stderr",
     "output_type": "stream",
     "text": [
      "\r",
      " 70%|█████████████████████████████████████████████████████████▌                        | 47/67 [34:23<16:54, 50.75s/it]"
     ]
    },
    {
     "name": "stdout",
     "output_type": "stream",
     "text": [
      "                                                Title        ASIN      Price  \\\n",
      "46  HP 17t- Home & Business Laptop (Intel i7-1165G...  B09649BP4S  $1,919.00   \n",
      "\n",
      "                             Review Ranking  \n",
      "46  [2 ratings, 3.9 out of 5 stars]          \n"
     ]
    },
    {
     "name": "stderr",
     "output_type": "stream",
     "text": [
      "\r",
      " 72%|██████████████████████████████████████████████████████████▋                       | 48/67 [35:12<15:57, 50.42s/it]"
     ]
    },
    {
     "name": "stdout",
     "output_type": "stream",
     "text": [
      "                                                Title        ASIN      Price  \\\n",
      "47  MSI Modern AM241P FHD Home & Business All-in-O...  B096S9XLDK  $2,020.47   \n",
      "\n",
      "                             Review Ranking  \n",
      "47  [2 ratings, 3.9 out of 5 stars]          \n"
     ]
    },
    {
     "name": "stderr",
     "output_type": "stream",
     "text": [
      "\r",
      " 73%|███████████████████████████████████████████████████████████▉                      | 49/67 [36:04<15:15, 50.84s/it]"
     ]
    },
    {
     "name": "stdout",
     "output_type": "stream",
     "text": [
      "                                                Title        ASIN      Price  \\\n",
      "48  ASUS VivoBook 15 S513 Home & Business Laptop (...  B097K8H447  $2,028.28   \n",
      "\n",
      "                             Review Ranking  \n",
      "48  [2 ratings, 3.9 out of 5 stars]          \n"
     ]
    },
    {
     "name": "stderr",
     "output_type": "stream",
     "text": [
      "\r",
      " 75%|█████████████████████████████████████████████████████████████▏                    | 50/67 [36:54<14:20, 50.59s/it]"
     ]
    },
    {
     "name": "stdout",
     "output_type": "stream",
     "text": [
      "                                                Title        ASIN      Price  \\\n",
      "49  MSI GE66 Raider 10SF-285 Gaming and Entertainm...  B08LY9MVMY  $2,059.00   \n",
      "\n",
      "                             Review Ranking  \n",
      "49  [2 ratings, 3.9 out of 5 stars]          \n"
     ]
    },
    {
     "name": "stderr",
     "output_type": "stream",
     "text": [
      "\r",
      " 76%|██████████████████████████████████████████████████████████████▍                   | 51/67 [37:45<13:29, 50.59s/it]"
     ]
    },
    {
     "name": "stdout",
     "output_type": "stream",
     "text": [
      "                                                Title        ASIN      Price  \\\n",
      "50  ASUS TUF A15 Gaming and Entertainment Laptop (...  B091R8VZDN  $2,110.00   \n",
      "\n",
      "                             Review Ranking  \n",
      "50  [2 ratings, 3.9 out of 5 stars]          \n"
     ]
    },
    {
     "name": "stderr",
     "output_type": "stream",
     "text": [
      "\r",
      " 78%|███████████████████████████████████████████████████████████████▋                  | 52/67 [38:34<12:33, 50.24s/it]"
     ]
    },
    {
     "name": "stdout",
     "output_type": "stream",
     "text": [
      "                                                Title        ASIN      Price  \\\n",
      "51  MSI Modern AM241P Home & Business All-in-One B...  B096KV8ZSK  $2,168.97   \n",
      "\n",
      "                             Review Ranking  \n",
      "51  [2 ratings, 3.9 out of 5 stars]          \n"
     ]
    },
    {
     "name": "stderr",
     "output_type": "stream",
     "text": [
      "\r",
      " 79%|████████████████████████████████████████████████████████████████▊                 | 53/67 [38:41<08:43, 37.40s/it]"
     ]
    },
    {
     "name": "stdout",
     "output_type": "stream",
     "text": [
      "                                                Title        ASIN      Price  \\\n",
      "52  ASUS Zephyrus M16 GU603HM WQXGA 165Hz Gaming L...  B098MSXB4F  $2,299.00   \n",
      "\n",
      "                             Review  \\\n",
      "52  [2 ratings, 3.9 out of 5 stars]   \n",
      "\n",
      "                                              Ranking  \n",
      "52  [#174,820 in Computers & Accessories (See Top ...  \n"
     ]
    },
    {
     "name": "stderr",
     "output_type": "stream",
     "text": [
      "\r",
      " 81%|██████████████████████████████████████████████████████████████████                | 54/67 [39:32<08:56, 41.27s/it]"
     ]
    },
    {
     "name": "stdout",
     "output_type": "stream",
     "text": [
      "                                                Title        ASIN      Price  \\\n",
      "53  Gigabyte AERO 15 OLED Gaming & Entertainment L...  B098LQ5W2S  $2,258.97   \n",
      "\n",
      "                             Review Ranking  \n",
      "53  [2 ratings, 3.9 out of 5 stars]          \n"
     ]
    },
    {
     "name": "stderr",
     "output_type": "stream",
     "text": [
      "\r",
      " 82%|███████████████████████████████████████████████████████████████████▎              | 55/67 [40:23<08:49, 44.14s/it]"
     ]
    },
    {
     "name": "stdout",
     "output_type": "stream",
     "text": [
      "                                                Title        ASIN      Price  \\\n",
      "54  HP OMEN 15-en1013dx-plus Gaming & Entertainmen...  B099PNVC7N  $2,414.00   \n",
      "\n",
      "                             Review Ranking  \n",
      "54  [2 ratings, 3.9 out of 5 stars]          \n"
     ]
    },
    {
     "name": "stderr",
     "output_type": "stream",
     "text": [
      "\r",
      " 84%|████████████████████████████████████████████████████████████████████▌             | 56/67 [41:14<08:31, 46.46s/it]"
     ]
    },
    {
     "name": "stdout",
     "output_type": "stream",
     "text": [
      "                                                Title        ASIN      Price  \\\n",
      "55  HP Z2 G5 Mini Workstation Desktop Mini Black (...  B0917NF88F  $2,316.00   \n",
      "\n",
      "                             Review Ranking  \n",
      "55  [2 ratings, 3.9 out of 5 stars]          \n"
     ]
    },
    {
     "name": "stderr",
     "output_type": "stream",
     "text": [
      "\r",
      " 85%|█████████████████████████████████████████████████████████████████████▊            | 57/67 [42:05<07:57, 47.76s/it]"
     ]
    },
    {
     "name": "stdout",
     "output_type": "stream",
     "text": [
      "                                                Title        ASIN      Price  \\\n",
      "56  Intel NUC Kit NUC8i7HNKQC Home & Entertainment...  B0965LKBP3  $2,449.00   \n",
      "\n",
      "                             Review Ranking  \n",
      "56  [2 ratings, 3.9 out of 5 stars]          \n"
     ]
    },
    {
     "name": "stderr",
     "output_type": "stream",
     "text": [
      "\r",
      " 87%|██████████████████████████████████████████████████████████████████████▉           | 58/67 [42:58<07:22, 49.14s/it]"
     ]
    },
    {
     "name": "stdout",
     "output_type": "stream",
     "text": [
      "                                                Title        ASIN      Price  \\\n",
      "57  ASUS ZenBook 15 Home and Entertainment Laptop ...  B0933BJSYD  $2,519.99   \n",
      "\n",
      "                             Review Ranking  \n",
      "57  [2 ratings, 3.9 out of 5 stars]          \n"
     ]
    },
    {
     "name": "stderr",
     "output_type": "stream",
     "text": [
      "\r",
      " 88%|████████████████████████████████████████████████████████████████████████▏         | 59/67 [43:49<06:38, 49.77s/it]"
     ]
    },
    {
     "name": "stdout",
     "output_type": "stream",
     "text": [
      "                                                Title        ASIN      Price  \\\n",
      "58  ASUS ZenBook Duo 14 Home and Business Laptop (...  B094J2SXSM  $2,579.00   \n",
      "\n",
      "                             Review Ranking  \n",
      "58  [2 ratings, 3.9 out of 5 stars]          \n"
     ]
    },
    {
     "name": "stderr",
     "output_type": "stream",
     "text": [
      "\r",
      " 90%|█████████████████████████████████████████████████████████████████████████▍        | 60/67 [44:40<05:52, 50.32s/it]"
     ]
    },
    {
     "name": "stdout",
     "output_type": "stream",
     "text": [
      "                                                Title        ASIN      Price  \\\n",
      "59  MSI Codex R Desktop PC Black (Intel i5-10400F ...  B0926Y51GZ  $3,032.37   \n",
      "\n",
      "                             Review Ranking  \n",
      "59  [2 ratings, 3.9 out of 5 stars]          \n"
     ]
    },
    {
     "name": "stderr",
     "output_type": "stream",
     "text": [
      "\r",
      " 91%|██████████████████████████████████████████████████████████████████████████▋       | 61/67 [45:32<05:03, 50.56s/it]"
     ]
    },
    {
     "name": "stdout",
     "output_type": "stream",
     "text": [
      "                                                Title        ASIN      Price  \\\n",
      "60  ASUS ROG Scar 15 Gaming & Entertainment Laptop...  B0994HH4FS  $3,179.00   \n",
      "\n",
      "                             Review Ranking  \n",
      "60  [2 ratings, 3.9 out of 5 stars]          \n"
     ]
    },
    {
     "name": "stderr",
     "output_type": "stream",
     "text": [
      "\r",
      " 93%|███████████████████████████████████████████████████████████████████████████▉      | 62/67 [46:24<04:16, 51.22s/it]"
     ]
    },
    {
     "name": "stdout",
     "output_type": "stream",
     "text": [
      "                                                Title        ASIN      Price  \\\n",
      "61  Gigabyte AERO 15 OLED Gaming & Entertainment L...  B097KJVCHX  $3,149.00   \n",
      "\n",
      "                             Review Ranking  \n",
      "61  [2 ratings, 3.9 out of 5 stars]          \n"
     ]
    },
    {
     "name": "stderr",
     "output_type": "stream",
     "text": [
      "\r",
      " 94%|█████████████████████████████████████████████████████████████████████████████     | 63/67 [47:17<03:26, 51.67s/it]"
     ]
    },
    {
     "name": "stdout",
     "output_type": "stream",
     "text": [
      "                                                Title        ASIN      Price  \\\n",
      "62  MSI GE66 Raider Gaming & Entertainment Laptop ...  B097HM4W9V  $3,803.97   \n",
      "\n",
      "                             Review Ranking  \n",
      "62  [2 ratings, 3.9 out of 5 stars]          \n"
     ]
    },
    {
     "name": "stderr",
     "output_type": "stream",
     "text": [
      "\r",
      " 96%|██████████████████████████████████████████████████████████████████████████████▎   | 64/67 [48:09<02:34, 51.65s/it]"
     ]
    },
    {
     "name": "stdout",
     "output_type": "stream",
     "text": [
      "                                                Title        ASIN      Price  \\\n",
      "63  HP OMEN GT13 Gaming & Business Desktop PC (AMD...  B098MSW5MN  $3,860.00   \n",
      "\n",
      "                             Review Ranking  \n",
      "63  [2 ratings, 3.9 out of 5 stars]          \n"
     ]
    },
    {
     "name": "stderr",
     "output_type": "stream",
     "text": [
      "\r",
      " 97%|███████████████████████████████████████████████████████████████████████████████▌  | 65/67 [49:00<01:43, 51.55s/it]"
     ]
    },
    {
     "name": "stdout",
     "output_type": "stream",
     "text": [
      "                                                Title        ASIN      Price  \\\n",
      "64  ASUS ROG Zephyrus Duo SE 15 Gaming and Enterta...  B094HZYLG8  $4,554.99   \n",
      "\n",
      "                             Review Ranking  \n",
      "64  [2 ratings, 3.9 out of 5 stars]          \n"
     ]
    },
    {
     "name": "stderr",
     "output_type": "stream",
     "text": [
      "\r",
      " 99%|████████████████████████████████████████████████████████████████████████████████▊ | 66/67 [49:08<00:38, 38.47s/it]"
     ]
    },
    {
     "name": "stdout",
     "output_type": "stream",
     "text": [
      "                                                Title        ASIN      Price  \\\n",
      "65  Lenovo IdeaPad 330 Home and Business Laptop (I...  B07V2BDR4F  $1,338.00   \n",
      "\n",
      "                             Review  \\\n",
      "65  [2 ratings, 3.9 out of 5 stars]   \n",
      "\n",
      "                                              Ranking  \n",
      "65  [#420,306 in Computers & Accessories (See Top ...  \n"
     ]
    },
    {
     "name": "stderr",
     "output_type": "stream",
     "text": [
      "100%|██████████████████████████████████████████████████████████████████████████████████| 67/67 [49:14<00:00, 44.10s/it]"
     ]
    },
    {
     "name": "stdout",
     "output_type": "stream",
     "text": [
      "                                                Title        ASIN      Price  \\\n",
      "66  Lenovo IdeaPad 330 Home and Business Laptop (I...  B07V4GHG64  $1,132.00   \n",
      "\n",
      "                             Review  \\\n",
      "66  [2 ratings, 3.9 out of 5 stars]   \n",
      "\n",
      "                                              Ranking  \n",
      "66  [#362,366 in Computers & Accessories (See Top ...  \n"
     ]
    },
    {
     "name": "stderr",
     "output_type": "stream",
     "text": [
      "\n"
     ]
    }
   ],
   "source": [
    "from tqdm import tqdm\n",
    "df = pd.DataFrame(columns = ['Title', 'ASIN', 'Price', 'Review','Ranking'])\n",
    "for link in tqdm(product_links):\n",
    "    driver.get(link)\n",
    "    title = driver.find_element_by_xpath('//*[@id=\"productTitle\"]').text                                                    \n",
    "    ASIN = driver.find_element_by_xpath('//*[@id=\"productDetails_detailBullets_sections1\"]/tbody/tr[1]/td').text         \n",
    "    try:\n",
    "        Price = driver.find_element_by_xpath('//*[@id=\"priceblock_ourprice\"]').text\n",
    "    except:\n",
    "        Price = ''\n",
    "    try:\n",
    "        if driver.find_element_by_xpath('//*[@id=\"productDetails_detailBullets_sections1\"]/tbody/tr[2]/th').text == 'Customer Reviews':\n",
    "            Review = driver.find_element_by_xpath('//*[@id=\"productDetails_detailBullets_sections1\"]/tbody/tr[2]/td').text.split('\\n')\n",
    "    except:\n",
    "        Review = ''\n",
    "    try: \n",
    "        if driver.find_element_by_xpath('//*[@id=\"productDetails_detailBullets_sections1\"]/tbody/tr[3]/th').text == 'Best Sellers Rank':\n",
    "            Ranking = driver.find_element_by_xpath('//*[@id=\"productDetails_detailBullets_sections1\"]/tbody/tr[3]/td').text.split('\\n')\n",
    "        elif driver.find_element_by_xpath('//*[@id=\"productDetails_detailBullets_sections1\"]/tbody/tr[2]/th').text == 'Best Sellers Rank':\n",
    "            Ranking = driver.find_element_by_xpath('//*[@id=\"productDetails_detailBullets_sections1\"]/tbody/tr[2]/td').text.split('\\n')\n",
    "    except:\n",
    "        Ranking = ''\n",
    "    product_details = {\n",
    "        'Title': title,\n",
    "        'ASIN': ASIN,\n",
    "        'Price': Price,\n",
    "        'Review':Review,\n",
    "        'Ranking': Ranking\n",
    "    }\n",
    "    df = df.append(product_details, ignore_index = True)\n",
    "\n",
    "    print(df.tail(1))\n",
    "    \n",
    "df.to_excel('products.xlsx')"
   ]
  },
  {
   "cell_type": "code",
   "execution_count": 1,
   "id": "b23ad12e",
   "metadata": {},
   "outputs": [
    {
     "ename": "NameError",
     "evalue": "name 'df' is not defined",
     "output_type": "error",
     "traceback": [
      "\u001b[1;31m---------------------------------------------------------------------------\u001b[0m",
      "\u001b[1;31mNameError\u001b[0m                                 Traceback (most recent call last)",
      "\u001b[1;32m<ipython-input-1-c42a15b2c7cf>\u001b[0m in \u001b[0;36m<module>\u001b[1;34m\u001b[0m\n\u001b[1;32m----> 1\u001b[1;33m \u001b[0mdf\u001b[0m\u001b[1;33m.\u001b[0m\u001b[0mhead\u001b[0m\u001b[1;33m(\u001b[0m\u001b[1;33m)\u001b[0m\u001b[1;33m\u001b[0m\u001b[1;33m\u001b[0m\u001b[0m\n\u001b[0m",
      "\u001b[1;31mNameError\u001b[0m: name 'df' is not defined"
     ]
    }
   ],
   "source": []
  },
  {
   "cell_type": "code",
   "execution_count": null,
   "id": "2ba69739",
   "metadata": {},
   "outputs": [],
   "source": []
  }
 ],
 "metadata": {
  "kernelspec": {
   "display_name": "Python 3",
   "language": "python",
   "name": "python3"
  }
 },
 "nbformat": 4,
 "nbformat_minor": 5
}
