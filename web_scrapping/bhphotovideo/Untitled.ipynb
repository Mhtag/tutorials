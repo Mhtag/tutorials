{
 "cells": [
  {
   "cell_type": "code",
   "execution_count": 1,
   "id": "a20df6ca",
   "metadata": {},
   "outputs": [],
   "source": [
    "import os\n",
    "from selenium import webdriver\n",
    "import requests\n",
    "from bs4 import BeautifulSoup\n"
   ]
  },
  {
   "cell_type": "code",
   "execution_count": 2,
   "id": "8fa80a31",
   "metadata": {},
   "outputs": [],
   "source": [
    "proxy_url = 'https://free-proxy-list.net/'"
   ]
  },
  {
   "cell_type": "code",
   "execution_count": 4,
   "id": "5be0a36f",
   "metadata": {},
   "outputs": [],
   "source": [
    "html = requests.get(proxy_url)\n",
    "soup = BeautifulSoup(html.text, 'lxml')"
   ]
  },
  {
   "cell_type": "code",
   "execution_count": 5,
   "id": "094c511d",
   "metadata": {
    "scrolled": true
   },
   "outputs": [
    {
     "name": "stdout",
     "output_type": "stream",
     "text": [
      "https//62.133.168.72:38629\n",
      "https//116.73.14.16:38629\n",
      "https//8.208.81.46:38629\n",
      "https//181.143.106.162:38629\n",
      "https//31.132.143.152:38629\n",
      "https//202.40.188.94:38629\n",
      "https//103.251.225.13:38629\n",
      "https//172.106.12.19:38629\n",
      "https//115.75.35.12:38629\n",
      "https//195.66.212.176:38629\n",
      "https//8.211.241.7:38629\n",
      "https//162.55.182.109:38629\n",
      "https//128.68.63.80:38629\n",
      "https//197.248.184.157:38629\n",
      "https//82.99.232.18:38629\n",
      "https//186.159.3.43:38629\n",
      "https//176.98.95.105:38629\n",
      "https//150.129.148.88:38629\n",
      "https//143.255.52.102:38629\n",
      "https//155.0.181.254:38629\n",
      "https//47.89.179.44:38629\n",
      "https//95.28.129.172:38629\n",
      "https//78.188.118.233:38629\n",
      "https//203.6.208.237:38629\n",
      "https//112.78.170.27:38629\n",
      "https//64.124.38.126:38629\n",
      "https//139.5.29.97:38629\n",
      "https//190.122.185.170:38629\n",
      "https//203.193.131.74:38629\n",
      "https//27.109.116.28:38629\n",
      "https//14.177.236.212:38629\n",
      "https//18.163.191.40:38629\n",
      "https//45.162.244.170:38629\n",
      "https//207.177.51.102:38629\n",
      "https//161.202.226.194:38629\n",
      "https//13.112.197.90:38629\n",
      "https//119.81.189.194:38629\n",
      "https//62.252.146.74:38629\n",
      "https//47.75.145.229:38629\n",
      "https//65.108.60.187:38629\n",
      "https//14.161.252.185:38629\n",
      "https//110.9.34.250:38629\n",
      "https//186.219.96.47:38629\n",
      "https//177.91.111.253:38629\n",
      "https//200.105.215.18:38629\n",
      "https//181.129.43.3:38629\n",
      "https//180.211.211.198:38629\n",
      "https//85.196.133.98:38629\n",
      "https//138.0.77.30:38629\n",
      "https//116.206.62.244:38629\n",
      "https//200.71.104.51:38629\n",
      "https//148.251.249.240:38629\n",
      "https//217.79.181.109:38629\n",
      "https//51.178.147.149:38629\n",
      "https//212.95.180.50:38629\n",
      "https//36.67.57.45:38629\n",
      "https//81.24.117.250:38629\n"
     ]
    }
   ],
   "source": [
    "table = soup.find('table')\n",
    "rows = table.find_all('tr')\n",
    "\n",
    "result = []\n",
    "for row in rows:\n",
    "    col = [data.text for data in row.find_all('td')]\n",
    "    (col)\n",
    "    result.append(col)     \n",
    "    \n",
    "proxies = []\n",
    "\n",
    "for column in result:\n",
    "    try:\n",
    "        if column[4] == 'elite proxy' and column[6] == 'yes':\n",
    "            print('https//' + column[0] + ':' + col[1])\n",
    "            proxies.append('https//' + column[0] + ':' + col[1])\n",
    "    except:\n",
    "        pass"
   ]
  },
  {
   "cell_type": "code",
   "execution_count": 6,
   "id": "4222cf54",
   "metadata": {},
   "outputs": [],
   "source": [
    "proxy_index = 0\n",
    "def fetch(url):\n",
    "    global proxy_index\n",
    "    while proxy_index < len(proxies):\n",
    "        try:\n",
    "            print('trying proxy:', proxies[proxy_index])\n",
    "            r = requests.get(url, proxies={'https': proxies[proxy_index], 'http': proxies[proxy_index]}, timeout=5)\n",
    "            return r\n",
    "        except:\n",
    "            print(f'bad proxy for {proxy_index} proxy index')\n",
    "            proxy_index += 1"
   ]
  },
  {
   "cell_type": "code",
   "execution_count": 7,
   "id": "3a331f65",
   "metadata": {},
   "outputs": [],
   "source": [
    "base_url = 'https://www.bhphotovideo.com/c/buy/gaming-notebooks/ci/24610'"
   ]
  },
  {
   "cell_type": "code",
   "execution_count": 9,
   "id": "075d247f",
   "metadata": {},
   "outputs": [],
   "source": [
    "chromedriver = \"C:\\SeleniumDrivers\\chromedriver\"\n",
    "driver = webdriver.Chrome(chromedriver)\n",
    "driver.maximize_window()\n",
    "driver.implicitly_wait(30)\n"
   ]
  },
  {
   "cell_type": "code",
   "execution_count": 46,
   "id": "1bfad951",
   "metadata": {},
   "outputs": [
    {
     "name": "stdout",
     "output_type": "stream",
     "text": [
      "ASUS 15.6\" Republic of Gamers Zephyrus Duo 15 SE Series Gaming Laptop (2021)\n"
     ]
    },
    {
     "ename": "StaleElementReferenceException",
     "evalue": "Message: stale element reference: element is not attached to the page document\n  (Session info: chrome=93.0.4577.82)\n",
     "output_type": "error",
     "traceback": [
      "\u001b[1;31m---------------------------------------------------------------------------\u001b[0m",
      "\u001b[1;31mStaleElementReferenceException\u001b[0m            Traceback (most recent call last)",
      "\u001b[1;32m<ipython-input-46-1cdb7022fdda>\u001b[0m in \u001b[0;36m<module>\u001b[1;34m\u001b[0m\n\u001b[0;32m      6\u001b[0m     \u001b[0mlink_el\u001b[0m \u001b[1;33m=\u001b[0m \u001b[0mdriver\u001b[0m\u001b[1;33m.\u001b[0m\u001b[0mfind_elements_by_class_name\u001b[0m\u001b[1;33m(\u001b[0m\u001b[1;34m'product_19pae40ejOyj6V7StHfjYz'\u001b[0m\u001b[1;33m)\u001b[0m\u001b[1;33m\u001b[0m\u001b[1;33m\u001b[0m\u001b[0m\n\u001b[0;32m      7\u001b[0m     \u001b[1;32mfor\u001b[0m \u001b[0mprod_link\u001b[0m \u001b[1;32min\u001b[0m \u001b[0mlink_el\u001b[0m\u001b[1;33m:\u001b[0m\u001b[1;33m\u001b[0m\u001b[1;33m\u001b[0m\u001b[0m\n\u001b[1;32m----> 8\u001b[1;33m         \u001b[0mlink\u001b[0m \u001b[1;33m=\u001b[0m \u001b[0mprod_link\u001b[0m\u001b[1;33m.\u001b[0m\u001b[0mfind_elements_by_tag_name\u001b[0m\u001b[1;33m(\u001b[0m\u001b[1;34m'a'\u001b[0m\u001b[1;33m)\u001b[0m\u001b[1;33m[\u001b[0m\u001b[1;36m0\u001b[0m\u001b[1;33m]\u001b[0m\u001b[1;33m.\u001b[0m\u001b[0mget_property\u001b[0m\u001b[1;33m(\u001b[0m\u001b[1;34m'href'\u001b[0m\u001b[1;33m)\u001b[0m\u001b[1;33m\u001b[0m\u001b[1;33m\u001b[0m\u001b[0m\n\u001b[0m\u001b[0;32m      9\u001b[0m         \u001b[0mdriver\u001b[0m\u001b[1;33m.\u001b[0m\u001b[0mget\u001b[0m\u001b[1;33m(\u001b[0m\u001b[0mlink\u001b[0m\u001b[1;33m)\u001b[0m\u001b[1;33m\u001b[0m\u001b[1;33m\u001b[0m\u001b[0m\n\u001b[0;32m     10\u001b[0m         \u001b[0mtitle\u001b[0m \u001b[1;33m=\u001b[0m \u001b[0mdriver\u001b[0m\u001b[1;33m.\u001b[0m\u001b[0mfind_element_by_xpath\u001b[0m\u001b[1;33m(\u001b[0m\u001b[1;34m'//*[@id=\"bh-app\"]/section/div/div[2]/div[4]/div[1]/div[1]/h1'\u001b[0m\u001b[1;33m)\u001b[0m\u001b[1;33m.\u001b[0m\u001b[0mtext\u001b[0m\u001b[1;33m\u001b[0m\u001b[1;33m\u001b[0m\u001b[0m\n",
      "\u001b[1;32m~\\anaconda3\\lib\\site-packages\\selenium\\webdriver\\remote\\webelement.py\u001b[0m in \u001b[0;36mfind_elements_by_tag_name\u001b[1;34m(self, name)\u001b[0m\n\u001b[0;32m    318\u001b[0m             \u001b[0melements\u001b[0m \u001b[1;33m=\u001b[0m \u001b[0melement\u001b[0m\u001b[1;33m.\u001b[0m\u001b[0mfind_elements_by_tag_name\u001b[0m\u001b[1;33m(\u001b[0m\u001b[1;34m'h1'\u001b[0m\u001b[1;33m)\u001b[0m\u001b[1;33m\u001b[0m\u001b[1;33m\u001b[0m\u001b[0m\n\u001b[0;32m    319\u001b[0m         \"\"\"\n\u001b[1;32m--> 320\u001b[1;33m         \u001b[1;32mreturn\u001b[0m \u001b[0mself\u001b[0m\u001b[1;33m.\u001b[0m\u001b[0mfind_elements\u001b[0m\u001b[1;33m(\u001b[0m\u001b[0mby\u001b[0m\u001b[1;33m=\u001b[0m\u001b[0mBy\u001b[0m\u001b[1;33m.\u001b[0m\u001b[0mTAG_NAME\u001b[0m\u001b[1;33m,\u001b[0m \u001b[0mvalue\u001b[0m\u001b[1;33m=\u001b[0m\u001b[0mname\u001b[0m\u001b[1;33m)\u001b[0m\u001b[1;33m\u001b[0m\u001b[1;33m\u001b[0m\u001b[0m\n\u001b[0m\u001b[0;32m    321\u001b[0m \u001b[1;33m\u001b[0m\u001b[0m\n\u001b[0;32m    322\u001b[0m     \u001b[1;32mdef\u001b[0m \u001b[0mfind_element_by_xpath\u001b[0m\u001b[1;33m(\u001b[0m\u001b[0mself\u001b[0m\u001b[1;33m,\u001b[0m \u001b[0mxpath\u001b[0m\u001b[1;33m)\u001b[0m\u001b[1;33m:\u001b[0m\u001b[1;33m\u001b[0m\u001b[1;33m\u001b[0m\u001b[0m\n",
      "\u001b[1;32m~\\anaconda3\\lib\\site-packages\\selenium\\webdriver\\remote\\webelement.py\u001b[0m in \u001b[0;36mfind_elements\u001b[1;34m(self, by, value)\u001b[0m\n\u001b[0;32m    682\u001b[0m                 \u001b[0mvalue\u001b[0m \u001b[1;33m=\u001b[0m \u001b[1;34m'[name=\"%s\"]'\u001b[0m \u001b[1;33m%\u001b[0m \u001b[0mvalue\u001b[0m\u001b[1;33m\u001b[0m\u001b[1;33m\u001b[0m\u001b[0m\n\u001b[0;32m    683\u001b[0m \u001b[1;33m\u001b[0m\u001b[0m\n\u001b[1;32m--> 684\u001b[1;33m         return self._execute(Command.FIND_CHILD_ELEMENTS,\n\u001b[0m\u001b[0;32m    685\u001b[0m                              {\"using\": by, \"value\": value})['value']\n\u001b[0;32m    686\u001b[0m \u001b[1;33m\u001b[0m\u001b[0m\n",
      "\u001b[1;32m~\\anaconda3\\lib\\site-packages\\selenium\\webdriver\\remote\\webelement.py\u001b[0m in \u001b[0;36m_execute\u001b[1;34m(self, command, params)\u001b[0m\n\u001b[0;32m    631\u001b[0m             \u001b[0mparams\u001b[0m \u001b[1;33m=\u001b[0m \u001b[1;33m{\u001b[0m\u001b[1;33m}\u001b[0m\u001b[1;33m\u001b[0m\u001b[1;33m\u001b[0m\u001b[0m\n\u001b[0;32m    632\u001b[0m         \u001b[0mparams\u001b[0m\u001b[1;33m[\u001b[0m\u001b[1;34m'id'\u001b[0m\u001b[1;33m]\u001b[0m \u001b[1;33m=\u001b[0m \u001b[0mself\u001b[0m\u001b[1;33m.\u001b[0m\u001b[0m_id\u001b[0m\u001b[1;33m\u001b[0m\u001b[1;33m\u001b[0m\u001b[0m\n\u001b[1;32m--> 633\u001b[1;33m         \u001b[1;32mreturn\u001b[0m \u001b[0mself\u001b[0m\u001b[1;33m.\u001b[0m\u001b[0m_parent\u001b[0m\u001b[1;33m.\u001b[0m\u001b[0mexecute\u001b[0m\u001b[1;33m(\u001b[0m\u001b[0mcommand\u001b[0m\u001b[1;33m,\u001b[0m \u001b[0mparams\u001b[0m\u001b[1;33m)\u001b[0m\u001b[1;33m\u001b[0m\u001b[1;33m\u001b[0m\u001b[0m\n\u001b[0m\u001b[0;32m    634\u001b[0m \u001b[1;33m\u001b[0m\u001b[0m\n\u001b[0;32m    635\u001b[0m     \u001b[1;32mdef\u001b[0m \u001b[0mfind_element\u001b[0m\u001b[1;33m(\u001b[0m\u001b[0mself\u001b[0m\u001b[1;33m,\u001b[0m \u001b[0mby\u001b[0m\u001b[1;33m=\u001b[0m\u001b[0mBy\u001b[0m\u001b[1;33m.\u001b[0m\u001b[0mID\u001b[0m\u001b[1;33m,\u001b[0m \u001b[0mvalue\u001b[0m\u001b[1;33m=\u001b[0m\u001b[1;32mNone\u001b[0m\u001b[1;33m)\u001b[0m\u001b[1;33m:\u001b[0m\u001b[1;33m\u001b[0m\u001b[1;33m\u001b[0m\u001b[0m\n",
      "\u001b[1;32m~\\anaconda3\\lib\\site-packages\\selenium\\webdriver\\remote\\webdriver.py\u001b[0m in \u001b[0;36mexecute\u001b[1;34m(self, driver_command, params)\u001b[0m\n\u001b[0;32m    319\u001b[0m         \u001b[0mresponse\u001b[0m \u001b[1;33m=\u001b[0m \u001b[0mself\u001b[0m\u001b[1;33m.\u001b[0m\u001b[0mcommand_executor\u001b[0m\u001b[1;33m.\u001b[0m\u001b[0mexecute\u001b[0m\u001b[1;33m(\u001b[0m\u001b[0mdriver_command\u001b[0m\u001b[1;33m,\u001b[0m \u001b[0mparams\u001b[0m\u001b[1;33m)\u001b[0m\u001b[1;33m\u001b[0m\u001b[1;33m\u001b[0m\u001b[0m\n\u001b[0;32m    320\u001b[0m         \u001b[1;32mif\u001b[0m \u001b[0mresponse\u001b[0m\u001b[1;33m:\u001b[0m\u001b[1;33m\u001b[0m\u001b[1;33m\u001b[0m\u001b[0m\n\u001b[1;32m--> 321\u001b[1;33m             \u001b[0mself\u001b[0m\u001b[1;33m.\u001b[0m\u001b[0merror_handler\u001b[0m\u001b[1;33m.\u001b[0m\u001b[0mcheck_response\u001b[0m\u001b[1;33m(\u001b[0m\u001b[0mresponse\u001b[0m\u001b[1;33m)\u001b[0m\u001b[1;33m\u001b[0m\u001b[1;33m\u001b[0m\u001b[0m\n\u001b[0m\u001b[0;32m    322\u001b[0m             response['value'] = self._unwrap_value(\n\u001b[0;32m    323\u001b[0m                 response.get('value', None))\n",
      "\u001b[1;32m~\\anaconda3\\lib\\site-packages\\selenium\\webdriver\\remote\\errorhandler.py\u001b[0m in \u001b[0;36mcheck_response\u001b[1;34m(self, response)\u001b[0m\n\u001b[0;32m    240\u001b[0m                 \u001b[0malert_text\u001b[0m \u001b[1;33m=\u001b[0m \u001b[0mvalue\u001b[0m\u001b[1;33m[\u001b[0m\u001b[1;34m'alert'\u001b[0m\u001b[1;33m]\u001b[0m\u001b[1;33m.\u001b[0m\u001b[0mget\u001b[0m\u001b[1;33m(\u001b[0m\u001b[1;34m'text'\u001b[0m\u001b[1;33m)\u001b[0m\u001b[1;33m\u001b[0m\u001b[1;33m\u001b[0m\u001b[0m\n\u001b[0;32m    241\u001b[0m             \u001b[1;32mraise\u001b[0m \u001b[0mexception_class\u001b[0m\u001b[1;33m(\u001b[0m\u001b[0mmessage\u001b[0m\u001b[1;33m,\u001b[0m \u001b[0mscreen\u001b[0m\u001b[1;33m,\u001b[0m \u001b[0mstacktrace\u001b[0m\u001b[1;33m,\u001b[0m \u001b[0malert_text\u001b[0m\u001b[1;33m)\u001b[0m\u001b[1;33m\u001b[0m\u001b[1;33m\u001b[0m\u001b[0m\n\u001b[1;32m--> 242\u001b[1;33m         \u001b[1;32mraise\u001b[0m \u001b[0mexception_class\u001b[0m\u001b[1;33m(\u001b[0m\u001b[0mmessage\u001b[0m\u001b[1;33m,\u001b[0m \u001b[0mscreen\u001b[0m\u001b[1;33m,\u001b[0m \u001b[0mstacktrace\u001b[0m\u001b[1;33m)\u001b[0m\u001b[1;33m\u001b[0m\u001b[1;33m\u001b[0m\u001b[0m\n\u001b[0m\u001b[0;32m    243\u001b[0m \u001b[1;33m\u001b[0m\u001b[0m\n\u001b[0;32m    244\u001b[0m     \u001b[1;32mdef\u001b[0m \u001b[0m_value_or_default\u001b[0m\u001b[1;33m(\u001b[0m\u001b[0mself\u001b[0m\u001b[1;33m,\u001b[0m \u001b[0mobj\u001b[0m\u001b[1;33m,\u001b[0m \u001b[0mkey\u001b[0m\u001b[1;33m,\u001b[0m \u001b[0mdefault\u001b[0m\u001b[1;33m)\u001b[0m\u001b[1;33m:\u001b[0m\u001b[1;33m\u001b[0m\u001b[1;33m\u001b[0m\u001b[0m\n",
      "\u001b[1;31mStaleElementReferenceException\u001b[0m: Message: stale element reference: element is not attached to the page document\n  (Session info: chrome=93.0.4577.82)\n"
     ]
    }
   ],
   "source": [
    "data = []\n",
    "for page in range(1,5):\n",
    "    base_url = f'https://www.bhphotovideo.com/c/buy/gaming-notebooks/ci/24610/pn/{str(page)}'\n",
    "    driver.get(base_url)\n",
    "    \n",
    "    link_el = driver.find_elements_by_class_name('product_19pae40ejOyj6V7StHfjYz')\n",
    "    for prod_link in link_el:\n",
    "        link = prod_link.find_elements_by_tag_name('a')[0].get_property('href')\n",
    "        driver.get(link)\n",
    "        title = driver.find_element_by_xpath('//*[@id=\"bh-app\"]/section/div/div[2]/div[4]/div[1]/div[1]/h1').text\n",
    "        price = driver.find_element_by_xpath('//*[@id=\"bh-app\"]/section/div/div[2]/div[5]/div/div[2]/div/div/div[2]/div/div/div').text\n",
    "        description = driver.find_element_by_xpath('//*[@id=\"bh-app\"]/section/div/div[3]/div[3]/div/div[1]/article/div[3]/div/div/p').text\n",
    "        single_data = {\n",
    "            'title':title,\n",
    "            'price':price,\n",
    "            'Description': description\n",
    "            \n",
    "        }\n",
    "        print(single_data['title'])\n",
    "        data.append(single_data)"
   ]
  },
  {
   "cell_type": "code",
   "execution_count": 49,
   "id": "a5f52cc2",
   "metadata": {},
   "outputs": [],
   "source": [
    "base_url = 'https://www.bhphotovideo.com/c/buy/gaming-notebooks/ci/24610'"
   ]
  },
  {
   "cell_type": "code",
   "execution_count": 50,
   "id": "29efa4a0",
   "metadata": {},
   "outputs": [],
   "source": [
    "driver.get(base_url)"
   ]
  },
  {
   "cell_type": "code",
   "execution_count": 47,
   "id": "41a806ed",
   "metadata": {},
   "outputs": [
    {
     "data": {
      "text/plain": [
       "[{'title': 'ASUS 15.6\" Republic of Gamers Zephyrus Duo 15 SE Series Gaming Laptop (2021)',\n",
       "  'price': '$3,599.00',\n",
       "  'Description': 'Take your gaming and content creation experience to the next level with the ASUS 15.6\" ROG Zephyrus Duo 15 SE Gaming Laptop . This high-performance laptop system features a powerful 5th generation 3.3 GHz AMD Ryzen 9 5900HX eight-core processor with 32GB of memory and a 1TB M.2 NVMe PCIe solid-state drive to quickly load demanding games and applications along with complex levels and projects. The ROG Zephyrus Duo 15 SE also includes a dedicated NVIDIA GeForce RTX 3080 graphics card, which is designed to deliver high frame rates and advanced features such as real-time ray tracing, artificial intelligence, and more. The graphics are paired with a 15.6\" 1920 x 1080 resolution, 300 Hz Full HD display and AMD FreeSync technology, which work together to provide liquid-smooth graphics during high-action scenes with minimal motion blur, screen tearing, stuttering, and other artifacts. The Zephyrus Duo 15 SE also stands out with a 14\" secondary touchscreen display over the keyboard, which helps to enhance multitasking for both games and content creation. Customize the Zephyrus Duo 15 SE gaming laptop\\'s Aura Sync lighting with a variety of dazzling effects to suit your game, mood, or style. Windows 10 Pro comes pre-installed on the system.'}]"
      ]
     },
     "execution_count": 47,
     "metadata": {},
     "output_type": "execute_result"
    }
   ],
   "source": []
  },
  {
   "cell_type": "code",
   "execution_count": 10,
   "id": "5a012e5a",
   "metadata": {},
   "outputs": [],
   "source": [
    "driver.get(base_url)"
   ]
  },
  {
   "cell_type": "code",
   "execution_count": 13,
   "id": "478496fc",
   "metadata": {},
   "outputs": [],
   "source": [
    "link_el = driver.find_elements_by_class_name('product_19pae40ejOyj6V7StHfjYz')"
   ]
  },
  {
   "cell_type": "code",
   "execution_count": 36,
   "id": "41da3a80",
   "metadata": {},
   "outputs": [],
   "source": [
    "prod_link = link_el[0].find_elements_by_tag_name('a')[0].get_property('href')"
   ]
  },
  {
   "cell_type": "code",
   "execution_count": 37,
   "id": "dec1c907",
   "metadata": {},
   "outputs": [],
   "source": [
    "driver.get(prod_link)"
   ]
  },
  {
   "cell_type": "code",
   "execution_count": 41,
   "id": "2aa72d0e",
   "metadata": {},
   "outputs": [
    {
     "data": {
      "text/plain": [
       "'ASUS 15.6\" Republic of Gamers Zephyrus Duo 15 SE Series Gaming Laptop (2021)'"
      ]
     },
     "execution_count": 41,
     "metadata": {},
     "output_type": "execute_result"
    }
   ],
   "source": [
    "driver.find_element_by_xpath('//*[@id=\"bh-app\"]/section/div/div[2]/div[4]/div[1]/div[1]/h1').text"
   ]
  },
  {
   "cell_type": "code",
   "execution_count": 42,
   "id": "30ed37cc",
   "metadata": {},
   "outputs": [
    {
     "data": {
      "text/plain": [
       "'$3,599.00'"
      ]
     },
     "execution_count": 42,
     "metadata": {},
     "output_type": "execute_result"
    }
   ],
   "source": [
    "driver.find_element_by_xpath('//*[@id=\"bh-app\"]/section/div/div[2]/div[5]/div/div[2]/div/div/div[2]/div/div/div').text"
   ]
  },
  {
   "cell_type": "code",
   "execution_count": 43,
   "id": "055a4edf",
   "metadata": {},
   "outputs": [
    {
     "data": {
      "text/plain": [
       "'Take your gaming and content creation experience to the next level with the ASUS 15.6\" ROG Zephyrus Duo 15 SE Gaming Laptop . This high-performance laptop system features a powerful 5th generation 3.3 GHz AMD Ryzen 9 5900HX eight-core processor with 32GB of memory and a 1TB M.2 NVMe PCIe solid-state drive to quickly load demanding games and applications along with complex levels and projects. The ROG Zephyrus Duo 15 SE also includes a dedicated NVIDIA GeForce RTX 3080 graphics card, which is designed to deliver high frame rates and advanced features such as real-time ray tracing, artificial intelligence, and more. The graphics are paired with a 15.6\" 1920 x 1080 resolution, 300 Hz Full HD display and AMD FreeSync technology, which work together to provide liquid-smooth graphics during high-action scenes with minimal motion blur, screen tearing, stuttering, and other artifacts. The Zephyrus Duo 15 SE also stands out with a 14\" secondary touchscreen display over the keyboard, which helps to enhance multitasking for both games and content creation. Customize the Zephyrus Duo 15 SE gaming laptop\\'s Aura Sync lighting with a variety of dazzling effects to suit your game, mood, or style. Windows 10 Pro comes pre-installed on the system.'"
      ]
     },
     "execution_count": 43,
     "metadata": {},
     "output_type": "execute_result"
    }
   ],
   "source": [
    "driver.find_element_by_xpath('//*[@id=\"bh-app\"]/section/div/div[3]/div[3]/div/div[1]/article/div[3]/div/div/p').text"
   ]
  },
  {
   "cell_type": "code",
   "execution_count": 44,
   "id": "4a3c19e7",
   "metadata": {},
   "outputs": [],
   "source": []
  },
  {
   "cell_type": "code",
   "execution_count": 39,
   "id": "870274f3",
   "metadata": {},
   "outputs": [],
   "source": []
  },
  {
   "cell_type": "code",
   "execution_count": null,
   "id": "42157256",
   "metadata": {},
   "outputs": [],
   "source": []
  }
 ],
 "metadata": {
  "kernelspec": {
   "display_name": "Python 3",
   "language": "python",
   "name": "python3"
  },
  "language_info": {
   "codemirror_mode": {
    "name": "ipython",
    "version": 3
   },
   "file_extension": ".py",
   "mimetype": "text/x-python",
   "name": "python",
   "nbconvert_exporter": "python",
   "pygments_lexer": "ipython3",
   "version": "3.8.8"
  }
 },
 "nbformat": 4,
 "nbformat_minor": 5
}
