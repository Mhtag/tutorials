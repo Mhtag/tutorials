{
 "cells": [
  {
   "cell_type": "code",
   "execution_count": 118,
   "id": "8e26355f",
   "metadata": {},
   "outputs": [],
   "source": [
    "# import the libraries\n",
    "import matplotlib.pyplot as plt\n",
    "#from kneed import KneeLocator\n",
    "from sklearn.datasets import make_blobs\n",
    "from sklearn.cluster import KMeans\n",
    "from sklearn.metrics import silhouette_score, adjusted_rand_score\n",
    "from sklearn.preprocessing import StandardScaler\n",
    "import sklearn"
   ]
  },
  {
   "cell_type": "markdown",
   "id": "3b4d3430",
   "metadata": {},
   "source": [
    "You can generate the data using make_blobs(), a convenience function in scikit-learn used to generate synthetic clusters. make_blobs() uses these parameters:\n",
    "\n",
    "* n_samples is the total number of samples to generate.\n",
    "* centers is the number of centers to generate.\n",
    "* cluster_std is the standard deviation.\n",
    "\n",
    "make_blobs() returns a tuple of two values:\n",
    "\n",
    "+ A two-dimensional NumPy array with the x- and y-values for each of the samples\n",
    "+ A one-dimensional NumPy array containing the cluster labels for each sample"
   ]
  },
  {
   "cell_type": "markdown",
   "id": "f7757e27",
   "metadata": {},
   "source": [
    "Generate the synthetic data and labels"
   ]
  },
  {
   "cell_type": "code",
   "execution_count": 92,
   "id": "0a016b16",
   "metadata": {},
   "outputs": [],
   "source": [
    "features, true_labels = make_blobs(\n",
    "                                    n_samples=500,              # n_samples is the total number of samples to generate.\n",
    "                                    centers=5,                  # centers is the number of centers to generate.\n",
    "                                    cluster_std=2,              # cluster_std is the standard deviation.\n",
    "                                    random_state=10\n",
    ")"
   ]
  },
  {
   "cell_type": "code",
   "execution_count": 93,
   "id": "7136ce25",
   "metadata": {},
   "outputs": [
    {
     "data": {
      "text/plain": [
       "<matplotlib.collections.PathCollection at 0x23d8f4d1ca0>"
      ]
     },
     "execution_count": 93,
     "metadata": {},
     "output_type": "execute_result"
    },
    {
     "data": {
      "image/png": "[encoded data removed]",
      "text/plain": [
       "<Figure size 432x288 with 1 Axes>"
      ]
     },
     "metadata": {},
     "output_type": "display_data"
    }
   ],
   "source": [
    "plt.scatter(features[:,0], features[:,1])"
   ]
  },
  {
   "cell_type": "code",
   "execution_count": 94,
   "id": "9bd2c68b",
   "metadata": {},
   "outputs": [
    {
     "data": {
      "text/plain": [
       "array([[-8.61699211e+00,  3.26221506e+00],\n",
       "       [-4.21646083e-01,  7.66569067e+00],\n",
       "       [-9.54937988e-01, -5.06694943e+00],\n",
       "       [-8.20989998e+00,  7.11410617e+00],\n",
       "       [ 2.10096068e+00,  3.25056105e+00],\n",
       "       [ 7.68398317e+00, -1.09805811e+01],\n",
       "       [-3.17093984e+00,  3.33879525e+00],\n",
       "       [-2.51035702e+00, -7.61029904e+00],\n",
       "       [ 6.13336809e+00, -9.99951998e+00],\n",
       "       [-8.83620026e+00, -1.07101225e+01],\n",
       "       [ 4.76021054e+00, -1.11677426e+01],\n",
       "       [ 7.31141368e+00, -1.55441546e+01],\n",
       "       [ 8.90590854e-01,  3.41070216e+00],\n",
       "       [ 3.74141462e+00,  4.98428173e+00],\n",
       "       [-6.15413880e+00, -9.51058868e+00],\n",
       "       [-7.10971159e-01,  6.20897950e+00],\n",
       "       [-8.65148179e+00, -7.26200418e+00],\n",
       "       [ 7.93935739e+00, -1.10489000e+01],\n",
       "       [ 5.13767934e+00, -1.03852377e+01],\n",
       "       [-5.36262402e+00,  7.41836005e+00],\n",
       "       [ 5.95743604e+00, -9.36786396e+00],\n",
       "       [-6.15994182e+00,  5.64507068e+00],\n",
       "       [ 1.00083074e+00, -7.35817843e-01],\n",
       "       [-6.86058991e+00,  7.07228551e+00],\n",
       "       [-6.93401673e+00, -9.14583407e+00],\n",
       "       [-7.35562314e+00,  4.25254511e+00],\n",
       "       [-5.29499334e+00, -6.98642689e+00],\n",
       "       [ 2.86449117e+00,  5.87412111e+00],\n",
       "       [-5.67210587e+00,  5.18763725e+00],\n",
       "       [-9.29163634e+00,  2.29303540e+00],\n",
       "       [ 7.31121933e+00,  5.59341300e+00],\n",
       "       [ 4.83242605e+00,  4.05039588e+00],\n",
       "       [-7.30080655e+00, -8.09365629e+00],\n",
       "       [ 3.08762383e+00,  4.68594858e+00],\n",
       "       [ 5.66136419e+00, -1.33998748e+01],\n",
       "       [ 1.02852078e+00, -7.29635476e+00],\n",
       "       [ 3.18020479e+00, -1.03624169e+01],\n",
       "       [-5.66186219e+00, -5.28497824e+00],\n",
       "       [ 6.30852992e+00,  3.86398297e+00],\n",
       "       [-3.22541365e-01, -3.38719380e+00],\n",
       "       [-1.90749127e+00,  7.29471907e+00],\n",
       "       [-6.25648980e+00,  8.85217555e+00],\n",
       "       [ 6.39886803e+00,  1.00880466e+00],\n",
       "       [ 9.15958931e-02, -5.55014947e+00],\n",
       "       [ 3.68081850e+00,  5.35274008e+00],\n",
       "       [ 4.99483308e+00, -7.60681610e+00],\n",
       "       [-8.44069993e+00,  6.90298443e+00],\n",
       "       [ 7.76074960e+00, -1.07289146e+01],\n",
       "       [ 1.49785221e-01,  4.53755712e+00],\n",
       "       [-6.24849627e+00,  3.22976647e+00],\n",
       "       [-6.93849740e+00, -1.02618821e+01],\n",
       "       [-6.16257513e+00,  3.09291766e+00],\n",
       "       [ 5.37460219e+00, -9.00677261e+00],\n",
       "       [-6.35344697e+00, -6.34060639e+00],\n",
       "       [ 3.10729636e-01, -7.01972639e+00],\n",
       "       [ 2.55478833e-01, -7.07213821e+00],\n",
       "       [ 1.22772323e+00,  5.14435676e+00],\n",
       "       [ 3.37690693e+00, -9.26416269e+00],\n",
       "       [ 2.20280024e+00,  2.45442204e+00],\n",
       "       [ 1.18931502e+00,  7.18722792e+00],\n",
       "       [ 1.33325515e-01,  5.62285751e+00],\n",
       "       [-5.50339525e-01, -3.87475805e+00],\n",
       "       [ 3.02584248e+00, -6.80294383e+00],\n",
       "       [-2.04158948e+00, -4.84891636e+00],\n",
       "       [-4.34506013e+00,  5.52391776e+00],\n",
       "       [-6.52029785e+00, -1.04135609e+01],\n",
       "       [-7.08709035e+00,  4.37346620e+00],\n",
       "       [ 2.73995088e-01, -6.11246743e+00],\n",
       "       [-5.35328991e+00,  6.95587457e+00],\n",
       "       [-5.67879086e+00, -6.68189527e+00],\n",
       "       [-6.85130639e+00, -9.17292103e+00],\n",
       "       [-1.30179818e+00, -3.28505663e+00],\n",
       "       [-6.71905230e-01, -4.50227716e+00],\n",
       "       [ 2.46643884e+00, -4.03861555e+00],\n",
       "       [-8.68947445e+00,  5.24771052e+00],\n",
       "       [-7.54228651e+00,  4.34306888e+00],\n",
       "       [-6.30403904e+00, -8.47279325e+00],\n",
       "       [ 2.52023845e+00, -6.16173117e+00],\n",
       "       [-1.43909976e+00, -6.21159255e+00],\n",
       "       [ 3.42357580e+00,  4.80824716e+00],\n",
       "       [-2.29425523e+00, -7.32595920e+00],\n",
       "       [ 6.02111579e+00,  7.30352505e+00],\n",
       "       [-5.09346385e+00,  5.36193208e+00],\n",
       "       [ 7.86271057e+00, -9.69800246e+00],\n",
       "       [-4.47865009e+00,  7.32824829e+00],\n",
       "       [-1.13649661e+00, -7.71631356e+00],\n",
       "       [ 2.13996097e+00,  4.63349206e+00],\n",
       "       [-4.22057961e+00, -8.85076534e+00],\n",
       "       [ 8.19287732e+00, -8.89249478e+00],\n",
       "       [ 1.87001906e+00,  7.66043622e+00],\n",
       "       [ 5.21234726e+00,  7.77075360e+00],\n",
       "       [ 1.90576108e+00, -7.25311718e+00],\n",
       "       [-7.67461546e+00,  5.62935642e+00],\n",
       "       [ 3.05883667e+00,  4.98412747e+00],\n",
       "       [ 5.33033021e+00, -1.05465357e+01],\n",
       "       [ 5.21705092e-01, -6.28263017e+00],\n",
       "       [ 3.47790289e+00,  4.23055482e+00],\n",
       "       [-5.40797409e+00,  7.48621318e+00],\n",
       "       [ 3.64296995e+00,  1.65886824e+00],\n",
       "       [-5.47576854e+00, -7.72506480e+00],\n",
       "       [-8.19993570e+00,  4.73851954e+00],\n",
       "       [-7.72046840e+00, -8.36420854e+00],\n",
       "       [-6.87559184e+00, -4.40189854e+00],\n",
       "       [-7.67778840e+00, -6.92200973e+00],\n",
       "       [ 1.26365692e+00, -6.85107072e+00],\n",
       "       [ 5.64940148e+00,  5.25657138e+00],\n",
       "       [-3.72254998e+00,  7.21013528e+00],\n",
       "       [ 6.62843399e-01, -3.61933809e+00],\n",
       "       [ 3.58059434e+00, -8.64545814e+00],\n",
       "       [ 5.10732782e+00,  5.34137241e+00],\n",
       "       [-5.38714338e+00, -8.92230127e+00],\n",
       "       [ 5.69268786e+00, -7.17947326e+00],\n",
       "       [ 1.50405439e+00,  6.18012219e+00],\n",
       "       [ 6.11748273e-01,  2.26068253e+00],\n",
       "       [-4.45426374e+00,  3.62841034e+00],\n",
       "       [-7.97926924e+00,  7.57331791e+00],\n",
       "       [-4.81628314e+00,  4.80340809e+00],\n",
       "       [ 6.84007377e+00, -1.11594989e+01],\n",
       "       [-5.97994112e+00,  5.53423982e+00],\n",
       "       [ 7.89882352e+00, -4.65431085e+00],\n",
       "       [ 2.02656223e+00,  6.30436886e+00],\n",
       "       [ 4.96204835e+00, -1.05884188e+01],\n",
       "       [ 2.76577902e+00, -5.25473354e+00],\n",
       "       [-7.94064068e+00,  2.97929594e+00],\n",
       "       [ 3.54754615e+00, -1.05636354e+01],\n",
       "       [-6.59288349e+00,  9.19062527e+00],\n",
       "       [ 7.64182933e+00, -9.09587306e+00],\n",
       "       [-4.89887562e+00,  6.42903506e+00],\n",
       "       [ 4.45387325e+00, -5.99704133e+00],\n",
       "       [ 1.12823715e+00, -6.42391819e+00],\n",
       "       [ 4.01226997e+00, -8.49163134e+00],\n",
       "       [-6.32582758e+00,  5.04565312e+00],\n",
       "       [-5.13747919e+00, -9.64978359e+00],\n",
       "       [ 7.91545149e-01,  4.86888865e+00],\n",
       "       [ 8.74274703e-01, -4.91592857e+00],\n",
       "       [-2.04386650e-02, -5.20999921e+00],\n",
       "       [-4.25479989e-01, -5.69501875e+00],\n",
       "       [ 5.89587929e+00,  5.45475618e+00],\n",
       "       [-4.96220541e+00,  5.60099984e+00],\n",
       "       [-1.10392921e+01, -7.71962405e+00],\n",
       "       [ 3.98028933e+00,  6.22860381e-01],\n",
       "       [ 1.26719908e+00, -5.55292417e+00],\n",
       "       [-5.24008796e+00,  1.87676046e-01],\n",
       "       [-1.62897131e+00,  4.30643567e+00],\n",
       "       [-5.61168445e+00,  7.44667585e+00],\n",
       "       [ 5.91564191e+00, -9.93955866e+00],\n",
       "       [ 8.03278531e+00,  2.76903339e+00],\n",
       "       [-7.76766391e-02, -8.61915203e+00],\n",
       "       [ 4.83444516e+00, -7.88854379e+00],\n",
       "       [ 3.15320844e+00, -9.31468726e+00],\n",
       "       [ 8.28118048e-02, -2.57275708e+00],\n",
       "       [-8.37540629e+00, -1.09936351e+01],\n",
       "       [ 4.14648766e+00, -8.95729997e+00],\n",
       "       [ 4.74813237e+00, -8.96062114e+00],\n",
       "       [-3.56607919e+00, -9.02974822e+00],\n",
       "       [-6.87163994e+00,  2.92306144e+00],\n",
       "       [-5.83351567e+00, -1.20223915e+01],\n",
       "       [ 2.81056764e+00,  7.80020626e+00],\n",
       "       [-6.16932839e+00, -6.56617434e+00],\n",
       "       [-7.36624455e+00,  7.77376193e+00],\n",
       "       [ 4.45809276e+00,  4.99812304e+00],\n",
       "       [ 3.54969518e+00,  3.41139126e+00],\n",
       "       [ 6.59827575e-01,  4.46101040e+00],\n",
       "       [-4.52744426e+00, -8.39307419e+00],\n",
       "       [ 3.46641668e+00,  3.82384393e+00],\n",
       "       [ 1.52312937e+00,  4.25573538e+00],\n",
       "       [ 6.34818977e+00, -8.26021299e+00],\n",
       "       [ 3.57741467e-01, -4.41759692e+00],\n",
       "       [-5.28394869e+00,  4.19729548e+00],\n",
       "       [-4.52963287e+00,  3.16100886e+00],\n",
       "       [-8.35167001e+00,  4.43969244e+00],\n",
       "       [-6.34778625e+00,  8.87090854e+00],\n",
       "       [-7.53723718e+00,  6.58431106e+00],\n",
       "       [ 8.27697050e-02, -4.41249816e+00],\n",
       "       [-2.72791049e+00, -4.50379339e+00],\n",
       "       [-8.74319671e+00, -1.02834878e+01],\n",
       "       [-7.34326542e+00,  8.05632093e+00],\n",
       "       [ 4.85361716e-01, -2.87822160e+00],\n",
       "       [ 3.25966251e+00, -4.05720870e+00],\n",
       "       [-5.96923574e-01,  5.84595220e+00],\n",
       "       [ 1.32891783e+00,  5.18770182e+00],\n",
       "       [ 5.86094316e+00, -1.35737486e+01],\n",
       "       [ 3.59773580e+00,  2.53636658e+00],\n",
       "       [ 3.49616952e+00,  5.55169852e+00],\n",
       "       [ 2.19305210e+00,  3.58596436e+00],\n",
       "       [ 4.26233525e+00,  3.98979617e+00],\n",
       "       [ 6.22683284e+00, -1.02602257e+01],\n",
       "       [ 1.04094301e+00, -4.40237769e+00],\n",
       "       [ 4.19190736e+00,  4.90822365e+00],\n",
       "       [ 3.67934306e+00,  7.36477886e+00],\n",
       "       [ 1.42572668e+00,  4.24970525e+00],\n",
       "       [-1.82266669e+00,  7.03403098e+00],\n",
       "       [ 5.10253000e+00,  6.99264358e+00],\n",
       "       [-7.10026090e+00, -1.20669769e+01],\n",
       "       [-7.72225382e+00, -6.55792988e+00],\n",
       "       [ 5.31351042e+00, -5.37517609e+00],\n",
       "       [-9.62783676e+00, -7.27891242e+00],\n",
       "       [-5.01060282e+00,  4.74127932e+00],\n",
       "       [ 6.74687597e+00, -1.02867048e+01],\n",
       "       [ 3.91347370e+00,  2.83894223e+00],\n",
       "       [-9.96377974e+00,  2.61688999e+00],\n",
       "       [-4.53199984e+00, -6.66349225e+00],\n",
       "       [-6.01463769e+00, -3.99602085e+00],\n",
       "       [ 4.18620841e+00,  3.51727921e+00],\n",
       "       [ 1.00194769e+00,  5.39697911e+00],\n",
       "       [ 4.44169991e+00,  2.20243258e+00],\n",
       "       [-5.36975790e-01, -5.11982250e+00],\n",
       "       [-7.83934183e+00,  1.40858677e+00],\n",
       "       [ 4.95240450e+00, -9.47039071e+00],\n",
       "       [-2.86136618e+00, -5.31465047e+00],\n",
       "       [ 3.07647464e-01, -5.60406145e+00],\n",
       "       [ 3.54533529e+00,  4.90024189e+00],\n",
       "       [ 3.12521740e+00,  4.74431619e+00],\n",
       "       [ 2.58465184e+00, -1.09428546e+01],\n",
       "       [-9.80844305e+00,  3.77558981e+00],\n",
       "       [ 1.11152716e+00, -6.52981747e+00],\n",
       "       [-2.52020639e-01, -5.58182936e+00],\n",
       "       [-7.28143877e+00, -5.35180891e+00],\n",
       "       [-9.01491582e-01, -4.43152999e+00],\n",
       "       [-5.67839930e+00, -8.91184795e+00],\n",
       "       [ 2.65657715e-01,  5.39575593e+00],\n",
       "       [ 5.97251151e+00, -1.28221025e+01],\n",
       "       [ 3.68150765e+00,  6.58461237e+00],\n",
       "       [-6.43866244e+00, -2.57864510e+00],\n",
       "       [-5.07271045e+00,  7.16442631e+00],\n",
       "       [ 1.02350641e+01, -1.10636745e+01],\n",
       "       [-7.23396805e+00, -7.46512815e+00],\n",
       "       [-9.03312175e+00, -1.22491541e+01],\n",
       "       [-8.70654956e+00, -6.17752586e+00],\n",
       "       [-9.39908443e+00, -1.09796891e+01],\n",
       "       [-1.99903305e+00, -2.53210826e+00],\n",
       "       [-6.41539310e+00, -8.44680924e+00],\n",
       "       [-5.77855522e+00, -8.86386828e+00],\n",
       "       [ 4.70141450e+00, -9.82877240e+00],\n",
       "       [-5.71639990e+00, -8.85207497e+00],\n",
       "       [-5.48701077e+00, -6.93431165e+00],\n",
       "       [ 2.84170213e-01, -2.78648881e+00],\n",
       "       [-6.74586738e-01, -6.83559855e+00],\n",
       "       [-7.03758320e+00,  4.66857844e+00],\n",
       "       [-7.13803795e+00,  5.58552713e+00],\n",
       "       [-6.09672456e+00, -7.83684389e+00],\n",
       "       [ 6.63531993e-01,  6.15898382e+00],\n",
       "       [-4.12903861e-01, -3.91467183e+00],\n",
       "       [-7.09756998e-01, -4.02970913e+00],\n",
       "       [ 2.02582103e+00, -7.10984635e+00],\n",
       "       [ 2.40781751e+00,  4.39558603e+00],\n",
       "       [ 3.12859943e+00,  5.47443497e+00],\n",
       "       [-4.81078663e+00,  4.97618730e+00],\n",
       "       [-7.63284326e+00, -8.95129136e+00],\n",
       "       [-6.07234764e+00, -7.98069277e+00],\n",
       "       [-5.07484377e+00, -1.15704690e+01],\n",
       "       [-3.82407041e+00,  2.53503614e+00],\n",
       "       [-3.84450105e+00,  4.13345951e+00],\n",
       "       [-5.98208537e-01,  5.46567383e+00],\n",
       "       [-6.08421124e+00, -7.18117433e+00],\n",
       "       [-5.44208392e+00, -5.08251955e+00],\n",
       "       [-7.68062318e+00, -7.61367927e+00],\n",
       "       [ 6.09111276e+00, -7.31501467e+00],\n",
       "       [-5.26158666e+00,  5.63818368e+00],\n",
       "       [ 1.81278111e+00, -6.64984153e+00],\n",
       "       [ 5.95855319e+00, -4.81502635e+00],\n",
       "       [ 8.10626549e+00, -9.52634159e+00],\n",
       "       [-1.69345816e+00, -4.31768863e+00],\n",
       "       [ 2.34481412e+00,  2.67845312e+00],\n",
       "       [ 5.26416850e+00, -1.06435532e+01],\n",
       "       [-7.24895065e+00,  5.77847608e+00],\n",
       "       [-1.57068307e+00, -3.25558326e+00],\n",
       "       [-1.00129510e+01,  3.92894966e+00],\n",
       "       [ 4.64444849e+00, -7.07461355e+00],\n",
       "       [ 2.37594609e+00, -3.56294804e+00],\n",
       "       [-7.06671681e+00, -8.08972711e+00],\n",
       "       [ 2.72457988e+00,  9.37801053e+00],\n",
       "       [-7.01143870e+00, -8.24953929e+00],\n",
       "       [ 4.04877415e+00,  1.90994021e+00],\n",
       "       [ 5.88367313e+00, -8.69468579e+00],\n",
       "       [-7.30447377e+00, -9.31393238e+00],\n",
       "       [-7.27318267e+00, -9.35096750e+00],\n",
       "       [ 5.30258881e+00, -1.10927469e+01],\n",
       "       [-6.42694777e+00,  1.71714256e+00],\n",
       "       [ 4.28018614e+00, -1.22258561e+01],\n",
       "       [ 6.85033090e+00, -7.74842271e+00],\n",
       "       [ 8.73984611e+00, -8.24918180e+00],\n",
       "       [-1.17555842e+00, -7.42607778e+00],\n",
       "       [-4.64129543e-01, -7.25491184e+00],\n",
       "       [ 6.49418248e+00, -8.09701221e+00],\n",
       "       [-9.63664997e-01, -5.86210649e+00],\n",
       "       [ 9.06042724e-01,  7.29218079e+00],\n",
       "       [-6.67039341e+00,  2.63274262e+00],\n",
       "       [ 6.06512571e+00, -8.66315521e+00],\n",
       "       [-4.79591849e+00, -1.00241542e+01],\n",
       "       [ 3.05180438e+00,  5.06562702e+00],\n",
       "       [ 2.34597623e+00, -9.03639709e+00],\n",
       "       [ 3.26701810e+00, -9.83110067e+00],\n",
       "       [ 6.18191904e+00, -6.35614506e+00],\n",
       "       [ 4.12023759e+00, -6.68444015e+00],\n",
       "       [-7.62233615e+00, -8.09781650e+00],\n",
       "       [ 3.73733152e-02, -6.23721907e+00],\n",
       "       [-9.24256608e+00, -7.24250670e+00],\n",
       "       [ 3.81723058e+00, -1.00103563e+01],\n",
       "       [-6.89662319e+00, -5.88218863e+00],\n",
       "       [ 5.29471717e+00, -1.38483852e+01],\n",
       "       [ 1.54033324e+00, -6.47951592e+00],\n",
       "       [-8.10076174e+00, -6.64572122e+00],\n",
       "       [ 1.81963552e+00, -5.03357756e+00],\n",
       "       [ 1.30053347e+00,  6.07196550e+00],\n",
       "       [ 4.70093396e+00,  3.03568200e+00],\n",
       "       [ 6.55671820e+00, -9.87980153e+00],\n",
       "       [-6.77887361e+00, -1.06748882e+01],\n",
       "       [ 3.33614779e+00, -1.11809786e+01],\n",
       "       [ 4.98634256e+00,  6.19464218e+00],\n",
       "       [-1.79757490e-01, -6.54761999e+00],\n",
       "       [ 3.05811038e+00,  5.84697843e+00],\n",
       "       [-4.80053455e-01, -5.36375834e+00],\n",
       "       [ 1.44435501e+00,  6.65024120e+00],\n",
       "       [ 2.84864770e+00, -2.73977384e+00],\n",
       "       [-1.39610456e+00, -6.82210171e+00],\n",
       "       [-9.98593807e+00, -8.44033072e+00],\n",
       "       [ 5.43499573e+00, -9.93416143e+00],\n",
       "       [ 1.79710887e+00, -7.49807951e+00],\n",
       "       [-3.39075159e+00, -4.15065070e+00],\n",
       "       [ 4.84341885e+00,  5.68995578e+00],\n",
       "       [-7.44602226e+00, -8.49083120e+00],\n",
       "       [-2.27736816e+00, -9.21878342e+00],\n",
       "       [ 9.39718436e+00, -6.69062981e+00],\n",
       "       [-3.27565028e+00, -8.93568368e+00],\n",
       "       [-1.68487978e+00, -7.16100952e+00],\n",
       "       [ 1.01002487e+00, -8.25981875e+00],\n",
       "       [-7.39821900e+00, -6.94830247e+00],\n",
       "       [ 2.40976989e+00, -8.34375969e+00],\n",
       "       [ 1.53956154e+00, -7.29668242e+00],\n",
       "       [-5.66258797e+00, -9.81216200e+00],\n",
       "       [-1.01487468e+00, -7.00730797e+00],\n",
       "       [-4.18052011e+00,  7.97568922e+00],\n",
       "       [-6.49952713e+00,  8.95058989e+00],\n",
       "       [-8.35617803e+00,  6.09007959e+00],\n",
       "       [ 9.39658205e+00, -6.09533272e+00],\n",
       "       [ 5.32875184e+00, -8.79827858e+00],\n",
       "       [-4.22575838e+00,  7.20912323e+00],\n",
       "       [ 6.52326900e+00, -8.37856291e+00],\n",
       "       [-7.75688666e+00, -1.07030705e+01],\n",
       "       [ 5.04959821e+00,  4.48458688e+00],\n",
       "       [ 6.05592042e+00, -4.64965890e+00],\n",
       "       [ 3.06750915e+00,  4.46551674e+00],\n",
       "       [ 1.47095630e+00, -1.30717056e+01],\n",
       "       [-4.48952598e+00, -8.27573355e+00],\n",
       "       [ 2.97474090e+00, -1.00285473e+01],\n",
       "       [ 5.20186792e+00, -1.03093219e+01],\n",
       "       [-7.17537305e+00,  7.22900632e+00],\n",
       "       [-5.82686996e+00,  2.73457919e+00],\n",
       "       [ 2.60019962e+00,  3.28204514e+00],\n",
       "       [ 6.44784169e+00, -8.75636573e+00],\n",
       "       [ 4.80075535e+00, -1.02827248e+01],\n",
       "       [ 3.16546229e+00, -1.34675604e+01],\n",
       "       [ 4.85115404e+00, -1.23035822e+01],\n",
       "       [-3.70974658e+00, -9.31371656e+00],\n",
       "       [-9.27418032e-01, -4.52867521e+00],\n",
       "       [ 7.51877858e+00, -1.24220731e+01],\n",
       "       [ 2.80160350e+00,  4.64326691e+00],\n",
       "       [ 4.89177849e+00, -1.06835790e+01],\n",
       "       [ 9.57919668e-01,  4.24752148e+00],\n",
       "       [-6.66950011e+00, -1.04818882e+01],\n",
       "       [-2.42825155e+00,  5.06256780e+00],\n",
       "       [-9.49892787e+00, -8.06323797e+00],\n",
       "       [-7.36261476e+00, -1.01678559e+01],\n",
       "       [ 4.00081399e+00, -1.01066800e+01],\n",
       "       [-5.80386388e+00, -7.36013380e+00],\n",
       "       [-7.27863450e+00,  7.64673446e+00],\n",
       "       [-8.95643146e+00,  6.16591213e+00],\n",
       "       [-6.39891676e+00, -7.80264785e+00],\n",
       "       [-8.15955731e+00, -7.49064205e+00],\n",
       "       [-4.35801039e+00,  4.76021657e+00],\n",
       "       [-8.73478024e+00, -5.47960703e+00],\n",
       "       [ 5.62471130e+00, -6.78896826e+00],\n",
       "       [-6.48427485e+00,  6.33435917e+00],\n",
       "       [-8.55576177e+00, -6.50486262e+00],\n",
       "       [-2.72454270e+00, -3.38501044e+00],\n",
       "       [-3.59127882e+00, -8.51787089e+00],\n",
       "       [ 7.67379537e+00, -6.23971659e+00],\n",
       "       [ 7.08041011e+00, -1.34939853e+01],\n",
       "       [ 5.97475843e+00, -1.06147809e+01],\n",
       "       [ 3.49628152e+00, -7.52841286e+00],\n",
       "       [ 8.11551171e+00, -8.59793038e+00],\n",
       "       [-2.56789081e+00, -3.99431495e+00],\n",
       "       [-1.73480169e+00,  5.10416446e+00],\n",
       "       [ 2.97088610e+00,  5.60629999e+00],\n",
       "       [-3.57186660e-01,  3.89864059e+00],\n",
       "       [ 1.54595336e+00,  6.68573516e+00],\n",
       "       [-3.43820459e+00,  2.91842259e+00],\n",
       "       [-5.72329275e+00,  8.07788730e+00],\n",
       "       [ 4.54836039e+00, -9.30275268e+00],\n",
       "       [ 4.46222659e+00, -9.40578579e+00],\n",
       "       [-9.65337572e+00, -1.20771935e+01],\n",
       "       [-6.30797766e+00, -7.03185016e+00],\n",
       "       [-8.29689595e-03, -7.31656073e+00],\n",
       "       [-6.09258798e+00,  2.07571823e+00],\n",
       "       [-8.78282596e-01, -5.60576639e+00],\n",
       "       [-2.89209669e+00, -8.03106082e+00],\n",
       "       [ 3.00077320e+00,  6.63510262e+00],\n",
       "       [ 1.02158202e+01, -7.75004314e+00],\n",
       "       [ 4.18356461e+00,  6.73504903e+00],\n",
       "       [-7.18905456e+00, -1.05262675e+01],\n",
       "       [ 8.39548687e+00, -1.17445708e+01],\n",
       "       [-6.19195272e+00,  3.88213959e+00],\n",
       "       [-7.82602261e+00,  5.12858923e+00],\n",
       "       [-7.28045137e+00,  6.66760117e+00],\n",
       "       [ 7.11086234e+00, -9.17779942e+00],\n",
       "       [-6.76371714e+00, -1.01179900e+01],\n",
       "       [ 7.05508450e-01,  5.80114308e+00],\n",
       "       [ 1.73016453e+00,  5.67503047e+00],\n",
       "       [-4.25020524e+00, -6.86638920e+00],\n",
       "       [-5.78645297e+00,  6.46177813e+00],\n",
       "       [ 6.01229431e+00, -1.05265755e+01],\n",
       "       [ 4.44451441e+00,  5.50486703e+00],\n",
       "       [-3.20662139e+00, -6.44152852e+00],\n",
       "       [-1.00707627e+00, -5.69003017e+00],\n",
       "       [ 8.04335903e+00, -9.19493445e+00],\n",
       "       [-7.25594263e+00, -1.11560310e+01],\n",
       "       [-8.92963544e+00, -9.74788342e+00],\n",
       "       [-9.08881129e+00,  6.12639819e+00],\n",
       "       [-8.27460467e+00, -9.48380681e+00],\n",
       "       [ 4.64616033e+00,  5.03253239e+00],\n",
       "       [-9.50338555e+00,  3.46301081e+00],\n",
       "       [-8.02760506e+00, -6.50915202e+00],\n",
       "       [-8.00813387e-01, -2.38364953e+00],\n",
       "       [-1.22479059e+01, -9.87596032e+00],\n",
       "       [-5.93500796e+00, -8.30713878e+00],\n",
       "       [ 4.34665472e+00, -8.16864097e+00],\n",
       "       [-8.68537540e+00, -6.87311332e+00],\n",
       "       [ 7.32066502e+00, -1.16295824e+01],\n",
       "       [-7.54975105e+00, -8.09766919e+00],\n",
       "       [-1.36247261e+00,  6.05715908e+00],\n",
       "       [-8.86466569e-01, -7.01489876e+00],\n",
       "       [-6.43538371e+00,  5.45990657e+00],\n",
       "       [-1.64754922e+00,  3.80532667e+00],\n",
       "       [-8.30813335e+00,  3.59502159e+00],\n",
       "       [-9.16612008e+00, -7.24886822e+00],\n",
       "       [ 4.87523710e+00,  5.72032274e+00],\n",
       "       [-6.29998455e+00,  6.19658465e+00],\n",
       "       [-3.96343433e+00,  5.30194604e+00],\n",
       "       [ 8.36206207e-01, -1.19768196e+01],\n",
       "       [ 1.01922172e+00, -4.43708905e+00],\n",
       "       [ 4.13397959e+00,  1.57927467e+00],\n",
       "       [ 5.69182946e+00, -1.05372450e+01],\n",
       "       [-6.35092987e+00,  1.42732345e+00],\n",
       "       [ 2.81953072e+00,  7.32354248e+00],\n",
       "       [-5.99665626e+00,  5.52335729e+00],\n",
       "       [ 9.87651214e+00, -9.35059817e+00],\n",
       "       [ 4.96651958e+00, -1.18440634e+01],\n",
       "       [-6.29847689e+00,  4.62443637e+00],\n",
       "       [-4.62909618e-01, -7.86247609e+00],\n",
       "       [-3.49510146e+00,  4.97150828e+00],\n",
       "       [ 2.00427047e+00, -8.36036639e+00],\n",
       "       [-4.69526084e+00,  5.56089324e+00],\n",
       "       [-2.01512472e+00, -6.86875004e+00],\n",
       "       [-5.32321230e+00, -7.93407491e+00],\n",
       "       [-6.62805886e+00,  4.83677163e+00],\n",
       "       [ 7.62667161e+00, -8.45625596e+00],\n",
       "       [-2.38756849e+00, -5.80233250e+00],\n",
       "       [-3.42176840e+00,  1.05357692e+01],\n",
       "       [-6.45761463e+00,  4.62124553e+00],\n",
       "       [ 4.58838718e+00,  6.60651901e+00],\n",
       "       [-6.34069681e+00,  5.24646063e+00],\n",
       "       [-4.90240855e+00,  2.87167890e+00],\n",
       "       [ 2.34016331e+00,  5.51522250e+00],\n",
       "       [ 6.47757278e+00,  5.53528844e+00],\n",
       "       [ 2.72515775e+00,  3.03666631e+00],\n",
       "       [-1.14862006e+01, -8.16344280e+00],\n",
       "       [-2.38653562e+00, -4.02169228e+00],\n",
       "       [ 4.11134044e-01, -8.25029546e+00],\n",
       "       [ 1.02822950e+00,  1.80297413e+00],\n",
       "       [-7.09195877e+00,  4.29905044e+00],\n",
       "       [-8.48398155e-01, -5.99901764e+00],\n",
       "       [ 7.65899863e-01,  6.15215884e+00],\n",
       "       [-1.81276256e+00, -6.65785377e+00],\n",
       "       [ 1.37789769e+00, -6.71404253e+00],\n",
       "       [-1.55706843e+00, -4.54248960e+00],\n",
       "       [-3.17700953e+00, -7.93435920e+00],\n",
       "       [ 1.71404190e+00, -1.00305084e+01],\n",
       "       [ 4.61495381e+00, -8.02141063e+00],\n",
       "       [ 4.88391689e+00, -8.35855264e+00],\n",
       "       [-3.29672045e-01, -5.57472321e+00],\n",
       "       [-4.67744729e+00, -7.33111129e+00],\n",
       "       [-9.27296159e+00, -5.22316386e+00],\n",
       "       [ 4.63311295e+00,  1.84933624e-01],\n",
       "       [ 7.47144508e+00, -9.25134048e+00],\n",
       "       [ 3.91086255e+00,  5.93054626e+00],\n",
       "       [-7.12511671e+00, -5.72344404e+00],\n",
       "       [-7.93323941e+00, -4.01100664e+00],\n",
       "       [ 7.44013514e+00, -1.01738130e+01],\n",
       "       [-4.32776595e+00, -7.61145097e+00],\n",
       "       [-6.25546267e+00,  8.19708090e+00],\n",
       "       [ 6.29246525e+00, -7.17888627e+00],\n",
       "       [ 1.09598383e+00, -4.24916515e+00],\n",
       "       [ 3.06046377e+00, -6.88744240e+00],\n",
       "       [-5.99324332e+00, -7.91977254e+00],\n",
       "       [-7.14371554e+00, -1.02399796e+01],\n",
       "       [-2.11633067e-01,  1.75837693e+00],\n",
       "       [-7.00153181e+00,  3.58879062e+00],\n",
       "       [-9.69057369e+00, -6.96490559e+00],\n",
       "       [ 1.69917719e+00, -9.69965084e+00]])"
      ]
     },
     "execution_count": 94,
     "metadata": {},
     "output_type": "execute_result"
    }
   ],
   "source": [
    "features"
   ]
  },
  {
   "cell_type": "code",
   "execution_count": 95,
   "id": "5227ccc5",
   "metadata": {},
   "outputs": [
    {
     "data": {
      "text/plain": [
       "array([3, 1, 2, 3, 1, 0, 3, 2, 0, 4, 0, 0, 1, 1, 4, 1, 4, 0, 0, 3, 0, 3,\n",
       "       2, 3, 4, 3, 4, 1, 3, 3, 1, 1, 4, 1, 0, 2, 0, 2, 1, 2, 3, 3, 1, 2,\n",
       "       1, 0, 3, 0, 1, 3, 4, 3, 0, 4, 2, 2, 1, 0, 1, 1, 1, 2, 2, 2, 3, 4,\n",
       "       3, 2, 3, 4, 4, 2, 2, 2, 3, 3, 4, 2, 2, 1, 2, 1, 3, 0, 3, 2, 1, 4,\n",
       "       0, 1, 1, 2, 3, 1, 0, 2, 1, 3, 1, 4, 3, 4, 4, 4, 2, 1, 3, 2, 0, 1,\n",
       "       4, 0, 1, 1, 3, 3, 3, 0, 3, 0, 1, 0, 2, 3, 0, 3, 0, 3, 2, 2, 0, 3,\n",
       "       4, 1, 2, 2, 2, 1, 3, 4, 1, 2, 3, 3, 3, 0, 1, 2, 0, 0, 2, 4, 0, 0,\n",
       "       4, 3, 4, 1, 4, 3, 1, 1, 1, 4, 1, 1, 0, 2, 3, 3, 3, 3, 3, 2, 2, 4,\n",
       "       3, 2, 2, 1, 1, 0, 1, 1, 1, 1, 0, 2, 1, 1, 1, 3, 1, 4, 4, 2, 4, 3,\n",
       "       0, 1, 3, 4, 4, 1, 1, 1, 2, 3, 0, 2, 2, 1, 1, 0, 3, 2, 2, 4, 2, 4,\n",
       "       1, 0, 1, 2, 3, 0, 4, 4, 4, 4, 2, 4, 4, 0, 4, 4, 2, 2, 3, 3, 4, 1,\n",
       "       2, 2, 2, 1, 1, 3, 4, 4, 4, 3, 3, 1, 4, 4, 4, 0, 3, 2, 0, 0, 2, 1,\n",
       "       0, 3, 2, 3, 0, 2, 4, 1, 4, 1, 0, 4, 4, 0, 3, 0, 0, 0, 2, 2, 0, 2,\n",
       "       1, 3, 0, 4, 1, 2, 0, 0, 2, 4, 2, 4, 0, 4, 0, 2, 4, 2, 1, 1, 0, 4,\n",
       "       0, 1, 2, 1, 2, 1, 2, 2, 4, 0, 2, 2, 1, 4, 2, 0, 4, 2, 2, 4, 0, 2,\n",
       "       4, 2, 3, 3, 3, 0, 0, 3, 0, 4, 1, 0, 1, 0, 4, 0, 0, 3, 3, 1, 0, 0,\n",
       "       0, 0, 4, 2, 0, 1, 0, 1, 4, 3, 4, 4, 0, 4, 3, 3, 4, 4, 3, 4, 0, 3,\n",
       "       4, 2, 4, 0, 0, 0, 0, 0, 2, 3, 1, 1, 1, 3, 3, 0, 0, 4, 4, 2, 3, 2,\n",
       "       2, 1, 0, 1, 4, 0, 3, 3, 3, 0, 4, 1, 1, 4, 3, 0, 1, 2, 2, 0, 4, 4,\n",
       "       3, 4, 1, 3, 4, 2, 4, 4, 0, 4, 0, 4, 1, 2, 3, 3, 3, 4, 1, 3, 3, 0,\n",
       "       2, 1, 0, 3, 1, 3, 0, 0, 3, 2, 3, 0, 3, 2, 4, 3, 0, 2, 3, 3, 1, 3,\n",
       "       3, 1, 1, 1, 4, 2, 2, 1, 3, 2, 1, 2, 2, 2, 4, 0, 0, 0, 2, 4, 4, 1,\n",
       "       0, 1, 4, 4, 0, 4, 3, 0, 2, 2, 4, 4, 1, 3, 4, 2])"
      ]
     },
     "execution_count": 95,
     "metadata": {},
     "output_type": "execute_result"
    }
   ],
   "source": [
    "true_labels"
   ]
  },
  {
   "cell_type": "markdown",
   "id": "07c32a79",
   "metadata": {},
   "source": [
    "## Data Preprocessing"
   ]
  },
  {
   "cell_type": "markdown",
   "id": "db8cf635",
   "metadata": {},
   "source": [
    "Data sets usually contain numerical features that have been measured in different units, such as height (in inches) and weight (in pounds). A machine learning algorithm would consider weight more important than height only because the values for weight are larger and have higher variability from person to person.\n",
    "\n",
    "Machine learning algorithms need to consider all features on an even playing field. That means the values for all features must be transformed to the same scale.\n",
    "\n",
    "The process of transforming numerical features to use the same scale is known as feature scaling. It’s an important data preprocessing step for most distance-based machine learning algorithms because it can have a significant impact on the performance of your algorithm."
   ]
  },
  {
   "cell_type": "markdown",
   "id": "8c85b7c5",
   "metadata": {},
   "source": [
    "### Standardization\n",
    " Standardization scales, or shifts, the values for each numerical feature in your dataset so that the features have a mean of 0 and standard deviation of 1:\n",
    " \n",
    "In this example, we’ll use the StandardScaler class.This class implements a type of feature scaling called standardization."
   ]
  },
  {
   "cell_type": "code",
   "execution_count": 96,
   "id": "89e38b58",
   "metadata": {},
   "outputs": [],
   "source": [
    "scaler = StandardScaler()\n",
    "scaled_features = scaler.fit_transform(features)"
   ]
  },
  {
   "cell_type": "code",
   "execution_count": 138,
   "id": "d1d304eb",
   "metadata": {},
   "outputs": [
    {
     "data": {
      "text/plain": [
       "<matplotlib.collections.PathCollection at 0x23d8f775520>"
      ]
     },
     "execution_count": 138,
     "metadata": {},
     "output_type": "execute_result"
    },
    {
     "data": {
      "image/png": "[encoded data removed]",
      "text/plain": [
       "<Figure size 432x288 with 1 Axes>"
      ]
     },
     "metadata": {},
     "output_type": "display_data"
    }
   ],
   "source": [
    "plt.scatter(scaled_features[:,0], scaled_features[:,1])"
   ]
  },
  {
   "cell_type": "code",
   "execution_count": 97,
   "id": "44612526",
   "metadata": {},
   "outputs": [
    {
     "data": {
      "text/plain": [
       "array([[-1.45516139e+00,  8.83710735e-01],\n",
       "       [ 9.19862859e-02,  1.53877012e+00],\n",
       "       [-8.69052830e-03, -3.55332661e-01],\n",
       "       [-1.37830903e+00,  1.45671662e+00],\n",
       "       [ 5.68213302e-01,  8.81977089e-01],\n",
       "       [ 1.62219689e+00, -1.23504229e+00],\n",
       "       [-4.27035538e-01,  8.95102775e-01],\n",
       "       [-3.02328274e-01, -7.33680399e-01],\n",
       "       [ 1.32946606e+00, -1.08910001e+00],\n",
       "       [-1.49654431e+00, -1.19480898e+00],\n",
       "       [ 1.07023631e+00, -1.26288437e+00],\n",
       "       [ 1.55186185e+00, -1.91391778e+00],\n",
       "       [ 3.39715218e-01,  9.05799620e-01],\n",
       "       [ 8.77904252e-01,  1.13988473e+00],\n",
       "       [-9.90214848e-01, -1.01636678e+00],\n",
       "       [ 3.73664302e-02,  1.32207031e+00],\n",
       "       [-1.46167247e+00, -6.81868185e-01],\n",
       "       [ 1.67040738e+00, -1.24520540e+00],\n",
       "       [ 1.14149626e+00, -1.14647924e+00],\n",
       "       [-8.40789765e-01,  1.50197731e+00],\n",
       "       [ 1.29625295e+00, -9.95135100e-01],\n",
       "       [-9.91310363e-01,  1.23818345e+00],\n",
       "       [ 3.60526710e-01,  2.88964854e-01],\n",
       "       [-1.12358130e+00,  1.45049539e+00],\n",
       "       [-1.13744308e+00, -9.62106017e-01],\n",
       "       [-1.21703550e+00,  1.03103186e+00],\n",
       "       [-8.28022196e-01, -6.40873412e-01],\n",
       "       [ 7.12355406e-01,  1.27225690e+00],\n",
       "       [-8.99214892e-01,  1.17013582e+00],\n",
       "       [-1.58252321e+00,  7.39535931e-01],\n",
       "       [ 1.55182516e+00,  1.23049887e+00],\n",
       "       [ 1.08386942e+00,  1.00096022e+00],\n",
       "       [-1.20668702e+00, -8.05584443e-01],\n",
       "       [ 7.54479213e-01,  1.09550480e+00],\n",
       "       [ 1.24035942e+00, -1.59493552e+00],\n",
       "       [ 3.65754139e-01, -6.86978166e-01],\n",
       "       [ 7.71956989e-01, -1.14308442e+00],\n",
       "       [-8.97281052e-01, -3.87766546e-01],\n",
       "       [ 1.36253375e+00,  9.73229504e-01],\n",
       "       [ 1.10695640e-01, -1.05452843e-01],\n",
       "       [-1.88517052e-01,  1.48358452e+00],\n",
       "       [-1.00953705e+00,  1.71527117e+00],\n",
       "       [ 1.37958812e+00,  5.48494245e-01],\n",
       "       [ 1.88878001e-01, -4.27213319e-01],\n",
       "       [ 8.66464692e-01,  1.19469646e+00],\n",
       "       [ 1.11452921e+00, -7.33162278e-01],\n",
       "       [-1.42188030e+00,  1.42531023e+00],\n",
       "       [ 1.63668914e+00, -1.19760449e+00],\n",
       "       [ 1.99863197e-01,  1.07343014e+00],\n",
       "       [-1.00802800e+00,  8.78883694e-01],\n",
       "       [-1.13828896e+00, -1.12812890e+00],\n",
       "       [-9.91807489e-01,  8.58526117e-01],\n",
       "       [ 1.18622343e+00, -9.41419285e-01],\n",
       "       [-1.02784098e+00, -5.44801395e-01],\n",
       "       [ 2.30246877e-01, -6.45827033e-01],\n",
       "       [ 2.19816427e-01, -6.53623795e-01],\n",
       "       [ 4.03360313e-01,  1.16369743e+00],\n",
       "       [ 8.09091144e-01, -9.79708537e-01],\n",
       "       [ 5.87438949e-01,  7.63543747e-01],\n",
       "       [ 3.96109469e-01,  1.46759418e+00],\n",
       "       [ 1.96755873e-01,  1.23487902e+00],\n",
       "       [ 6.76910630e-02, -1.77982718e-01],\n",
       "       [ 7.42815902e-01, -6.13578540e-01],\n",
       "       [-2.13832608e-01, -3.22898143e-01],\n",
       "       [-6.48690299e-01,  1.22016078e+00],\n",
       "       [-1.05933970e+00, -1.15069258e+00],\n",
       "       [-1.16634088e+00,  1.04902004e+00],\n",
       "       [ 2.23311994e-01, -5.10863529e-01],\n",
       "       [-8.39027638e-01,  1.43317814e+00],\n",
       "       [-9.00476908e-01, -5.95571402e-01],\n",
       "       [-1.12182872e+00, -9.66135462e-01],\n",
       "       [-7.41720750e-02, -9.02589552e-02],\n",
       "       [ 4.47414406e-02, -2.71332225e-01],\n",
       "       [ 6.37209617e-01, -2.02358098e-01],\n",
       "       [-1.46884487e+00,  1.17907230e+00],\n",
       "       [-1.25227450e+00,  1.04449815e+00],\n",
       "       [-1.01851357e+00, -8.61984716e-01],\n",
       "       [ 6.47366106e-01, -5.18191984e-01],\n",
       "       [-1.00092375e-01, -5.25609345e-01],\n",
       "       [ 8.17901466e-01,  1.11369789e+00],\n",
       "       [-2.61531780e-01, -6.91382111e-01],\n",
       "       [ 1.30827465e+00,  1.48489450e+00],\n",
       "       [-7.89976715e-01,  1.19606385e+00],\n",
       "       [ 1.65593771e+00, -1.04424638e+00],\n",
       "       [-6.73909904e-01,  1.48857232e+00],\n",
       "       [-4.29658348e-02, -7.49451080e-01],\n",
       "       [ 5.75575920e-01,  1.08770139e+00],\n",
       "       [-6.25190406e-01, -9.18211703e-01],\n",
       "       [ 1.71826781e+00, -9.24419359e-01],\n",
       "       [ 5.24615290e-01,  1.53798847e+00],\n",
       "       [ 1.15559234e+00,  1.55439924e+00],\n",
       "       [ 5.31362800e-01, -6.80546159e-01],\n",
       "       [-1.27725604e+00,  1.23584580e+00],\n",
       "       [ 7.49044666e-01,  1.13986178e+00],\n",
       "       [ 1.17786560e+00, -1.17047387e+00],\n",
       "       [ 2.70075603e-01, -5.36176875e-01],\n",
       "       [ 8.28157533e-01,  1.02776060e+00],\n",
       "       [-8.49351119e-01,  1.51207112e+00],\n",
       "       [ 8.59319504e-01,  6.45197461e-01],\n",
       "       [-8.62149606e-01, -7.50752911e-01],\n",
       "       [-1.37642794e+00,  1.10332524e+00],\n",
       "       [-1.28591233e+00, -8.45831695e-01],\n",
       "       [-1.12641342e+00, -2.56399940e-01],\n",
       "       [-1.27785504e+00, -6.31290739e-01],\n",
       "       [ 4.10144007e-01, -6.20737878e-01],\n",
       "       [ 1.23810105e+00,  1.18039044e+00],\n",
       "       [-5.31170535e-01,  1.47100187e+00],\n",
       "       [ 2.96720213e-01, -1.39986541e-01],\n",
       "       [ 8.47544004e-01, -8.87670281e-01],\n",
       "       [ 1.13576639e+00,  1.19300540e+00],\n",
       "       [-8.45418621e-01, -9.28853361e-01],\n",
       "       [ 1.24627282e+00, -6.69590918e-01],\n",
       "       [ 4.55527128e-01,  1.31777751e+00],\n",
       "       [ 2.87074287e-01,  7.34723130e-01],\n",
       "       [-6.69306159e-01,  9.38185807e-01],\n",
       "       [-1.33476971e+00,  1.52502878e+00],\n",
       "       [-7.37649518e-01,  1.11297803e+00],\n",
       "       [ 1.46288056e+00, -1.26165804e+00],\n",
       "       [-9.57329166e-01,  1.22169629e+00],\n",
       "       [ 1.66275525e+00, -2.93948701e-01],\n",
       "       [ 5.54168088e-01,  1.33626040e+00],\n",
       "       [ 1.10833999e+00, -1.17670438e+00],\n",
       "       [ 6.93720161e-01, -3.83267356e-01],\n",
       "       [-1.32747727e+00,  8.41623793e-01],\n",
       "       [ 8.41305045e-01, -1.17301762e+00],\n",
       "       [-1.07304269e+00,  1.76561882e+00],\n",
       "       [ 1.61423894e+00, -9.54673835e-01],\n",
       "       [-7.53241631e-01,  1.35480569e+00],\n",
       "       [ 1.01240482e+00, -4.93692785e-01],\n",
       "       [ 3.84578963e-01, -5.57194827e-01],\n",
       "       [ 9.29037324e-01, -8.64787062e-01],\n",
       "       [-1.02262689e+00,  1.14901431e+00],\n",
       "       [-7.98286094e-01, -1.03707336e+00],\n",
       "       [ 3.21017005e-01,  1.12271890e+00],\n",
       "       [ 3.36634995e-01, -3.32866856e-01],\n",
       "       [ 1.67727703e-01, -3.76612693e-01],\n",
       "       [ 9.12625071e-02, -4.48764020e-01],\n",
       "       [ 1.28463204e+00,  1.20987233e+00],\n",
       "       [-7.65197262e-01,  1.23162748e+00],\n",
       "       [-1.91245212e+00, -7.49943546e-01],\n",
       "       [ 9.22999900e-01,  4.91081319e-01],\n",
       "       [ 4.10812709e-01, -4.27626082e-01],\n",
       "       [-8.17656956e-01,  4.26343460e-01],\n",
       "       [-1.35937026e-01,  1.03904860e+00],\n",
       "       [-8.87808313e-01,  1.50618956e+00],\n",
       "       [ 1.28836290e+00, -1.08018019e+00],\n",
       "       [ 1.68804505e+00,  8.10345214e-01],\n",
       "       [ 1.56922107e-01, -8.83756993e-01],\n",
       "       [ 1.08425059e+00, -7.75071985e-01],\n",
       "       [ 7.66860518e-01, -9.87224553e-01],\n",
       "       [ 1.87219708e-01,  1.57024602e-02],\n",
       "       [-1.40955392e+00, -1.23698420e+00],\n",
       "       [ 9.54375434e-01, -9.34059754e-01],\n",
       "       [ 1.06795614e+00, -9.34553810e-01],\n",
       "       [-5.01631402e-01, -9.44837129e-01],\n",
       "       [-1.12566736e+00,  8.33258369e-01],\n",
       "       [-9.29686429e-01, -1.39002162e+00],\n",
       "       [ 7.02175523e-01,  1.55878061e+00],\n",
       "       [-9.93082394e-01, -5.78356799e-01],\n",
       "       [-1.21904065e+00,  1.55484676e+00],\n",
       "       [ 1.01320140e+00,  1.14194376e+00],\n",
       "       [ 8.41710747e-01,  9.05902131e-01],\n",
       "       [ 2.96150875e-01,  1.06204308e+00],\n",
       "       [-6.83121448e-01, -8.50125738e-01],\n",
       "       [ 8.25989126e-01,  9.67258435e-01],\n",
       "       [ 4.59128174e-01,  1.03150645e+00],\n",
       "       [ 1.37002089e+00, -8.30361355e-01],\n",
       "       [ 2.39121944e-01, -2.58735225e-01],\n",
       "       [-8.25937148e-01,  1.02281295e+00],\n",
       "       [-6.83534621e-01,  8.68655339e-01],\n",
       "       [-1.40507290e+00,  1.05887183e+00],\n",
       "       [-1.02677233e+00,  1.71805788e+00],\n",
       "       [-1.25132126e+00,  1.37790449e+00],\n",
       "       [ 1.87211760e-01, -2.57976735e-01],\n",
       "       [-3.43398822e-01, -2.71557779e-01],\n",
       "       [-1.47898676e+00, -1.13134296e+00],\n",
       "       [-1.21470256e+00,  1.59688013e+00],\n",
       "       [ 2.63214566e-01, -2.97383271e-02],\n",
       "       [ 7.86957310e-01, -2.05124008e-01],\n",
       "       [ 5.88967543e-02,  1.26806651e+00],\n",
       "       [ 4.22464202e-01,  1.17014543e+00],\n",
       "       [ 1.27803667e+00, -1.62080092e+00],\n",
       "       [ 8.50780033e-01,  7.75733787e-01],\n",
       "       [ 8.31605977e-01,  1.22429344e+00],\n",
       "       [ 5.85598660e-01,  9.31871560e-01],\n",
       "       [ 9.76245570e-01,  9.91945428e-01],\n",
       "       [ 1.34711068e+00, -1.12788250e+00],\n",
       "       [ 3.68099253e-01, -2.56471218e-01],\n",
       "       [ 9.62949934e-01,  1.12857036e+00],\n",
       "       [ 8.66186153e-01,  1.49400659e+00],\n",
       "       [ 4.40740135e-01,  1.03060941e+00],\n",
       "       [-1.72503555e-01,  1.44480466e+00],\n",
       "       [ 1.13486064e+00,  1.43864789e+00],\n",
       "       [-1.16882727e+00, -1.39665413e+00],\n",
       "       [-1.28624939e+00, -5.77130356e-01],\n",
       "       [ 1.17469030e+00, -4.01184344e-01],\n",
       "       [-1.64599237e+00, -6.84383449e-01],\n",
       "       [-7.74333904e-01,  1.10373578e+00],\n",
       "       [ 1.44528634e+00, -1.13182152e+00],\n",
       "       [ 9.10386200e-01,  8.20744827e-01],\n",
       "       [-1.70941293e+00,  7.87712419e-01],\n",
       "       [-6.83981468e-01, -5.92833775e-01],\n",
       "       [-9.63879313e-01, -1.96021726e-01],\n",
       "       [ 9.61874065e-01,  9.21653982e-01],\n",
       "       [ 3.60737573e-01,  1.20127744e+00],\n",
       "       [ 1.01010669e+00,  7.26057889e-01],\n",
       "       [ 7.02139182e-02, -3.63198040e-01],\n",
       "       [-1.30835369e+00,  6.07965684e-01],\n",
       "       [ 1.10651939e+00, -1.01038694e+00],\n",
       "       [-3.68593078e-01, -3.92180575e-01],\n",
       "       [ 2.29665013e-01, -4.35233244e-01],\n",
       "       [ 8.40887672e-01,  1.12738299e+00],\n",
       "       [ 7.61576265e-01,  1.10418754e+00],\n",
       "       [ 6.59526303e-01, -1.22943011e+00],\n",
       "       [-1.68008789e+00,  9.60080171e-01],\n",
       "       [ 3.81424389e-01, -5.72948365e-01],\n",
       "       [ 1.24008803e-01, -4.31926007e-01],\n",
       "       [-1.20303070e+00, -3.97708252e-01],\n",
       "       [ 1.39928164e-03, -2.60807903e-01],\n",
       "       [-9.00402989e-01, -9.27298329e-01],\n",
       "       [ 2.21738034e-01,  1.20109548e+00],\n",
       "       [ 1.29909896e+00, -1.50898634e+00],\n",
       "       [ 8.66594793e-01,  1.37794932e+00],\n",
       "       [-1.04392827e+00,  1.48265598e-02],\n",
       "       [-7.86058811e-01,  1.46420222e+00],\n",
       "       [ 2.10379936e+00, -1.24740324e+00],\n",
       "       [-1.19406900e+00, -7.12084831e-01],\n",
       "       [-1.53371988e+00, -1.42375474e+00],\n",
       "       [-1.47206837e+00, -5.20541596e-01],\n",
       "       [-1.60280766e+00, -1.23490960e+00],\n",
       "       [-2.05798648e-01,  2.17493631e-02],\n",
       "       [-1.03953540e+00, -8.58119344e-01],\n",
       "       [-9.19310793e-01, -9.20160890e-01],\n",
       "       [ 1.05913657e+00, -1.06369967e+00],\n",
       "       [-9.07576883e-01, -9.18406522e-01],\n",
       "       [-8.64271956e-01, -6.33120767e-01],\n",
       "       [ 2.25232891e-01, -1.60921924e-02],\n",
       "       [ 4.42352155e-02, -6.18436244e-01],\n",
       "       [-1.15699474e+00,  1.09292083e+00],\n",
       "       [-1.17595896e+00,  1.22932577e+00],\n",
       "       [-9.79375975e-01, -7.67381126e-01],\n",
       "       [ 2.96850209e-01,  1.31463297e+00],\n",
       "       [ 9.36366749e-02, -1.83920277e-01],\n",
       "       [ 3.75956440e-02, -2.01033182e-01],\n",
       "       [ 5.54028160e-01, -6.59233243e-01],\n",
       "       [ 6.26142867e-01,  1.05231058e+00],\n",
       "       [ 7.62214737e-01,  1.21279974e+00],\n",
       "       [-7.36611866e-01,  1.13868060e+00],\n",
       "       [-1.26937013e+00, -9.33165916e-01],\n",
       "       [-9.74774010e-01, -7.88780031e-01],\n",
       "       [-7.86461548e-01, -1.32279381e+00],\n",
       "       [-5.50335936e-01,  7.75535871e-01],\n",
       "       [-5.54192908e-01,  1.01331673e+00],\n",
       "       [ 5.86541741e-02,  1.21149644e+00],\n",
       "       [-9.77013664e-01, -6.69843968e-01],\n",
       "       [-8.55790500e-01, -3.57648866e-01],\n",
       "       [-1.27839020e+00, -7.34183241e-01],\n",
       "       [ 1.32148894e+00, -6.89754006e-01],\n",
       "       [-8.21715561e-01,  1.23715894e+00],\n",
       "       [ 5.13809698e-01, -5.90803099e-01],\n",
       "       [ 1.29646385e+00, -3.17856679e-01],\n",
       "       [ 1.70191691e+00, -1.01871017e+00],\n",
       "       [-1.48111092e-01, -2.43872905e-01],\n",
       "       [ 6.14248853e-01,  7.96870527e-01],\n",
       "       [ 1.16537535e+00, -1.18490615e+00],\n",
       "       [-1.19689747e+00,  1.25802878e+00],\n",
       "       [-1.24933157e-01, -8.58745070e-02],\n",
       "       [-1.71869566e+00,  9.82893925e-01],\n",
       "       [ 1.04838232e+00, -6.53992026e-01],\n",
       "       [ 6.20126062e-01, -1.31597976e-01],\n",
       "       [-1.16249469e+00, -8.04999939e-01],\n",
       "       [ 6.85942436e-01,  1.79349418e+00],\n",
       "       [-1.15205909e+00, -8.28773540e-01],\n",
       "       [ 9.35928718e-01,  6.82546834e-01],\n",
       "       [ 1.28232772e+00, -8.94993366e-01],\n",
       "       [-1.20737933e+00, -9.87112258e-01],\n",
       "       [-1.20147208e+00, -9.92621589e-01],\n",
       "       [ 1.17262848e+00, -1.25172805e+00],\n",
       "       [-1.04171673e+00,  6.53866327e-01],\n",
       "       [ 9.79615528e-01, -1.42028894e+00],\n",
       "       [ 1.46481694e+00, -7.54227625e-01],\n",
       "       [ 1.82152660e+00, -8.28720359e-01],\n",
       "       [-5.03400671e-02, -7.06275713e-01],\n",
       "       [ 8.39661016e-02, -6.80813133e-01],\n",
       "       [ 1.39758193e+00, -8.06083668e-01],\n",
       "       [-1.03380452e-02, -4.73619929e-01],\n",
       "       [ 3.42632279e-01,  1.48320693e+00],\n",
       "       [-1.08767530e+00,  7.90070650e-01],\n",
       "       [ 1.31658301e+00, -8.90302889e-01],\n",
       "       [-7.33805005e-01, -1.09276459e+00],\n",
       "       [ 7.47717085e-01,  1.15198562e+00],\n",
       "       [ 6.14468242e-01, -9.45826212e-01],\n",
       "       [ 7.88345925e-01, -1.06404602e+00],\n",
       "       [ 1.33863168e+00, -5.47112923e-01],\n",
       "       [ 9.49419849e-01, -5.95949977e-01],\n",
       "       [-1.26738656e+00, -8.06203314e-01],\n",
       "       [ 1.78641662e-01, -5.29421536e-01],\n",
       "       [-1.57325955e+00, -6.78967748e-01],\n",
       "       [ 8.92217068e-01, -1.09071202e+00],\n",
       "       [-1.13038379e+00, -4.76607341e-01],\n",
       "       [ 1.17114244e+00, -1.66165577e+00],\n",
       "       [ 4.62375985e-01, -5.65465525e-01],\n",
       "       [-1.35770551e+00, -5.90190163e-01],\n",
       "       [ 5.15103699e-01, -3.50368275e-01],\n",
       "       [ 4.17105698e-01,  1.30168816e+00],\n",
       "       [ 1.05904585e+00,  8.50011762e-01],\n",
       "       [ 1.40938765e+00, -1.07129074e+00],\n",
       "       [-1.10815459e+00, -1.18956754e+00],\n",
       "       [ 8.01396483e-01, -1.26485336e+00],\n",
       "       [ 1.11292634e+00,  1.31993750e+00],\n",
       "       [ 1.37650907e-01, -5.75596660e-01],\n",
       "       [ 7.48907554e-01,  1.26821917e+00],\n",
       "       [ 8.09599268e-02, -3.99485845e-01],\n",
       "       [ 4.44256859e-01,  1.38771224e+00],\n",
       "       [ 7.09364417e-01, -9.14289066e-03],\n",
       "       [-9.19755813e-02, -6.16428458e-01],\n",
       "       [-1.71359606e+00, -8.57155602e-01],\n",
       "       [ 1.19762474e+00, -1.07937730e+00],\n",
       "       [ 5.10851036e-01, -7.16986664e-01],\n",
       "       [-4.68532411e-01, -2.19024405e-01],\n",
       "       [ 1.08594468e+00,  1.24486054e+00],\n",
       "       [-1.23410138e+00, -8.64668034e-01],\n",
       "       [-2.58343777e-01, -9.72957935e-01],\n",
       "       [ 1.94562134e+00, -5.96870748e-01],\n",
       "       [-4.46803161e-01, -9.30844122e-01],\n",
       "       [-1.46491634e-01, -6.66844259e-01],\n",
       "       [ 3.62262412e-01, -8.30302708e-01],\n",
       "       [-1.22507690e+00, -6.35202036e-01],\n",
       "       [ 6.26511444e-01, -8.42789731e-01],\n",
       "       [ 4.62230299e-01, -6.87026909e-01],\n",
       "       [-8.97418067e-01, -1.06122871e+00],\n",
       "       [-2.00055983e-02, -6.43979673e-01],\n",
       "       [-6.17627827e-01,  1.58488539e+00],\n",
       "       [-1.05541853e+00,  1.72991125e+00],\n",
       "       [-1.40592394e+00,  1.30438281e+00],\n",
       "       [ 1.94550763e+00, -5.08314575e-01],\n",
       "       [ 1.17756763e+00, -9.10403791e-01],\n",
       "       [-6.26168074e-01,  1.47085132e+00],\n",
       "       [ 1.40307299e+00, -8.47967046e-01],\n",
       "       [-1.29278750e+00, -1.19375992e+00],\n",
       "       [ 1.12486798e+00,  1.06555031e+00],\n",
       "       [ 1.31484520e+00, -2.93256678e-01],\n",
       "       [ 7.50681889e-01,  1.06271344e+00],\n",
       "       [ 4.49278750e-01, -1.54611720e+00],\n",
       "       [-6.75963095e-01, -8.32670189e-01],\n",
       "       [ 7.33168757e-01, -1.09341810e+00],\n",
       "       [ 1.15361402e+00, -1.13518603e+00],\n",
       "       [-1.18300722e+00,  1.47380912e+00],\n",
       "       [-9.28431828e-01,  8.05219820e-01],\n",
       "       [ 6.62461472e-01,  8.86660651e-01],\n",
       "       [ 1.38883354e+00, -9.04168852e-01],\n",
       "       [ 1.07789050e+00, -1.13122946e+00],\n",
       "       [ 7.69173845e-01, -1.60500441e+00],\n",
       "       [ 1.08740495e+00, -1.43185144e+00],\n",
       "       [-5.28753463e-01, -9.87080153e-01],\n",
       "       [-3.49520943e-03, -2.75259190e-01],\n",
       "       [ 1.59100896e+00, -1.44947811e+00],\n",
       "       [ 7.00483239e-01,  1.08915549e+00],\n",
       "       [ 1.09507419e+00, -1.19086038e+00],\n",
       "       [ 3.52425800e-01,  1.03028455e+00],\n",
       "       [-1.08750666e+00, -1.16085692e+00],\n",
       "       [-2.86828100e-01,  1.15153053e+00],\n",
       "       [-1.62165647e+00, -8.01059426e-01],\n",
       "       [-1.21835540e+00, -1.11414160e+00],\n",
       "       [ 9.26874622e-01, -1.10504109e+00],\n",
       "       [-9.24088655e-01, -6.96465911e-01],\n",
       "       [-1.20250130e+00,  1.53595020e+00],\n",
       "       [-1.51924200e+00,  1.31566363e+00],\n",
       "       [-1.03642493e+00, -7.62294136e-01],\n",
       "       [-1.36880516e+00, -7.15880270e-01],\n",
       "       [-6.51135097e-01,  1.10655288e+00],\n",
       "       [-1.47739786e+00, -4.16719452e-01],\n",
       "       [ 1.23343995e+00, -6.11499539e-01],\n",
       "       [-1.05253915e+00,  1.34072174e+00],\n",
       "       [-1.44360210e+00, -5.69236090e-01],\n",
       "       [-3.42763037e-01, -1.05128046e-01],\n",
       "       [-5.06388680e-01, -8.68690449e-01],\n",
       "       [ 1.62027360e+00, -5.29793066e-01],\n",
       "       [ 1.50825214e+00, -1.60893536e+00],\n",
       "       [ 1.29952314e+00, -1.18062599e+00],\n",
       "       [ 8.31627121e-01, -7.21499041e-01],\n",
       "       [ 1.70366244e+00, -8.80600068e-01],\n",
       "       [-3.13189715e-01, -1.95767957e-01],\n",
       "       [-1.55916077e-01,  1.15771844e+00],\n",
       "       [ 7.32441033e-01,  1.23241593e+00],\n",
       "       [ 1.04155174e-01,  9.78385158e-01],\n",
       "       [ 4.63436970e-01,  1.39299231e+00],\n",
       "       [-4.77490764e-01,  8.32568296e-01],\n",
       "       [-9.08878140e-01,  1.60008834e+00],\n",
       "       [ 1.03024245e+00, -9.85449170e-01],\n",
       "       [ 1.01398179e+00, -1.00077634e+00],\n",
       "       [-1.65081371e+00, -1.39817395e+00],\n",
       "       [-1.01925711e+00, -6.47630560e-01],\n",
       "       [ 1.70019871e-01, -6.89983998e-01],\n",
       "       [-9.78595057e-01,  7.07207910e-01],\n",
       "       [ 5.78075971e-03, -4.35486871e-01],\n",
       "       [-3.74394498e-01, -7.96272764e-01],\n",
       "       [ 7.38083231e-01,  1.38546023e+00],\n",
       "       [ 2.10016643e+00, -7.54468679e-01],\n",
       "       [ 9.61374959e-01,  1.40032822e+00],\n",
       "       [-1.18559007e+00, -1.16745877e+00],\n",
       "       [ 1.75651719e+00, -1.34869312e+00],\n",
       "       [-9.97353499e-01,  9.75930476e-01],\n",
       "       [-1.30583924e+00,  1.16135186e+00],\n",
       "       [-1.20284429e+00,  1.39029470e+00],\n",
       "       [ 1.51400103e+00, -9.66861170e-01],\n",
       "       [-1.10529330e+00, -1.10672356e+00],\n",
       "       [ 3.04774679e-01,  1.26140072e+00],\n",
       "       [ 4.98213036e-01,  1.24264025e+00],\n",
       "       [-6.30783243e-01, -6.23016649e-01],\n",
       "       [-9.20801760e-01,  1.35967654e+00],\n",
       "       [ 1.30660930e+00, -1.16750460e+00],\n",
       "       [ 1.01063803e+00,  1.21732680e+00],\n",
       "       [-4.33771631e-01, -5.59814533e-01],\n",
       "       [-1.85333846e-02, -4.48021920e-01],\n",
       "       [ 1.69004119e+00, -9.69410171e-01],\n",
       "       [-1.19821744e+00, -1.26114216e+00],\n",
       "       [-1.51418335e+00, -1.05166665e+00],\n",
       "       [-1.54423315e+00,  1.30978555e+00],\n",
       "       [-1.39052422e+00, -1.01238272e+00],\n",
       "       [ 1.04870549e+00,  1.14706248e+00],\n",
       "       [-1.62249801e+00,  9.13581035e-01],\n",
       "       [-1.34389472e+00, -5.69874180e-01],\n",
       "       [ 2.04056828e-02,  4.38340289e-02],\n",
       "       [-2.14061869e+00, -1.07071932e+00],\n",
       "       [-9.48846519e-01, -8.37342018e-01],\n",
       "       [ 9.92163712e-01, -8.16739136e-01],\n",
       "       [-1.46807104e+00, -6.24016927e-01],\n",
       "       [ 1.55360835e+00, -1.33158749e+00],\n",
       "       [-1.25368368e+00, -8.06181401e-01],\n",
       "       [-8.56264177e-02,  1.29948556e+00],\n",
       "       [ 4.23575894e-03, -6.45108876e-01],\n",
       "       [-1.04330930e+00,  1.21063850e+00],\n",
       "       [-1.39444233e-01,  9.64503815e-01],\n",
       "       [-1.39685389e+00,  9.33218910e-01],\n",
       "       [-1.55882779e+00, -6.79914085e-01],\n",
       "       [ 1.09195144e+00,  1.24937791e+00],\n",
       "       [-1.01774815e+00,  1.32022646e+00],\n",
       "       [-5.76645571e-01,  1.18714035e+00],\n",
       "       [ 3.29448284e-01, -1.38324237e+00],\n",
       "       [ 3.63998628e-01, -2.61634866e-01],\n",
       "       [ 9.52014116e-01,  6.33357151e-01],\n",
       "       [ 1.24611076e+00, -1.16909179e+00],\n",
       "       [-1.02736579e+00,  6.10752945e-01],\n",
       "       [ 7.03867605e-01,  1.48787228e+00],\n",
       "       [-9.60484713e-01,  1.22007741e+00],\n",
       "       [ 2.03611061e+00, -9.92566648e-01],\n",
       "       [ 1.10918409e+00, -1.36349360e+00],\n",
       "       [-1.01746352e+00,  1.08635427e+00],\n",
       "       [ 8.41964036e-02, -7.71194163e-01],\n",
       "       [-4.88231964e-01,  1.13798456e+00],\n",
       "       [ 5.49959767e-01, -8.45260137e-01],\n",
       "       [-7.14802481e-01,  1.22566124e+00],\n",
       "       [-2.08836493e-01, -6.23367847e-01],\n",
       "       [-8.33349475e-01, -7.81845176e-01],\n",
       "       [-1.07968323e+00,  1.11794118e+00],\n",
       "       [ 1.61137741e+00, -8.59524634e-01],\n",
       "       [-2.79147803e-01, -4.64727973e-01],\n",
       "       [-4.74387878e-01,  1.96572193e+00],\n",
       "       [-1.04750613e+00,  1.08587960e+00],\n",
       "       [ 1.03779886e+00,  1.38120814e+00],\n",
       "       [-1.02543396e+00,  1.17888636e+00],\n",
       "       [-7.53908591e-01,  8.25614722e-01],\n",
       "       [ 6.13370858e-01,  1.21886728e+00],\n",
       "       [ 1.39444629e+00,  1.22185228e+00],\n",
       "       [ 6.86051529e-01,  8.50158186e-01],\n",
       "       [-1.99682116e+00, -8.15965858e-01],\n",
       "       [-2.78952813e-01, -1.99840599e-01],\n",
       "       [ 2.49201592e-01, -8.28886027e-01],\n",
       "       [ 3.65699151e-01,  6.66634599e-01],\n",
       "       [-1.16725996e+00,  1.03794998e+00],\n",
       "       [ 1.14224547e-02, -4.93986780e-01],\n",
       "       [ 3.16175593e-01,  1.31361769e+00],\n",
       "       [-1.70633817e-01, -5.91994997e-01],\n",
       "       [ 4.31710801e-01, -6.00353615e-01],\n",
       "       [-1.22362936e-01, -2.77314214e-01],\n",
       "       [-4.28181395e-01, -7.81887467e-01],\n",
       "       [ 4.95169347e-01, -1.09370984e+00],\n",
       "       [ 1.04281420e+00, -7.94837206e-01],\n",
       "       [ 1.09359005e+00, -8.44990325e-01],\n",
       "       [ 1.09349484e-01, -4.30868900e-01],\n",
       "       [-7.11439574e-01, -6.92148534e-01],\n",
       "       [-1.57899773e+00, -3.78571062e-01],\n",
       "       [ 1.04624235e+00,  4.25935499e-01],\n",
       "       [ 1.58207317e+00, -9.77801110e-01],\n",
       "       [ 9.09893256e-01,  1.28065069e+00],\n",
       "       [-1.17351964e+00, -4.52992554e-01],\n",
       "       [-1.32608003e+00, -1.98251007e-01],\n",
       "       [ 1.57616236e+00, -1.11502778e+00],\n",
       "       [-6.45425440e-01, -7.33851759e-01],\n",
       "       [-1.00934314e+00,  1.61781953e+00],\n",
       "       [ 1.35950100e+00, -6.69503596e-01],\n",
       "       [ 3.78490063e-01, -2.33679378e-01],\n",
       "       [ 7.49351836e-01, -6.26148515e-01],\n",
       "       [-9.59840404e-01, -7.79717562e-01],\n",
       "       [-1.17703080e+00, -1.12487070e+00],\n",
       "       [ 1.31633318e-01,  6.60000336e-01],\n",
       "       [-1.15018883e+00,  9.32291993e-01],\n",
       "       [-1.65783608e+00, -6.37671910e-01],\n",
       "       [ 4.92363131e-01, -1.04449159e+00]])"
      ]
     },
     "execution_count": 97,
     "metadata": {},
     "output_type": "execute_result"
    }
   ],
   "source": [
    "scaled_features"
   ]
  },
  {
   "cell_type": "markdown",
   "id": "9b2eb69e",
   "metadata": {},
   "source": [
    "## Kmeans"
   ]
  },
  {
   "cell_type": "code",
   "execution_count": 98,
   "id": "ccd425ec",
   "metadata": {},
   "outputs": [],
   "source": [
    "# initialize the model\n",
    "\n",
    "kmeans = KMeans(\n",
    "        init=\"k-means++\",\n",
    "        n_clusters=3,\n",
    "        n_init=10,\n",
    "        max_iter=300,\n",
    "        random_state=42\n",
    "    )"
   ]
  },
  {
   "cell_type": "markdown",
   "id": "0e274451",
   "metadata": {},
   "source": [
    "Here are the parameters used in this example:\n",
    "\n",
    "* init :- controls the initialization technique. The standard version of the k-means algorithm is implemented by setting init to \"random\". Setting this to \"k-means++\" employs an advanced trick to speed up convergence, which you’ll use later.\n",
    "\n",
    "* n_clusters:- sets k for the clustering step. This is the most important parameter for k-means.\n",
    "\n",
    "* n_init:- sets the number of initializations to perform. This is important because two runs can converge on different cluster assignments. The default behavior for the scikit-learn algorithm is to perform ten k-means runs and return the results of the one with the lowest SSE.\n",
    "\n",
    "* max_iter:- sets the number of maximum iterations for each initialization of the k-means algorithm."
   ]
  },
  {
   "cell_type": "code",
   "execution_count": 99,
   "id": "97d54539",
   "metadata": {},
   "outputs": [
    {
     "data": {
      "text/plain": [
       "KMeans(n_clusters=3, random_state=42)"
      ]
     },
     "execution_count": 99,
     "metadata": {},
     "output_type": "execute_result"
    }
   ],
   "source": [
    "# fit the data in k means\n",
    "\n",
    "kmeans.fit(scaled_features)"
   ]
  },
  {
   "cell_type": "code",
   "execution_count": 100,
   "id": "6fde2c4b",
   "metadata": {},
   "outputs": [
    {
     "data": {
      "text/plain": [
       "307.82514329478636"
      ]
     },
     "execution_count": 100,
     "metadata": {},
     "output_type": "execute_result"
    }
   ],
   "source": [
    "# lowest SSE values\n",
    "\n",
    "kmeans.inertia_"
   ]
  },
  {
   "cell_type": "code",
   "execution_count": 101,
   "id": "c6d81ab1",
   "metadata": {},
   "outputs": [
    {
     "data": {
      "text/plain": [
       "array([[ 0.86054674, -0.76454506],\n",
       "       [-0.15469652,  1.15574806],\n",
       "       [-0.9734949 , -0.74810912]])"
      ]
     },
     "execution_count": 101,
     "metadata": {},
     "output_type": "execute_result"
    }
   ],
   "source": [
    "# final loaction of centroid\n",
    "\n",
    "kmeans.cluster_centers_"
   ]
  },
  {
   "cell_type": "code",
   "execution_count": 102,
   "id": "3fc451bc",
   "metadata": {},
   "outputs": [
    {
     "data": {
      "text/plain": [
       "6"
      ]
     },
     "execution_count": 102,
     "metadata": {},
     "output_type": "execute_result"
    }
   ],
   "source": [
    "# the number of iteration required to converge\n",
    "\n",
    "kmeans.n_iter_"
   ]
  },
  {
   "cell_type": "markdown",
   "id": "b367d568",
   "metadata": {},
   "source": [
    "Finally, the cluster assignments are stored as a one-dimensional NumPy array in kmeans.labels_"
   ]
  },
  {
   "cell_type": "code",
   "execution_count": 103,
   "id": "c4427094",
   "metadata": {},
   "outputs": [
    {
     "data": {
      "text/plain": [
       "array([1, 1, 0, 1, 1, 0, 1, 2, 0, 2, 0, 0, 1, 1, 2, 1, 2, 0, 0, 1, 0, 1,\n",
       "       1, 1, 2, 1, 2, 1, 1, 1, 1, 1, 2, 1, 0, 0, 0, 2, 1, 0, 1, 1, 0, 0,\n",
       "       1, 0, 1, 0, 1, 1, 2, 1, 0, 2, 0, 0, 1, 0, 1, 1, 1, 0, 0, 2, 1, 2,\n",
       "       1, 0, 1, 2, 2, 2, 0, 0, 1, 1, 2, 0, 2, 1, 2, 1, 1, 0, 1, 0, 1, 2,\n",
       "       0, 1, 1, 0, 1, 1, 0, 0, 1, 1, 1, 2, 1, 2, 2, 2, 0, 1, 1, 0, 0, 1,\n",
       "       2, 0, 1, 1, 1, 1, 1, 0, 1, 0, 1, 0, 0, 1, 0, 1, 0, 1, 0, 0, 0, 1,\n",
       "       2, 1, 0, 0, 0, 1, 1, 2, 0, 0, 1, 1, 1, 0, 0, 0, 0, 0, 0, 2, 0, 0,\n",
       "       2, 1, 2, 1, 2, 1, 1, 1, 1, 2, 1, 1, 0, 0, 1, 1, 1, 1, 1, 0, 2, 2,\n",
       "       1, 0, 0, 1, 1, 0, 1, 1, 1, 1, 0, 0, 1, 1, 1, 1, 1, 2, 2, 0, 2, 1,\n",
       "       0, 1, 1, 2, 2, 1, 1, 1, 0, 1, 0, 2, 0, 1, 1, 0, 1, 0, 0, 2, 0, 2,\n",
       "       1, 0, 1, 2, 1, 0, 2, 2, 2, 2, 2, 2, 2, 0, 2, 2, 0, 0, 1, 1, 2, 1,\n",
       "       0, 0, 0, 1, 1, 1, 2, 2, 2, 1, 1, 1, 2, 2, 2, 0, 1, 0, 0, 0, 2, 1,\n",
       "       0, 1, 2, 1, 0, 0, 2, 1, 2, 1, 0, 2, 2, 0, 1, 0, 0, 0, 0, 0, 0, 0,\n",
       "       1, 1, 0, 2, 1, 0, 0, 0, 0, 2, 0, 2, 0, 2, 0, 0, 2, 0, 1, 1, 0, 2,\n",
       "       0, 1, 0, 1, 0, 1, 0, 2, 2, 0, 0, 2, 1, 2, 2, 0, 2, 2, 0, 2, 0, 0,\n",
       "       2, 0, 1, 1, 1, 0, 0, 1, 0, 2, 1, 0, 1, 0, 2, 0, 0, 1, 1, 1, 0, 0,\n",
       "       0, 0, 2, 0, 0, 1, 0, 1, 2, 1, 2, 2, 0, 2, 1, 1, 2, 2, 1, 2, 0, 1,\n",
       "       2, 2, 2, 0, 0, 0, 0, 0, 2, 1, 1, 1, 1, 1, 1, 0, 0, 2, 2, 0, 1, 0,\n",
       "       2, 1, 0, 1, 2, 0, 1, 1, 1, 0, 2, 1, 1, 2, 1, 0, 1, 2, 0, 0, 2, 2,\n",
       "       1, 2, 1, 1, 2, 1, 2, 2, 0, 2, 0, 2, 1, 0, 1, 1, 1, 2, 1, 1, 1, 0,\n",
       "       0, 1, 0, 1, 1, 1, 0, 0, 1, 0, 1, 0, 1, 2, 2, 1, 0, 2, 1, 1, 1, 1,\n",
       "       1, 1, 1, 1, 2, 2, 0, 1, 1, 0, 1, 2, 0, 2, 2, 0, 0, 0, 0, 2, 2, 0,\n",
       "       0, 1, 2, 2, 0, 2, 1, 0, 0, 0, 2, 2, 1, 1, 2, 0])"
      ]
     },
     "execution_count": 103,
     "metadata": {},
     "output_type": "execute_result"
    }
   ],
   "source": [
    "kmeans.labels_"
   ]
  },
  {
   "cell_type": "code",
   "execution_count": 104,
   "id": "72871e38",
   "metadata": {},
   "outputs": [
    {
     "name": "stdout",
     "output_type": "stream",
     "text": [
      "Total number of true label not equal to kmeans.labels_: 279\n"
     ]
    }
   ],
   "source": [
    "count = 0\n",
    "for i, j in zip(true_labels, kmeans.labels_):\n",
    "    if i !=j :\n",
    "        count += 1\n",
    "print('Total number of true label not equal to kmeans.labels_:', count)"
   ]
  },
  {
   "cell_type": "markdown",
   "id": "c6bb6d4d",
   "metadata": {},
   "source": [
    "## Clustering performance evaluation"
   ]
  },
  {
   "cell_type": "markdown",
   "id": "88a3785f",
   "metadata": {},
   "source": [
    "lets evaluate our cluster, by comparing the predicted labels with the true labels and for that we will use adjusted_rand_score"
   ]
  },
  {
   "cell_type": "markdown",
   "id": "3b86e166",
   "metadata": {},
   "source": [
    "### adjusted_rand_score\n",
    "\n",
    "* The Rand Index computes a similarity measure between two clusterings by considering all pairs of samples and counting pairs that are assigned in the same or different clusters in the predicted and true clusterings.\n",
    "\n",
    "* The adjusted Rand index is thus ensured to have a value close to 0.0 for random labeling independently of the number of clusters and samples and exactly 1.0 when the clusterings are identical (up to a permutation).\n",
    "\n",
    "reference: https://scikit-learn.org/stable/modules/clustering.html#adjusted-rand-score"
   ]
  },
  {
   "cell_type": "code",
   "execution_count": 117,
   "id": "4f8cd04f",
   "metadata": {},
   "outputs": [
    {
     "data": {
      "text/plain": [
       "0.6406826372110401"
      ]
     },
     "execution_count": 117,
     "metadata": {},
     "output_type": "execute_result"
    }
   ],
   "source": [
    "adjusted_rand_score(true_labels, kmeans.labels_)"
   ]
  },
  {
   "cell_type": "markdown",
   "id": "be8d5378",
   "metadata": {},
   "source": [
    "ok lets evaluate for different number of cluster"
   ]
  },
  {
   "cell_type": "markdown",
   "id": "fa1736ef",
   "metadata": {},
   "source": [
    "# Choosing the Appropriate Number of Clusters"
   ]
  },
  {
   "cell_type": "markdown",
   "id": "b9891b64",
   "metadata": {},
   "source": [
    "In this section, you’ll look at two methods that are commonly used to evaluate the appropriate number of clusters:\n",
    "\n",
    "* The elbow method\n",
    "* The silhouette coefficient\n",
    "\n",
    "These are often used as complementary evaluation techniques rather than one being preferred over the other. To perform the elbow method, run several k-means, increment k with each iteration, and record the SSE:"
   ]
  },
  {
   "cell_type": "code",
   "execution_count": 106,
   "id": "e3071777",
   "metadata": {},
   "outputs": [],
   "source": [
    "kmeans_kwargs = {\n",
    "        \"init\": \"k-means++\",\n",
    "        \"n_init\": 10,\n",
    "        \"max_iter\": 300,\n",
    "        \"random_state\": 42,\n",
    "}\n",
    "\n"
   ]
  },
  {
   "cell_type": "code",
   "execution_count": 122,
   "id": "2eafbcaa",
   "metadata": {},
   "outputs": [
    {
     "name": "stdout",
     "output_type": "stream",
     "text": [
      "for 1 cluster sse value = 999.9999999999998\n",
      "for 2 cluster sse value = 550.3298123261161\n",
      "for 3 cluster sse value = 307.82514329478636\n",
      "for 4 cluster sse value = 164.82771298173276\n",
      "for 5 cluster sse value = 97.72128815615707\n",
      "for 6 cluster sse value = 86.27000450484526\n",
      "for 7 cluster sse value = 77.48395623907557\n",
      "for 8 cluster sse value = 71.18610320704886\n",
      "for 9 cluster sse value = 63.14964704397874\n",
      "for 10 cluster sse value = 58.949625310481096\n"
     ]
    }
   ],
   "source": [
    "# A list holds the SSE values for each k\n",
    "sse = []\n",
    "\n",
    "# list of similarity score between true_label and predicted_label for different number of cluster \n",
    "similarity_score = []     \n",
    "\n",
    "for k in range(1, 11):\n",
    "    kmeans = KMeans(n_clusters=k, **kmeans_kwargs)\n",
    "    kmeans.fit(scaled_features)\n",
    "    score = adjusted_rand_score(true_labels, kmeans.labels_)\n",
    "    print(f'for {k} cluster sse value = {kmeans.inertia_}')\n",
    "    sse.append(kmeans.inertia_)\n",
    "    \n",
    "    similarity_score.append(score)"
   ]
  },
  {
   "cell_type": "markdown",
   "id": "d04cfb27",
   "metadata": {},
   "source": [
    "notice that SSE continues to decrease as you increase k. As more centroids are added, the distance from each point to its closest centroid will decrease"
   ]
  },
  {
   "cell_type": "markdown",
   "id": "d995114e",
   "metadata": {},
   "source": [
    "## plot to find optimal number of k"
   ]
  },
  {
   "cell_type": "markdown",
   "id": "ab303359",
   "metadata": {},
   "source": [
    "### Elbow Method"
   ]
  },
  {
   "cell_type": "markdown",
   "id": "7d60bc65",
   "metadata": {},
   "source": [
    "There’s a sweet spot where the SSE curve starts to bend known as the elbow point. The x-value of this point is thought to be a reasonable trade-off between error and number of clusters"
   ]
  },
  {
   "cell_type": "code",
   "execution_count": 108,
   "id": "97e5a897",
   "metadata": {},
   "outputs": [
    {
     "data": {
      "image/png": "[encoded data removed]",
      "text/plain": [
       "<Figure size 432x288 with 1 Axes>"
      ]
     },
     "metadata": {},
     "output_type": "display_data"
    }
   ],
   "source": [
    "plt.style.use(\"fivethirtyeight\")\n",
    "plt.plot(range(1, 11), sse)\n",
    "plt.xticks(range(1, 11))\n",
    "plt.xlabel(\"Number of Clusters\")\n",
    "plt.ylabel(\"SSE\")\n",
    "plt.show()"
   ]
  },
  {
   "cell_type": "markdown",
   "id": "3b1481b3",
   "metadata": {},
   "source": [
    "## Silhouette Coefficient¶\n",
    "If the ground truth labels are not known, evaluation must be performed using the model itself. The Silhouette Coefficient (sklearn.metrics.silhouette_score) is an example of such an evaluation, where a higher Silhouette Coefficient score relates to a model with better defined clusters. The Silhouette Coefficient is defined for each sample and is composed of two scores:\n",
    "\n",
    "a: The mean distance between a sample and all other points in the same class.\n",
    "\n",
    "b: The mean distance between a sample and all other points in the next nearest cluster.\n",
    "\n",
    "The Silhouette Coefficient s for a single sample is then given as:\n",
    "\n",
    "s = (b - a)/{max(a, b)}\n",
    "\n",
    "The best value is 1 and the worst value is -1. Values near 0 indicate overlapping clusters. Negative values generally indicate that a sample has been assigned to the wrong cluster, as a different cluster is more similar.\n",
    "\n",
    "The silhouette score() function needs a minimum of two clusters, or it will raise an exception."
   ]
  },
  {
   "cell_type": "markdown",
   "id": "aa098082",
   "metadata": {},
   "source": [
    "Loop through values of k again. This time, instead of computing SSE, compute the silhouette coefficient"
   ]
  },
  {
   "cell_type": "code",
   "execution_count": 109,
   "id": "a9c2f528",
   "metadata": {},
   "outputs": [],
   "source": [
    "# A list holds the silhouette coefficients for each k\n",
    "silhouette_coefficients = []\n",
    "\n",
    "# we will start by iterating from 2 number of clusters\n",
    "\n",
    "for k in range(2,10):\n",
    "    kmeans = KMeans(n_clusters=k, **kmeans_kwargs)\n",
    "    kmeans.fit(scaled_features)\n",
    "    score = silhouette_score(scaled_features, kmeans.labels_)\n",
    "    silhouette_coefficients.append(score)"
   ]
  },
  {
   "cell_type": "code",
   "execution_count": 110,
   "id": "041123d3",
   "metadata": {},
   "outputs": [
    {
     "data": {
      "text/plain": [
       "[0.4529778025652736,\n",
       " 0.4883788148198214,\n",
       " 0.5659035608375711,\n",
       " 0.5821520416772826,\n",
       " 0.5241666438774163,\n",
       " 0.4672760940749493,\n",
       " 0.4106869273894187,\n",
       " 0.3693896325144193]"
      ]
     },
     "execution_count": 110,
     "metadata": {},
     "output_type": "execute_result"
    }
   ],
   "source": [
    "silhouette_coefficients"
   ]
  },
  {
   "cell_type": "markdown",
   "id": "b01c24d0",
   "metadata": {},
   "source": [
    "Plotting the average silhouette scores for each k"
   ]
  },
  {
   "cell_type": "code",
   "execution_count": 111,
   "id": "3dc47470",
   "metadata": {},
   "outputs": [
    {
     "data": {
      "image/png": "[encoded data removed]",
      "text/plain": [
       "<Figure size 432x288 with 1 Axes>"
      ]
     },
     "metadata": {},
     "output_type": "display_data"
    }
   ],
   "source": [
    "plt.style.use('fivethirtyeight')\n",
    "plt.plot(range(2,10), silhouette_coefficients)\n",
    "plt.xlabel('Number of clusters')\n",
    "plt.ylabel('silhouette_coefficients')\n",
    "plt.show()"
   ]
  },
  {
   "cell_type": "markdown",
   "id": "366f3258",
   "metadata": {},
   "source": [
    "### PLOT the adjusted_rand_score to directly fid out the optimal number of clusters"
   ]
  },
  {
   "cell_type": "markdown",
   "id": "7bf1574d",
   "metadata": {},
   "source": [
    "Here we will find different kmeans by iterating it with increamenting value of k and for each k-means we will find the adjusted_rand_score and the value of k, for which adjusted_rand_score is maximum will be our opyimal k value."
   ]
  },
  {
   "cell_type": "code",
   "execution_count": 124,
   "id": "9f2e1e47",
   "metadata": {},
   "outputs": [],
   "source": [
    "# list of similarity score between true_label and predicted_label for different number of cluster \n",
    "similarity_score = []     \n",
    "\n",
    "for k in range(1, 11):\n",
    "    kmeans = KMeans(n_clusters=k, **kmeans_kwargs)\n",
    "    kmeans.fit(scaled_features)\n",
    "    score = adjusted_rand_score(true_labels, kmeans.labels_)\n",
    "    \n",
    "    similarity_score.append(score)"
   ]
  },
  {
   "cell_type": "code",
   "execution_count": 126,
   "id": "a5aa59eb",
   "metadata": {},
   "outputs": [
    {
     "data": {
      "image/png": "[encoded data removed]",
      "text/plain": [
       "<Figure size 432x288 with 1 Axes>"
      ]
     },
     "metadata": {},
     "output_type": "display_data"
    }
   ],
   "source": [
    "plt.style.use('fivethirtyeight')\n",
    "plt.bar(range(1,11), similarity_score)\n",
    "plt.xlabel('Number of clusters')\n",
    "plt.ylabel('similarity_score')\n",
    "plt.show()"
   ]
  },
  {
   "cell_type": "markdown",
   "id": "0e8aeaf4",
   "metadata": {},
   "source": [
    "so we can easily see that we 5 is the optimal number of clusters, so lets input n_clusters = 5 in our model "
   ]
  },
  {
   "cell_type": "code",
   "execution_count": 133,
   "id": "defe92dc",
   "metadata": {},
   "outputs": [],
   "source": [
    "kmeans = KMeans(\n",
    "        init=\"k-means++\",\n",
    "        n_clusters=5,\n",
    "        n_init=10,\n",
    "        max_iter=300,\n",
    "        random_state=10\n",
    "    )"
   ]
  },
  {
   "cell_type": "code",
   "execution_count": 134,
   "id": "5a06d5db",
   "metadata": {},
   "outputs": [
    {
     "data": {
      "text/plain": [
       "KMeans(n_clusters=5, random_state=10)"
      ]
     },
     "execution_count": 134,
     "metadata": {},
     "output_type": "execute_result"
    }
   ],
   "source": [
    "# fit the data in k means\n",
    "\n",
    "kmeans.fit(scaled_features)"
   ]
  },
  {
   "cell_type": "code",
   "execution_count": 135,
   "id": "25f69590",
   "metadata": {},
   "outputs": [
    {
     "data": {
      "text/plain": [
       "array([[-0.99562849,  1.18599812],\n",
       "       [ 0.15026767, -0.46420228],\n",
       "       [ 1.2672396 , -1.01718445],\n",
       "       [-1.14481676, -0.82283865],\n",
       "       [ 0.7019375 ,  1.12307213]])"
      ]
     },
     "execution_count": 135,
     "metadata": {},
     "output_type": "execute_result"
    }
   ],
   "source": [
    "# final loaction of centroid\n",
    "\n",
    "kmeans.cluster_centers_"
   ]
  },
  {
   "cell_type": "code",
   "execution_count": null,
   "id": "282425f1",
   "metadata": {},
   "outputs": [],
   "source": []
  },
  {
   "cell_type": "code",
   "execution_count": 136,
   "id": "533d9263",
   "metadata": {},
   "outputs": [
    {
     "data": {
      "text/plain": [
       "5"
      ]
     },
     "execution_count": 136,
     "metadata": {},
     "output_type": "execute_result"
    }
   ],
   "source": [
    "# the number of iteration required to converge\n",
    "\n",
    "kmeans.n_iter_"
   ]
  },
  {
   "cell_type": "code",
   "execution_count": 137,
   "id": "69344dd3",
   "metadata": {},
   "outputs": [
    {
     "data": {
      "text/plain": [
       "array([0, 4, 1, 0, 4, 2, 0, 1, 2, 3, 2, 2, 4, 4, 3, 4, 3, 2, 2, 0, 2, 0,\n",
       "       1, 0, 3, 0, 3, 4, 0, 0, 4, 4, 3, 4, 2, 1, 2, 3, 4, 1, 0, 0, 4, 1,\n",
       "       4, 2, 0, 2, 4, 0, 3, 0, 2, 3, 1, 1, 4, 2, 4, 4, 4, 1, 1, 1, 0, 3,\n",
       "       0, 1, 0, 3, 3, 1, 1, 1, 0, 0, 3, 1, 1, 4, 1, 4, 0, 2, 0, 1, 4, 3,\n",
       "       2, 4, 4, 1, 0, 4, 2, 1, 4, 0, 4, 3, 0, 3, 3, 3, 1, 4, 0, 1, 2, 4,\n",
       "       3, 2, 4, 4, 0, 0, 0, 2, 0, 2, 4, 2, 1, 0, 2, 0, 2, 0, 2, 1, 2, 0,\n",
       "       3, 4, 1, 1, 1, 4, 0, 3, 4, 1, 0, 4, 0, 2, 4, 1, 2, 2, 1, 3, 2, 2,\n",
       "       3, 0, 3, 4, 3, 0, 4, 4, 4, 3, 4, 4, 2, 1, 0, 0, 0, 0, 0, 1, 1, 3,\n",
       "       0, 1, 1, 4, 4, 2, 4, 4, 4, 4, 2, 1, 4, 4, 4, 0, 4, 3, 3, 2, 3, 0,\n",
       "       2, 4, 0, 3, 3, 4, 4, 4, 1, 0, 2, 1, 1, 4, 4, 2, 0, 1, 1, 3, 1, 3,\n",
       "       4, 2, 4, 3, 0, 2, 3, 3, 3, 3, 1, 3, 3, 2, 3, 3, 1, 1, 0, 0, 3, 4,\n",
       "       1, 1, 1, 4, 4, 0, 3, 3, 3, 0, 0, 4, 3, 3, 3, 2, 0, 1, 2, 2, 1, 4,\n",
       "       2, 0, 1, 0, 2, 1, 3, 4, 3, 4, 2, 3, 3, 2, 0, 2, 2, 2, 1, 1, 2, 1,\n",
       "       4, 0, 2, 3, 4, 2, 2, 2, 2, 3, 1, 3, 2, 3, 2, 1, 3, 1, 4, 4, 2, 3,\n",
       "       2, 4, 1, 4, 1, 4, 1, 1, 3, 2, 1, 1, 4, 3, 1, 2, 3, 1, 1, 3, 1, 1,\n",
       "       3, 1, 0, 0, 0, 2, 2, 0, 2, 3, 4, 2, 4, 2, 3, 2, 2, 0, 0, 4, 2, 2,\n",
       "       2, 2, 3, 1, 2, 4, 2, 4, 3, 0, 3, 3, 2, 3, 0, 0, 3, 3, 0, 3, 2, 0,\n",
       "       3, 1, 3, 2, 2, 2, 2, 2, 1, 0, 4, 4, 4, 0, 0, 2, 2, 3, 3, 1, 0, 1,\n",
       "       1, 4, 2, 4, 3, 2, 0, 0, 0, 2, 3, 4, 4, 3, 0, 2, 4, 1, 1, 2, 3, 3,\n",
       "       0, 3, 4, 0, 3, 1, 3, 3, 2, 3, 2, 3, 4, 1, 0, 4, 0, 3, 4, 0, 0, 1,\n",
       "       1, 4, 2, 0, 4, 0, 2, 2, 0, 1, 0, 1, 0, 1, 3, 0, 2, 1, 0, 0, 4, 0,\n",
       "       0, 4, 4, 4, 3, 1, 1, 4, 0, 1, 4, 1, 1, 1, 1, 1, 2, 2, 1, 3, 3, 4,\n",
       "       2, 4, 3, 3, 2, 3, 0, 2, 1, 1, 3, 3, 4, 0, 3, 1])"
      ]
     },
     "execution_count": 137,
     "metadata": {},
     "output_type": "execute_result"
    }
   ],
   "source": [
    "kmeans.labels_"
   ]
  },
  {
   "cell_type": "code",
   "execution_count": null,
   "id": "953c78c7",
   "metadata": {},
   "outputs": [],
   "source": []
  },
  {
   "cell_type": "code",
   "execution_count": null,
   "id": "6e8e2280",
   "metadata": {},
   "outputs": [],
   "source": []
  }
 ],
 "metadata": {
  "kernelspec": {
   "display_name": "Python 3",
   "language": "python",
   "name": "python3"
  },
  "language_info": {
   "codemirror_mode": {
    "name": "ipython",
    "version": 3
   },
   "file_extension": ".py",
   "mimetype": "text/x-python",
   "name": "python",
   "nbconvert_exporter": "python",
   "pygments_lexer": "ipython3",
   "version": "3.8.8"
  }
 },
 "nbformat": 4,
 "nbformat_minor": 5
}
