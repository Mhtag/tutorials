{
 "cells": [
  {
   "cell_type": "code",
   "execution_count": 2,
   "id": "8e26355f",
   "metadata": {},
   "outputs": [],
   "source": [
    "import matplotlib.pyplot as plt\n",
    "#from kneed import KneeLocator\n",
    "from sklearn.datasets import make_blobs\n",
    "from sklearn.cluster import KMeans\n",
    "from sklearn.metrics import silhouette_score\n",
    "from sklearn.preprocessing import StandardScaler"
   ]
  },
  {
   "cell_type": "markdown",
   "id": "0b177d3d",
   "metadata": {},
   "source": [
    "You can generate the data from the above GIF using make_blobs(), a convenience function in scikit-learn used to generate synthetic clusters. make_blobs() uses these parameters:\n",
    "\n",
    "* n_samples is the total number of samples to generate.\n",
    "* centers is the number of centers to generate.\n",
    "* cluster_std is the standard deviation.\n",
    "\n",
    "make_blobs() returns a tuple of two values:\n",
    "\n",
    "+ A two-dimensional NumPy array with the x- and y-values for each of the samples\n",
    "+ A one-dimensional NumPy array containing the cluster labels for each sample"
   ]
  },
  {
   "cell_type": "markdown",
   "id": "a0575314",
   "metadata": {},
   "source": [
    "Generate the synthetic data and labels"
   ]
  },
  {
   "cell_type": "code",
   "execution_count": 5,
   "id": "4bf7cd30",
   "metadata": {},
   "outputs": [],
   "source": [
    "features, true_labels = make_blobs(\n",
    "                                    n_samples=200,              # n_samples is the total number of samples to generate.\n",
    "                                    centers=3,                  # centers is the number of centers to generate.\n",
    "                                    cluster_std=2.75,           # cluster_std is the standard deviation.\n",
    "                                    random_state=42\n",
    ")"
   ]
  },
  {
   "cell_type": "code",
   "execution_count": 4,
   "id": "42277d9b",
   "metadata": {},
   "outputs": [
    {
     "data": {
      "text/plain": [
       "array([[ 9.77075874e+00,  3.27621022e+00],\n",
       "       [-9.71349666e+00,  1.12745180e+01],\n",
       "       [-6.91330582e+00, -9.34755911e+00],\n",
       "       [-1.08618591e+01, -1.07506350e+01],\n",
       "       [-8.50038027e+00, -4.54370383e+00],\n",
       "       [-4.82456978e+00, -5.20159136e+00],\n",
       "       [-3.03819028e+00,  9.84354132e+00],\n",
       "       [-8.17498253e+00, -6.24197227e+00],\n",
       "       [ 3.91207254e+00,  9.45363489e+00],\n",
       "       [-4.64425636e+00, -5.14863028e+00],\n",
       "       [ 2.09082004e+00,  1.80947495e+00],\n",
       "       [ 5.26539366e+00,  5.56781226e+00],\n",
       "       [ 7.61826975e+00,  4.87112533e+00],\n",
       "       [ 3.30512908e+00,  2.19832357e+00],\n",
       "       [-9.29263277e-01,  2.48591905e+00],\n",
       "       [-9.15936347e+00, -8.42060745e+00],\n",
       "       [-2.70722546e+00,  1.17740016e+01],\n",
       "       [-9.14073328e+00, -6.20996976e+00],\n",
       "       [ 6.52709436e+00, -2.46179896e+00],\n",
       "       [-2.51808095e+00, -1.02841022e+01],\n",
       "       [ 1.04758084e+01,  4.81244915e+00],\n",
       "       [ 3.33377923e+00,  1.76514294e-01],\n",
       "       [-5.99215115e+00, -9.15499469e+00],\n",
       "       [-2.32349506e+00,  5.09622862e+00],\n",
       "       [-5.00425652e+00, -7.73334317e+00],\n",
       "       [-4.37073312e+00,  1.06963959e+01],\n",
       "       [-5.67442996e+00,  1.00474557e+01],\n",
       "       [-7.29703620e+00, -5.26223728e+00],\n",
       "       [-1.93482274e+00,  3.62519329e+00],\n",
       "       [ 1.23826438e+00, -1.65808600e+00],\n",
       "       [ 4.61611430e-01,  6.41525984e-01],\n",
       "       [ 1.10051899e+01, -3.16180960e+00],\n",
       "       [-1.15907471e+01, -3.15696056e+00],\n",
       "       [-9.14974448e+00, -7.76392066e+00],\n",
       "       [-1.51535971e+00,  1.32438867e+01],\n",
       "       [-2.23515637e+00,  7.62972808e+00],\n",
       "       [-5.74406569e+00, -8.43035211e+00],\n",
       "       [-8.95340615e-01,  1.50380391e+01],\n",
       "       [-6.20596912e+00, -8.27420333e+00],\n",
       "       [-2.25685549e+00,  3.54847161e+00],\n",
       "       [ 1.33906372e+00,  1.05329129e+00],\n",
       "       [-4.73255503e+00,  7.63445426e+00],\n",
       "       [-9.57877598e+00, -5.60932504e+00],\n",
       "       [ 9.12900992e+00, -1.95971911e+00],\n",
       "       [-9.12973407e+00, -1.12604459e+00],\n",
       "       [ 6.36046404e+00, -3.84013596e-01],\n",
       "       [ 2.19371415e+00, -2.70308600e-01],\n",
       "       [-6.68767146e+00, -7.93972198e+00],\n",
       "       [ 8.51288074e-01, -6.05849176e-01],\n",
       "       [ 8.15820063e-03,  9.91835168e+00],\n",
       "       [-8.57669125e-01, -9.10292988e+00],\n",
       "       [-4.00625012e+00,  9.31932325e+00],\n",
       "       [-3.63616686e+00, -8.17034264e+00],\n",
       "       [-3.33859769e-01,  6.51347063e+00],\n",
       "       [-6.57513310e+00,  7.03471456e+00],\n",
       "       [-4.16389081e+00,  1.41080511e+01],\n",
       "       [-1.01378541e+00, -1.22483510e+01],\n",
       "       [ 3.94531642e+00, -1.45823407e+00],\n",
       "       [-4.43984363e+00,  8.11321523e+00],\n",
       "       [ 1.36379422e+00,  3.77869211e+00],\n",
       "       [-4.26596164e+00, -8.46659465e+00],\n",
       "       [-5.03761427e+00,  1.32766057e+01],\n",
       "       [-4.40572753e+00, -6.03503591e+00],\n",
       "       [-6.93192176e+00, -9.63706535e+00],\n",
       "       [-4.48074544e+00, -6.37591908e+00],\n",
       "       [-6.33221303e+00, -8.53070601e+00],\n",
       "       [-5.43053284e+00,  1.03166653e+01],\n",
       "       [-2.47199115e-01,  5.65696609e+00],\n",
       "       [-4.19804792e+00, -7.28451739e+00],\n",
       "       [-4.78414528e-01,  9.48554890e+00],\n",
       "       [-1.61796671e+00,  7.95530986e+00],\n",
       "       [-6.26337287e+00, -6.84548049e+00],\n",
       "       [-5.00626383e+00,  5.13045095e+00],\n",
       "       [ 2.81996606e+00,  4.31736135e+00],\n",
       "       [ 1.34848673e+00,  5.15919571e+00],\n",
       "       [ 6.05622582e+00,  3.38608105e+00],\n",
       "       [ 1.69492447e+00,  3.29996883e+00],\n",
       "       [-3.80025218e+00,  1.05063262e+01],\n",
       "       [ 6.05625997e+00,  1.25681813e+01],\n",
       "       [-3.82692678e+00,  8.50372394e+00],\n",
       "       [-2.54631499e+00,  6.10558107e+00],\n",
       "       [ 5.22863663e+00, -1.45261196e+00],\n",
       "       [-4.27360635e+00, -8.43896330e-01],\n",
       "       [-5.98816972e+00, -7.23800299e+00],\n",
       "       [-6.61288829e+00, -5.24342777e+00],\n",
       "       [-5.37510939e+00, -7.43613939e+00],\n",
       "       [-6.86520702e+00, -6.75091296e+00],\n",
       "       [-2.26981819e+00,  8.19201591e+00],\n",
       "       [ 4.79995281e+00, -1.16999864e+00],\n",
       "       [-7.47825050e+00, -3.85847325e+00],\n",
       "       [ 4.76520140e+00,  1.81268728e-01],\n",
       "       [-6.40146716e+00,  7.85751149e+00],\n",
       "       [-6.77352206e+00,  9.20283431e+00],\n",
       "       [-2.60465499e+00,  5.80042152e+00],\n",
       "       [ 4.67563404e+00,  5.97038840e+00],\n",
       "       [-8.85534880e+00, -7.46708926e+00],\n",
       "       [-4.81704581e+00,  8.16395209e+00],\n",
       "       [ 5.32873417e+00,  2.92590226e+00],\n",
       "       [ 5.86038226e+00,  4.10341333e+00],\n",
       "       [-3.58749504e+00,  4.98962002e+00],\n",
       "       [-3.28956047e+00, -6.82234903e+00],\n",
       "       [-8.11730724e+00, -5.16727228e+00],\n",
       "       [-3.45166254e+00,  6.80802364e+00],\n",
       "       [-7.45196338e+00, -8.23586216e+00],\n",
       "       [-1.69486686e+00,  9.73218813e+00],\n",
       "       [ 4.02535618e+00,  3.93667104e+00],\n",
       "       [-5.45142428e+00, -2.66507758e+00],\n",
       "       [ 3.77288841e+00,  4.06033504e+00],\n",
       "       [ 7.83857915e+00,  2.00131060e+00],\n",
       "       [-1.12643033e+01, -8.52839091e+00],\n",
       "       [ 5.35455652e+00,  4.12318258e+00],\n",
       "       [ 6.02859385e+00,  4.35399647e+00],\n",
       "       [-1.56424733e+00,  4.16592570e+00],\n",
       "       [-4.98173121e+00, -7.98346589e+00],\n",
       "       [-3.96603818e+00,  1.04257716e+01],\n",
       "       [-1.27203404e+01, -8.32593590e+00],\n",
       "       [-2.88898227e+00, -4.24211482e+00],\n",
       "       [-7.25272166e+00,  7.46799542e+00],\n",
       "       [-3.77595424e+00,  1.19213723e+01],\n",
       "       [-2.82723040e+00,  8.18625097e+00],\n",
       "       [-9.58375433e-01, -8.99031539e+00],\n",
       "       [ 9.49487800e+00,  3.08686939e+00],\n",
       "       [-5.23317252e+00,  7.45696737e+00],\n",
       "       [-6.67116466e+00, -8.74230430e+00],\n",
       "       [-5.93979826e+00, -1.72063979e+00],\n",
       "       [ 3.41196272e+00,  4.32826637e+00],\n",
       "       [-1.59822319e+00,  1.16970352e+01],\n",
       "       [-2.72025275e-01,  5.62940926e+00],\n",
       "       [ 2.20927089e+00,  2.39591373e+00],\n",
       "       [ 3.26051064e-01,  1.15753065e+01],\n",
       "       [ 7.26338369e+00,  3.76449563e+00],\n",
       "       [-6.93710657e+00, -6.55745929e+00],\n",
       "       [ 1.52133649e+00,  8.39340130e+00],\n",
       "       [-6.81222421e+00, -5.51061429e+00],\n",
       "       [-9.18886226e+00, -8.52843937e+00],\n",
       "       [ 7.28916319e+00,  3.10831723e+00],\n",
       "       [ 4.81664889e+00, -9.90628455e-01],\n",
       "       [ 1.05357251e+01,  3.71644700e+00],\n",
       "       [-2.24223436e+00,  1.16780599e+01],\n",
       "       [ 8.12388450e+00,  2.70786535e-02],\n",
       "       [-7.78581847e+00,  8.94137297e+00],\n",
       "       [-5.29448320e+00,  9.87846629e+00],\n",
       "       [-1.05102685e+01, -1.84359799e+00],\n",
       "       [ 2.19299941e-01,  2.48091279e+00],\n",
       "       [ 4.42784914e+00,  2.91133761e+00],\n",
       "       [-6.16170926e+00,  9.55565453e+00],\n",
       "       [ 2.76981085e+00,  2.61186735e+00],\n",
       "       [-4.52106323e+00, -7.31994055e+00],\n",
       "       [-6.56745449e+00, -5.05925024e+00],\n",
       "       [ 3.42975650e+00,  2.33270627e+00],\n",
       "       [-5.55161880e+00,  5.72471791e+00],\n",
       "       [-6.93053832e+00, -7.67392085e+00],\n",
       "       [ 6.90054428e+00,  7.18935039e+00],\n",
       "       [-7.19461177e+00, -3.47611474e+00],\n",
       "       [ 2.51460950e+00,  1.32191852e+00],\n",
       "       [-3.69482229e+00, -4.70303718e+00],\n",
       "       [-9.64617499e+00, -1.02191283e+01],\n",
       "       [-1.80093405e+00,  8.80955986e+00],\n",
       "       [ 5.94128230e+00,  1.77289017e+00],\n",
       "       [ 7.82601668e+00, -2.83706692e-01],\n",
       "       [-2.74751611e-01,  1.27439462e+01],\n",
       "       [ 3.96506152e+00, -9.96047680e-02],\n",
       "       [ 5.62379408e+00,  3.51532713e+00],\n",
       "       [-7.17871760e+00, -5.77540236e+00],\n",
       "       [-3.11329531e+00,  9.99634570e+00],\n",
       "       [ 6.20982774e+00,  5.09597519e+00],\n",
       "       [ 5.44582814e+00,  8.70328437e-03],\n",
       "       [-4.66314418e+00,  8.12861696e+00],\n",
       "       [-6.10689955e+00, -8.59253327e+00],\n",
       "       [ 5.40077853e+00,  4.24792362e+00],\n",
       "       [-3.36604873e+00, -8.50693091e+00],\n",
       "       [-2.49513562e+00,  8.36917151e+00],\n",
       "       [ 2.67279364e+00,  3.84206349e+00],\n",
       "       [-5.89783460e+00, -8.78561098e+00],\n",
       "       [ 6.33565117e-01,  1.10821020e+01],\n",
       "       [ 8.60338038e+00, -1.97545123e+00],\n",
       "       [-2.34356455e+00,  1.57882019e+01],\n",
       "       [-4.16095402e+00,  8.21212832e+00],\n",
       "       [-2.95273333e+00,  1.01254260e+01],\n",
       "       [ 1.17244796e+00,  4.49729004e+00],\n",
       "       [-3.78359628e+00,  7.73352931e+00],\n",
       "       [ 2.46044681e+00,  1.65764447e+00],\n",
       "       [-6.61101792e+00, -9.00588650e+00],\n",
       "       [-5.16329769e+00, -5.15215944e+00],\n",
       "       [-4.60973223e+00, -4.64295809e+00],\n",
       "       [ 1.55501100e+00,  7.58904303e+00],\n",
       "       [ 6.07521814e+00,  2.78987754e+00],\n",
       "       [ 5.11612638e+00,  3.03279248e+00],\n",
       "       [ 2.31119611e+00, -2.19266018e+00],\n",
       "       [-2.60771923e+00,  1.33170562e+01],\n",
       "       [-1.51469855e+00,  7.24020680e+00],\n",
       "       [ 2.63137060e+00,  2.56843081e+00],\n",
       "       [-9.35026754e+00, -5.52733187e+00],\n",
       "       [-8.96724201e+00, -6.46652668e+00],\n",
       "       [-1.84380138e+00,  3.75276546e+00],\n",
       "       [-6.02463139e+00, -2.82288000e+00],\n",
       "       [ 2.67781361e+00,  9.49437511e+00],\n",
       "       [ 1.83363762e+00,  1.11247316e+01],\n",
       "       [ 3.34206621e+00,  4.96778383e+00],\n",
       "       [ 1.95950424e+00,  4.13765234e+00]])"
      ]
     },
     "execution_count": 4,
     "metadata": {},
     "output_type": "execute_result"
    }
   ],
   "source": [
    "features"
   ]
  },
  {
   "cell_type": "code",
   "execution_count": 7,
   "id": "61c7ec38",
   "metadata": {},
   "outputs": [
    {
     "data": {
      "text/plain": [
       "array([1, 0, 2, 2, 2, 2, 0, 2, 1, 2, 1, 1, 1, 1, 1, 2, 0, 2, 1, 2, 1, 1,\n",
       "       2, 0, 2, 0, 0, 2, 0, 1, 1, 1, 2, 2, 0, 0, 2, 0, 2, 0, 1, 0, 2, 1,\n",
       "       2, 1, 1, 2, 1, 0, 2, 0, 2, 0, 0, 0, 2, 1, 0, 1, 2, 0, 2, 2, 2, 2,\n",
       "       0, 0, 2, 0, 0, 2, 0, 1, 0, 1, 1, 0, 1, 0, 0, 1, 1, 2, 2, 2, 2, 0,\n",
       "       1, 2, 1, 0, 0, 0, 1, 2, 0, 1, 1, 0, 2, 2, 0, 2, 0, 1, 2, 1, 1, 2,\n",
       "       1, 1, 0, 2, 0, 2, 2, 0, 0, 0, 2, 1, 0, 2, 2, 1, 0, 0, 1, 0, 1, 2,\n",
       "       0, 2, 2, 1, 1, 1, 0, 1, 0, 0, 2, 1, 1, 0, 1, 2, 2, 1, 0, 2, 1, 2,\n",
       "       1, 2, 2, 0, 1, 1, 0, 1, 1, 2, 0, 1, 1, 0, 2, 1, 2, 0, 1, 2, 0, 1,\n",
       "       0, 0, 0, 1, 0, 1, 2, 2, 2, 0, 1, 1, 1, 0, 0, 1, 2, 2, 0, 2, 0, 0,\n",
       "       1, 1])"
      ]
     },
     "execution_count": 7,
     "metadata": {},
     "output_type": "execute_result"
    }
   ],
   "source": [
    "true_labels"
   ]
  },
  {
   "cell_type": "markdown",
   "id": "21a912a8",
   "metadata": {},
   "source": [
    "## Data Preprocessing"
   ]
  },
  {
   "cell_type": "markdown",
   "id": "953fba7c",
   "metadata": {},
   "source": [
    "Data sets usually contain numerical features that have been measured in different units, such as height (in inches) and weight (in pounds). A machine learning algorithm would consider weight more important than height only because the values for weight are larger and have higher variability from person to person.\n",
    "\n",
    "Machine learning algorithms need to consider all features on an even playing field. That means the values for all features must be transformed to the same scale.\n",
    "\n",
    "The process of transforming numerical features to use the same scale is known as feature scaling. It’s an important data preprocessing step for most distance-based machine learning algorithms because it can have a significant impact on the performance of your algorithm."
   ]
  },
  {
   "cell_type": "markdown",
   "id": "8f8969a1",
   "metadata": {},
   "source": [
    "### Standardization\n",
    " Standardization scales, or shifts, the values for each numerical feature in your dataset so that the features have a mean of 0 and standard deviation of 1:\n",
    " \n",
    "In this example, we’ll use the StandardScaler class.This class implements a type of feature scaling called standardization."
   ]
  },
  {
   "cell_type": "code",
   "execution_count": 12,
   "id": "48701f0b",
   "metadata": {},
   "outputs": [],
   "source": [
    "scaler = StandardScaler()\n",
    "scaled_features = scaler.fit_transform(features)"
   ]
  },
  {
   "cell_type": "code",
   "execution_count": 13,
   "id": "dd3466b3",
   "metadata": {},
   "outputs": [
    {
     "data": {
      "text/plain": [
       "array([[ 2.13082109,  0.25604351],\n",
       "       [-1.52698523,  1.41036744],\n",
       "       [-1.00130152, -1.56583175],\n",
       "       [-1.74256891, -1.76832509],\n",
       "       [-1.29924521, -0.87253446],\n",
       "       [-0.6091802 , -0.96748146],\n",
       "       [-0.27382069,  1.20384743],\n",
       "       [-1.23815784, -1.11763029],\n",
       "       [ 1.0309618 ,  1.14757573],\n",
       "       [-0.57532971, -0.95983806],\n",
       "       [ 0.68905553,  0.04436278],\n",
       "       [ 1.28502265,  0.58676985],\n",
       "       [ 1.72673134,  0.48622328],\n",
       "       [ 0.91701946,  0.10048181],\n",
       "       [ 0.1220911 ,  0.14198788],\n",
       "       [-1.42295704, -1.43205314],\n",
       "       [-0.21168821,  1.48245342],\n",
       "       [-1.41945957, -1.11301166],\n",
       "       [ 1.52188347, -0.57207183],\n",
       "       [-0.17617985, -1.70099461],\n",
       "       [ 2.26318104,  0.47775508],\n",
       "       [ 0.92239799, -0.19130777],\n",
       "       [-0.82837187, -1.53804066],\n",
       "       [-0.13964997,  0.51871042],\n",
       "       [-0.64291304, -1.33286646],\n",
       "       [-0.52398081,  1.32693227],\n",
       "       [-0.76872563,  1.23327655],\n",
       "       [-1.07333975, -0.97623394],\n",
       "       [-0.06668397,  0.3064091 ],\n",
       "       [ 0.52900408, -0.45607915],\n",
       "       [ 0.38320194, -0.12419681],\n",
       "       [ 2.36256256, -0.67309807],\n",
       "       [-1.87940407, -0.67239826],\n",
       "       [-1.42115125, -1.33727943],\n",
       "       [ 0.0120624 ,  1.69458874],\n",
       "       [-0.12306602,  0.88434764],\n",
       "       [-0.78179844, -1.4334595 ],\n",
       "       [ 0.12845945,  1.95352264],\n",
       "       [-0.86851222, -1.41092395],\n",
       "       [-0.12713963,  0.29533655],\n",
       "       [ 0.54792728, -0.06477042],\n",
       "       [-0.59190614,  0.88502973],\n",
       "       [-1.50169393, -1.026326  ],\n",
       "       [ 2.01034469, -0.49961115],\n",
       "       [-1.41739467, -0.37929439],\n",
       "       [ 1.49060173, -0.27220372],\n",
       "       [ 0.70837199, -0.2557937 ],\n",
       "       [-0.95894286, -1.36265126],\n",
       "       [ 0.45635648, -0.30421926],\n",
       "       [ 0.29807454,  1.21464413],\n",
       "       [ 0.13553157, -1.53052661],\n",
       "       [-0.45555591,  1.12819174],\n",
       "       [-0.38607967, -1.39593467],\n",
       "       [ 0.23386703,  0.72324823],\n",
       "       [-0.93781588,  0.79847468],\n",
       "       [-0.48515002,  1.81930583],\n",
       "       [ 0.10622364, -1.984477  ],\n",
       "       [ 1.03720271, -0.42723632],\n",
       "       [-0.53695502,  0.954125  ],\n",
       "       [ 0.55256997,  0.32856221],\n",
       "       [-0.50431192, -1.43869006],\n",
       "       [-0.64917534,  1.69931078],\n",
       "       [-0.53055036, -1.08776503],\n",
       "       [-1.00479631, -1.60761359],\n",
       "       [-0.54463358, -1.13696163],\n",
       "       [-0.89221216, -1.44794268],\n",
       "       [-0.72293848,  1.27212916],\n",
       "       [ 0.25013595,  0.59963662],\n",
       "       [-0.49156238, -1.26809147],\n",
       "       [ 0.20672956,  1.1521816 ],\n",
       "       [-0.00720015,  0.93133594],\n",
       "       [-0.8792887 , -1.20472921],\n",
       "       [-0.64328988,  0.52364942],\n",
       "       [ 0.82593913,  0.4063035 ],\n",
       "       [ 0.54969627,  0.52779789],\n",
       "       [ 1.43348667,  0.27190018],\n",
       "       [ 0.61473351,  0.25947237],\n",
       "       [-0.41688363,  1.29950122],\n",
       "       [ 1.43349308,  1.59707024],\n",
       "       [-0.42189129,  1.01048362],\n",
       "       [-0.18148026,  0.66438119],\n",
       "       [ 1.2781222 , -0.42642493],\n",
       "       [-0.50574707, -0.33857447],\n",
       "       [-0.82762443, -1.26137846],\n",
       "       [-0.94490372, -0.97351933],\n",
       "       [-0.71253377, -1.28997371],\n",
       "       [-0.99227186, -1.19108113],\n",
       "       [-0.12957313,  0.9654976 ],\n",
       "       [ 1.19764479, -0.38563789],\n",
       "       [-1.10735937, -0.77364128],\n",
       "       [ 1.19112086, -0.1906216 ],\n",
       "       [-0.90521333,  0.91722158],\n",
       "       [-0.97505972,  1.11137994],\n",
       "       [-0.19243251,  0.62034026],\n",
       "       [ 1.17430625,  0.64487005],\n",
       "       [-1.36588394, -1.29444042],\n",
       "       [-0.60776771,  0.9614474 ],\n",
       "       [ 1.29691365,  0.20548671],\n",
       "       [ 1.39672068,  0.3754263 ],\n",
       "       [-0.37694244,  0.50332456],\n",
       "       [-0.32101077, -1.20139086],\n",
       "       [-1.22733037, -0.96252849],\n",
       "       [-0.35144242,  0.76575842],\n",
       "       [-1.10242445, -1.40539051],\n",
       "       [-0.02163672,  1.18777682],\n",
       "       [ 1.05222869,  0.35136189],\n",
       "       [-0.72686046, -0.6014092 ],\n",
       "       [ 1.00483257,  0.3692092 ],\n",
       "       [ 1.76809033,  0.0720487 ],\n",
       "       [-1.81812031, -1.44760856],\n",
       "       [ 1.30176132,  0.37827942],\n",
       "       [ 1.42829928,  0.41159072],\n",
       "       [ 0.00288466,  0.38444815],\n",
       "       [-0.63868433, -1.36896443],\n",
       "       [-0.44800687,  1.28787549],\n",
       "       [-2.09146419, -1.41839005],\n",
       "       [-0.24580967, -0.82900883],\n",
       "       [-1.06502052,  0.86100622],\n",
       "       [-0.41232215,  1.5037221 ],\n",
       "       [-0.2342169 ,  0.96466559],\n",
       "       [ 0.11662583, -1.51427397],\n",
       "       [ 2.07902961,  0.22871765],\n",
       "       [-0.68588776,  0.85941464],\n",
       "       [-0.95584402, -1.47848076],\n",
       "       [-0.81854359, -0.46510698],\n",
       "       [ 0.93707548,  0.40787732],\n",
       "       [-0.00349367,  1.47134556],\n",
       "       [ 0.2454753 ,  0.59565959],\n",
       "       [ 0.71129248,  0.12899822],\n",
       "       [ 0.357753  ,  1.45377754],\n",
       "       [ 1.66010809,  0.32651335],\n",
       "       [-1.00576966, -1.1631617 ],\n",
       "       [ 0.5821456 ,  0.99456174],\n",
       "       [-0.98232533, -1.01207996],\n",
       "       [-1.42849489, -1.44761555],\n",
       "       [ 1.66494771,  0.23181302],\n",
       "       [ 1.20077917, -0.359751  ],\n",
       "       [ 2.27442928,  0.31957893],\n",
       "       [-0.12439479,  1.46860701],\n",
       "       [ 1.8216511 , -0.21287447],\n",
       "       [-1.16509953,  1.07364557],\n",
       "       [-0.6973977 ,  1.20888783],\n",
       "       [-1.67656432, -0.48285243],\n",
       "       [ 0.33771247,  0.14126537],\n",
       "       [ 1.12778925,  0.20338472],\n",
       "       [-0.86020325,  1.16229931],\n",
       "       [ 0.81652342,  0.16016487],\n",
       "       [-0.55220249, -1.27320377],\n",
       "       [-0.93637437, -0.94693864],\n",
       "       [ 0.94041593,  0.11987606],\n",
       "       [-0.74567012,  0.60941463],\n",
       "       [-1.0045366 , -1.32429057],\n",
       "       [ 1.59199174,  0.82079189],\n",
       "       [-1.05411147, -0.71845891],\n",
       "       [ 0.76861412, -0.02600186],\n",
       "       [-0.39709113, -0.89552961],\n",
       "       [-1.51434684, -1.6916175 ],\n",
       "       [-0.04154886,  1.05462217],\n",
       "       [ 1.41190816,  0.03908283],\n",
       "       [ 1.76573196, -0.25772733],\n",
       "       [ 0.24496348,  1.62243682],\n",
       "       [ 1.04090949, -0.23115755],\n",
       "       [ 1.35230566,  0.2905531 ],\n",
       "       [-1.05112764, -1.05029445],\n",
       "       [-0.28792027,  1.22590031],\n",
       "       [ 1.46232257,  0.51867384],\n",
       "       [ 1.31889586, -0.21552642],\n",
       "       [-0.57887555,  0.95634779],\n",
       "       [-0.84991375, -1.45686565],\n",
       "       [ 1.31043864,  0.39628218],\n",
       "       [-0.33537002, -1.44451143],\n",
       "       [-0.17187229,  0.99106487],\n",
       "       [ 0.79831025,  0.33770803],\n",
       "       [-0.81066569, -1.48473082],\n",
       "       [ 0.41548304,  1.38259776],\n",
       "       [ 1.91166753, -0.50188163],\n",
       "       [-0.14341764,  2.06178691],\n",
       "       [-0.48459869,  0.96840024],\n",
       "       [-0.25777774,  1.24452931],\n",
       "       [ 0.51664827,  0.43227099],\n",
       "       [-0.4137568 ,  0.89932834],\n",
       "       [ 0.75844608,  0.02245045],\n",
       "       [-0.94455259, -1.51652121],\n",
       "       [-0.67277006, -0.96034739],\n",
       "       [-0.56884845, -0.88685894],\n",
       "       [ 0.58846736,  0.87847593],\n",
       "       [ 1.43705212,  0.18585548],\n",
       "       [ 1.25700049,  0.22091321],\n",
       "       [ 0.73042704, -0.53322944],\n",
       "       [-0.19300777,  1.70514863],\n",
       "       [ 0.01218652,  0.82813153],\n",
       "       [ 0.79053384,  0.15389606],\n",
       "       [-1.45879572, -1.01449266],\n",
       "       [-1.38688981, -1.15003821],\n",
       "       [-0.04959641,  0.32482044],\n",
       "       [-0.83446943, -0.62418341],\n",
       "       [ 0.79925265,  1.1534554 ],\n",
       "       [ 0.64077432,  1.38875012],\n",
       "       [ 0.92395371,  0.50017313],\n",
       "       [ 0.66440344,  0.38036771]])"
      ]
     },
     "execution_count": 13,
     "metadata": {},
     "output_type": "execute_result"
    }
   ],
   "source": [
    "scaled_features"
   ]
  },
  {
   "cell_type": "markdown",
   "id": "5136f2af",
   "metadata": {},
   "source": [
    "## Kmeans"
   ]
  },
  {
   "cell_type": "code",
   "execution_count": 28,
   "id": "946f0376",
   "metadata": {},
   "outputs": [],
   "source": [
    "# initialize the model\n",
    "\n",
    "kmeans = KMeans(\n",
    "        init=\"random\",\n",
    "        n_clusters=3,\n",
    "        n_init=10,\n",
    "        max_iter=300,\n",
    "        random_state=42\n",
    "    )"
   ]
  },
  {
   "cell_type": "markdown",
   "id": "7be53b60",
   "metadata": {},
   "source": [
    "Here are the parameters used in this example:\n",
    "\n",
    "* init :- controls the initialization technique. The standard version of the k-means algorithm is implemented by setting init to \"random\". Setting this to \"k-means++\" employs an advanced trick to speed up convergence, which you’ll use later.\n",
    "\n",
    "* n_clusters:- sets k for the clustering step. This is the most important parameter for k-means.\n",
    "\n",
    "* n_init:- sets the number of initializations to perform. This is important because two runs can converge on different cluster assignments. The default behavior for the scikit-learn algorithm is to perform ten k-means runs and return the results of the one with the lowest SSE.\n",
    "\n",
    "* max_iter:- sets the number of maximum iterations for each initialization of the k-means algorithm."
   ]
  },
  {
   "cell_type": "code",
   "execution_count": 16,
   "id": "f4e1d957",
   "metadata": {},
   "outputs": [
    {
     "data": {
      "text/plain": [
       "KMeans(init='random', n_clusters=3, random_state=42)"
      ]
     },
     "execution_count": 16,
     "metadata": {},
     "output_type": "execute_result"
    }
   ],
   "source": [
    "# fit the data in k means\n",
    "\n",
    "kmeans.fit(scaled_features)"
   ]
  },
  {
   "cell_type": "code",
   "execution_count": 17,
   "id": "3b5d7107",
   "metadata": {},
   "outputs": [
    {
     "data": {
      "text/plain": [
       "74.57960106819854"
      ]
     },
     "execution_count": 17,
     "metadata": {},
     "output_type": "execute_result"
    }
   ],
   "source": [
    "# lowest SSE values\n",
    "\n",
    "kmeans.inertia_"
   ]
  },
  {
   "cell_type": "code",
   "execution_count": 18,
   "id": "b811345f",
   "metadata": {},
   "outputs": [
    {
     "data": {
      "text/plain": [
       "array([[-0.25813925,  1.05589975],\n",
       "       [-0.91941183, -1.18551732],\n",
       "       [ 1.19539276,  0.13158148]])"
      ]
     },
     "execution_count": 18,
     "metadata": {},
     "output_type": "execute_result"
    }
   ],
   "source": [
    "# final loaction of centroid\n",
    "\n",
    "kmeans.cluster_centers_"
   ]
  },
  {
   "cell_type": "code",
   "execution_count": 19,
   "id": "843bbda5",
   "metadata": {},
   "outputs": [
    {
     "data": {
      "text/plain": [
       "2"
      ]
     },
     "execution_count": 19,
     "metadata": {},
     "output_type": "execute_result"
    }
   ],
   "source": [
    "# the number of iteration required to converge\n",
    "\n",
    "kmeans.n_iter_"
   ]
  },
  {
   "cell_type": "markdown",
   "id": "148b6e94",
   "metadata": {},
   "source": [
    "Finally, the cluster assignments are stored as a one-dimensional NumPy array in kmeans.labels_"
   ]
  },
  {
   "cell_type": "code",
   "execution_count": 20,
   "id": "d15204cf",
   "metadata": {},
   "outputs": [
    {
     "data": {
      "text/plain": [
       "array([2, 0, 1, 1, 1, 1, 0, 1, 2, 1, 2, 2, 2, 2, 0, 1, 0, 1, 2, 1, 2, 2,\n",
       "       1, 0, 1, 0, 0, 1, 0, 2, 2, 2, 1, 1, 0, 0, 1, 0, 1, 0, 2, 0, 1, 2,\n",
       "       1, 2, 2, 1, 2, 0, 1, 0, 1, 0, 0, 0, 1, 2, 0, 2, 1, 0, 1, 1, 1, 1,\n",
       "       0, 0, 1, 0, 0, 1, 0, 2, 2, 2, 2, 0, 2, 0, 0, 2, 1, 1, 1, 1, 1, 0,\n",
       "       2, 1, 2, 0, 0, 0, 2, 1, 0, 2, 2, 0, 1, 1, 0, 1, 0, 2, 1, 2, 2, 1,\n",
       "       2, 2, 0, 1, 0, 1, 1, 0, 0, 0, 1, 2, 0, 1, 1, 2, 0, 0, 2, 0, 2, 1,\n",
       "       0, 1, 1, 2, 2, 2, 0, 2, 0, 0, 1, 2, 2, 0, 2, 1, 1, 2, 0, 1, 2, 1,\n",
       "       2, 1, 1, 0, 2, 2, 0, 2, 2, 1, 0, 2, 2, 0, 1, 2, 1, 0, 2, 1, 0, 2,\n",
       "       0, 0, 0, 2, 0, 2, 1, 1, 1, 0, 2, 2, 2, 0, 0, 2, 1, 1, 0, 1, 0, 0,\n",
       "       2, 2])"
      ]
     },
     "execution_count": 20,
     "metadata": {},
     "output_type": "execute_result"
    }
   ],
   "source": [
    "kmeans.labels_"
   ]
  },
  {
   "cell_type": "code",
   "execution_count": 25,
   "id": "e6436dbb",
   "metadata": {},
   "outputs": [
    {
     "name": "stdout",
     "output_type": "stream",
     "text": [
      "Total number of true label not equal to kmeans.labels_: 133\n"
     ]
    }
   ],
   "source": [
    "count = 0\n",
    "for i, j in zip(true_labels, kmeans.labels_):\n",
    "    if i !=j :\n",
    "        count += 1\n",
    "print('Total number of true label not equal to kmeans.labels_:', count)"
   ]
  },
  {
   "cell_type": "markdown",
   "id": "b5bb99f7",
   "metadata": {},
   "source": [
    "# Choosing the Appropriate Number of Clusters"
   ]
  },
  {
   "cell_type": "markdown",
   "id": "a592baf1",
   "metadata": {},
   "source": [
    "In this section, you’ll look at two methods that are commonly used to evaluate the appropriate number of clusters:\n",
    "\n",
    "* The elbow method\n",
    "* The silhouette coefficient\n",
    "\n",
    "These are often used as complementary evaluation techniques rather than one being preferred over the other. To perform the elbow method, run several k-means, increment k with each iteration, and record the SSE:"
   ]
  },
  {
   "cell_type": "code",
   "execution_count": 29,
   "id": "3b3c373d",
   "metadata": {},
   "outputs": [],
   "source": [
    "kmeans_kwargs = {\n",
    "        \"init\": \"random\",\n",
    "        \"n_init\": 10,\n",
    "        \"max_iter\": 300,\n",
    "        \"random_state\": 42,\n",
    "}\n",
    "\n"
   ]
  },
  {
   "cell_type": "code",
   "execution_count": 30,
   "id": "1c3f21c9",
   "metadata": {},
   "outputs": [
    {
     "name": "stderr",
     "output_type": "stream",
     "text": [
      "C:\\Users\\cws\\anaconda3\\lib\\site-packages\\sklearn\\cluster\\_kmeans.py:881: UserWarning: KMeans is known to have a memory leak on Windows with MKL, when there are less chunks than available threads. You can avoid it by setting the environment variable OMP_NUM_THREADS=1.\n",
      "  warnings.warn(\n"
     ]
    },
    {
     "name": "stdout",
     "output_type": "stream",
     "text": [
      "for 1 cluster sse value = 399.9999999999999\n",
      "for 2 cluster sse value = 173.23074893877765\n",
      "for 3 cluster sse value = 74.57960106819854\n",
      "for 4 cluster sse value = 61.30474344497749\n",
      "for 5 cluster sse value = 52.27538725902107\n",
      "for 6 cluster sse value = 43.96311767832819\n",
      "for 7 cluster sse value = 38.52881875287542\n",
      "for 8 cluster sse value = 34.82637407026124\n",
      "for 9 cluster sse value = 31.13865746439756\n",
      "for 10 cluster sse value = 27.89657236940263\n"
     ]
    }
   ],
   "source": [
    "# A list holds the SSE values for each k\n",
    "sse = []\n",
    "for k in range(1, 11):\n",
    "    kmeans = KMeans(n_clusters=k, **kmeans_kwargs)\n",
    "    kmeans.fit(scaled_features)\n",
    "    \n",
    "    print(f'for {k} cluster sse value = {kmeans.inertia_}')\n",
    "    sse.append(kmeans.inertia_)"
   ]
  },
  {
   "cell_type": "markdown",
   "id": "30dfe55b",
   "metadata": {},
   "source": [
    "notice that SSE continues to decrease as you increase k. As more centroids are added, the distance from each point to its closest centroid will decrease"
   ]
  },
  {
   "cell_type": "markdown",
   "id": "2c9c1512",
   "metadata": {},
   "source": [
    "## plot to find optimal number of k"
   ]
  },
  {
   "cell_type": "markdown",
   "id": "39fba911",
   "metadata": {},
   "source": [
    "There’s a sweet spot where the SSE curve starts to bend known as the elbow point. The x-value of this point is thought to be a reasonable trade-off between error and number of clusters"
   ]
  },
  {
   "cell_type": "code",
   "execution_count": 32,
   "id": "90b4a685",
   "metadata": {},
   "outputs": [
    {
     "data": {
      "image/png": "[encoded data removed]",
      "text/plain": [
       "<Figure size 432x288 with 1 Axes>"
      ]
     },
     "metadata": {},
     "output_type": "display_data"
    }
   ],
   "source": [
    "plt.style.use(\"fivethirtyeight\")\n",
    "plt.plot(range(1, 11), sse)\n",
    "plt.xticks(range(1, 11))\n",
    "plt.xlabel(\"Number of Clusters\")\n",
    "plt.ylabel(\"SSE\")\n",
    "plt.show()"
   ]
  },
  {
   "cell_type": "code",
   "execution_count": null,
   "id": "904c53a3",
   "metadata": {},
   "outputs": [],
   "source": []
  }
 ],
 "metadata": {
  "kernelspec": {
   "display_name": "Python 3",
   "language": "python",
   "name": "python3"
  },
  "language_info": {
   "codemirror_mode": {
    "name": "ipython",
    "version": 3
   },
   "file_extension": ".py",
   "mimetype": "text/x-python",
   "name": "python",
   "nbconvert_exporter": "python",
   "pygments_lexer": "ipython3",
   "version": "3.8.8"
  }
 },
 "nbformat": 4,
 "nbformat_minor": 5
}
