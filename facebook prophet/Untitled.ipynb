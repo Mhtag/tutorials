{
 "cells": [
  {
   "cell_type": "markdown",
   "id": "f026105b",
   "metadata": {},
   "source": [
    "#### Forecasting Timeseries Data Using Facebook FbProphet\n",
    "Steps Required With FbProphet\n",
    "\n",
    "* Introduction And Installation\n",
    "* Data Preprocessing With Time Seires\n",
    "* Model Fitting\n",
    "* Obtaining The Forecasts\n",
    "* Plotting The Forecasts\n",
    "* Cross Validation\n",
    "* Computing Performance Metrics\n",
    "* Visualize the Performance MEtrics\n",
    "* Conclusions"
   ]
  },
  {
   "cell_type": "code",
   "execution_count": 11,
   "id": "0303ed07",
   "metadata": {},
   "outputs": [],
   "source": [
    "### pip install pystan\n",
    "### conda install -c conda-forge fbprophet\n",
    "import pandas as pd\n",
    "from prophet import Prophet\n",
    "import matplotlib.pyplot as plt\n",
    "%matplotlib inline"
   ]
  },
  {
   "cell_type": "code",
   "execution_count": 4,
   "id": "10857ed3",
   "metadata": {},
   "outputs": [
    {
     "data": {
      "text/html": [
       "<div>\n",
       "<style scoped>\n",
       "    .dataframe tbody tr th:only-of-type {\n",
       "        vertical-align: middle;\n",
       "    }\n",
       "\n",
       "    .dataframe tbody tr th {\n",
       "        vertical-align: top;\n",
       "    }\n",
       "\n",
       "    .dataframe thead th {\n",
       "        text-align: right;\n",
       "    }\n",
       "</style>\n",
       "<table border=\"1\" class=\"dataframe\">\n",
       "  <thead>\n",
       "    <tr style=\"text-align: right;\">\n",
       "      <th></th>\n",
       "      <th>Month</th>\n",
       "      <th>Monthly milk production: pounds per cow. Jan 62 ? Dec 75</th>\n",
       "    </tr>\n",
       "  </thead>\n",
       "  <tbody>\n",
       "    <tr>\n",
       "      <th>0</th>\n",
       "      <td>1962-01</td>\n",
       "      <td>589.0</td>\n",
       "    </tr>\n",
       "    <tr>\n",
       "      <th>1</th>\n",
       "      <td>1962-02</td>\n",
       "      <td>561.0</td>\n",
       "    </tr>\n",
       "    <tr>\n",
       "      <th>2</th>\n",
       "      <td>1962-03</td>\n",
       "      <td>640.0</td>\n",
       "    </tr>\n",
       "    <tr>\n",
       "      <th>3</th>\n",
       "      <td>1962-04</td>\n",
       "      <td>656.0</td>\n",
       "    </tr>\n",
       "    <tr>\n",
       "      <th>4</th>\n",
       "      <td>1962-05</td>\n",
       "      <td>727.0</td>\n",
       "    </tr>\n",
       "  </tbody>\n",
       "</table>\n",
       "</div>"
      ],
      "text/plain": [
       "     Month  Monthly milk production: pounds per cow. Jan 62 ? Dec 75\n",
       "0  1962-01                                              589.0       \n",
       "1  1962-02                                              561.0       \n",
       "2  1962-03                                              640.0       \n",
       "3  1962-04                                              656.0       \n",
       "4  1962-05                                              727.0       "
      ]
     },
     "execution_count": 4,
     "metadata": {},
     "output_type": "execute_result"
    }
   ],
   "source": [
    "df=pd.read_csv('monthly-milk-production-pounds.csv')\n",
    "df.head()"
   ]
  },
  {
   "cell_type": "code",
   "execution_count": 6,
   "id": "bfce28e6",
   "metadata": {},
   "outputs": [
    {
     "data": {
      "text/html": [
       "<div>\n",
       "<style scoped>\n",
       "    .dataframe tbody tr th:only-of-type {\n",
       "        vertical-align: middle;\n",
       "    }\n",
       "\n",
       "    .dataframe tbody tr th {\n",
       "        vertical-align: top;\n",
       "    }\n",
       "\n",
       "    .dataframe thead th {\n",
       "        text-align: right;\n",
       "    }\n",
       "</style>\n",
       "<table border=\"1\" class=\"dataframe\">\n",
       "  <thead>\n",
       "    <tr style=\"text-align: right;\">\n",
       "      <th></th>\n",
       "      <th>Month</th>\n",
       "      <th>Monthly milk production: pounds per cow. Jan 62 ? Dec 75</th>\n",
       "    </tr>\n",
       "  </thead>\n",
       "  <tbody>\n",
       "    <tr>\n",
       "      <th>164</th>\n",
       "      <td>1975-09</td>\n",
       "      <td>817.0</td>\n",
       "    </tr>\n",
       "    <tr>\n",
       "      <th>165</th>\n",
       "      <td>1975-10</td>\n",
       "      <td>827.0</td>\n",
       "    </tr>\n",
       "    <tr>\n",
       "      <th>166</th>\n",
       "      <td>1975-11</td>\n",
       "      <td>797.0</td>\n",
       "    </tr>\n",
       "    <tr>\n",
       "      <th>167</th>\n",
       "      <td>1975-12</td>\n",
       "      <td>843.0</td>\n",
       "    </tr>\n",
       "    <tr>\n",
       "      <th>168</th>\n",
       "      <td>Monthly milk production: pounds per cow. Jan 6...</td>\n",
       "      <td>NaN</td>\n",
       "    </tr>\n",
       "  </tbody>\n",
       "</table>\n",
       "</div>"
      ],
      "text/plain": [
       "                                                 Month  \\\n",
       "164                                            1975-09   \n",
       "165                                            1975-10   \n",
       "166                                            1975-11   \n",
       "167                                            1975-12   \n",
       "168  Monthly milk production: pounds per cow. Jan 6...   \n",
       "\n",
       "     Monthly milk production: pounds per cow. Jan 62 ? Dec 75  \n",
       "164                                              817.0         \n",
       "165                                              827.0         \n",
       "166                                              797.0         \n",
       "167                                              843.0         \n",
       "168                                                NaN         "
      ]
     },
     "execution_count": 6,
     "metadata": {},
     "output_type": "execute_result"
    }
   ],
   "source": [
    "\n",
    "df.tail()"
   ]
  },
  {
   "cell_type": "code",
   "execution_count": 7,
   "id": "87ca0aca",
   "metadata": {},
   "outputs": [],
   "source": [
    "df.drop(168,axis=0,inplace=True)"
   ]
  },
  {
   "cell_type": "code",
   "execution_count": 8,
   "id": "0473e6f6",
   "metadata": {},
   "outputs": [
    {
     "data": {
      "text/html": [
       "<div>\n",
       "<style scoped>\n",
       "    .dataframe tbody tr th:only-of-type {\n",
       "        vertical-align: middle;\n",
       "    }\n",
       "\n",
       "    .dataframe tbody tr th {\n",
       "        vertical-align: top;\n",
       "    }\n",
       "\n",
       "    .dataframe thead th {\n",
       "        text-align: right;\n",
       "    }\n",
       "</style>\n",
       "<table border=\"1\" class=\"dataframe\">\n",
       "  <thead>\n",
       "    <tr style=\"text-align: right;\">\n",
       "      <th></th>\n",
       "      <th>Month</th>\n",
       "      <th>Monthly milk production: pounds per cow. Jan 62 ? Dec 75</th>\n",
       "    </tr>\n",
       "  </thead>\n",
       "  <tbody>\n",
       "    <tr>\n",
       "      <th>163</th>\n",
       "      <td>1975-08</td>\n",
       "      <td>858.0</td>\n",
       "    </tr>\n",
       "    <tr>\n",
       "      <th>164</th>\n",
       "      <td>1975-09</td>\n",
       "      <td>817.0</td>\n",
       "    </tr>\n",
       "    <tr>\n",
       "      <th>165</th>\n",
       "      <td>1975-10</td>\n",
       "      <td>827.0</td>\n",
       "    </tr>\n",
       "    <tr>\n",
       "      <th>166</th>\n",
       "      <td>1975-11</td>\n",
       "      <td>797.0</td>\n",
       "    </tr>\n",
       "    <tr>\n",
       "      <th>167</th>\n",
       "      <td>1975-12</td>\n",
       "      <td>843.0</td>\n",
       "    </tr>\n",
       "  </tbody>\n",
       "</table>\n",
       "</div>"
      ],
      "text/plain": [
       "       Month  Monthly milk production: pounds per cow. Jan 62 ? Dec 75\n",
       "163  1975-08                                              858.0       \n",
       "164  1975-09                                              817.0       \n",
       "165  1975-10                                              827.0       \n",
       "166  1975-11                                              797.0       \n",
       "167  1975-12                                              843.0       "
      ]
     },
     "execution_count": 8,
     "metadata": {},
     "output_type": "execute_result"
    }
   ],
   "source": [
    "df.tail()"
   ]
  },
  {
   "cell_type": "code",
   "execution_count": 9,
   "id": "0ab7fe20",
   "metadata": {},
   "outputs": [],
   "source": [
    "df.columns=['ds','y']"
   ]
  },
  {
   "cell_type": "code",
   "execution_count": 10,
   "id": "69bcf42f",
   "metadata": {},
   "outputs": [
    {
     "data": {
      "text/plain": [
       "<AxesSubplot:>"
      ]
     },
     "execution_count": 10,
     "metadata": {},
     "output_type": "execute_result"
    },
    {
     "data": {
      "image/png": "[encoded data removed]",
      "text/plain": [
       "<Figure size 432x288 with 1 Axes>"
      ]
     },
     "metadata": {
      "needs_background": "light"
     },
     "output_type": "display_data"
    }
   ],
   "source": [
    "df.plot()"
   ]
  },
  {
   "cell_type": "code",
   "execution_count": 12,
   "id": "5ec6f357",
   "metadata": {},
   "outputs": [
    {
     "data": {
      "text/html": [
       "<div>\n",
       "<style scoped>\n",
       "    .dataframe tbody tr th:only-of-type {\n",
       "        vertical-align: middle;\n",
       "    }\n",
       "\n",
       "    .dataframe tbody tr th {\n",
       "        vertical-align: top;\n",
       "    }\n",
       "\n",
       "    .dataframe thead th {\n",
       "        text-align: right;\n",
       "    }\n",
       "</style>\n",
       "<table border=\"1\" class=\"dataframe\">\n",
       "  <thead>\n",
       "    <tr style=\"text-align: right;\">\n",
       "      <th></th>\n",
       "      <th>ds</th>\n",
       "      <th>y</th>\n",
       "    </tr>\n",
       "  </thead>\n",
       "  <tbody>\n",
       "    <tr>\n",
       "      <th>0</th>\n",
       "      <td>1962-01</td>\n",
       "      <td>589.0</td>\n",
       "    </tr>\n",
       "    <tr>\n",
       "      <th>1</th>\n",
       "      <td>1962-02</td>\n",
       "      <td>561.0</td>\n",
       "    </tr>\n",
       "    <tr>\n",
       "      <th>2</th>\n",
       "      <td>1962-03</td>\n",
       "      <td>640.0</td>\n",
       "    </tr>\n",
       "    <tr>\n",
       "      <th>3</th>\n",
       "      <td>1962-04</td>\n",
       "      <td>656.0</td>\n",
       "    </tr>\n",
       "    <tr>\n",
       "      <th>4</th>\n",
       "      <td>1962-05</td>\n",
       "      <td>727.0</td>\n",
       "    </tr>\n",
       "  </tbody>\n",
       "</table>\n",
       "</div>"
      ],
      "text/plain": [
       "        ds      y\n",
       "0  1962-01  589.0\n",
       "1  1962-02  561.0\n",
       "2  1962-03  640.0\n",
       "3  1962-04  656.0\n",
       "4  1962-05  727.0"
      ]
     },
     "execution_count": 12,
     "metadata": {},
     "output_type": "execute_result"
    }
   ],
   "source": [
    "df.head()"
   ]
  },
  {
   "cell_type": "code",
   "execution_count": 13,
   "id": "0d69919b",
   "metadata": {},
   "outputs": [],
   "source": [
    "df['ds']=pd.to_datetime(df['ds'])"
   ]
  },
  {
   "cell_type": "code",
   "execution_count": 14,
   "id": "5b931b3e",
   "metadata": {},
   "outputs": [
    {
     "data": {
      "text/html": [
       "<div>\n",
       "<style scoped>\n",
       "    .dataframe tbody tr th:only-of-type {\n",
       "        vertical-align: middle;\n",
       "    }\n",
       "\n",
       "    .dataframe tbody tr th {\n",
       "        vertical-align: top;\n",
       "    }\n",
       "\n",
       "    .dataframe thead th {\n",
       "        text-align: right;\n",
       "    }\n",
       "</style>\n",
       "<table border=\"1\" class=\"dataframe\">\n",
       "  <thead>\n",
       "    <tr style=\"text-align: right;\">\n",
       "      <th></th>\n",
       "      <th>ds</th>\n",
       "      <th>y</th>\n",
       "    </tr>\n",
       "  </thead>\n",
       "  <tbody>\n",
       "    <tr>\n",
       "      <th>0</th>\n",
       "      <td>1962-01-01</td>\n",
       "      <td>589.0</td>\n",
       "    </tr>\n",
       "    <tr>\n",
       "      <th>1</th>\n",
       "      <td>1962-02-01</td>\n",
       "      <td>561.0</td>\n",
       "    </tr>\n",
       "    <tr>\n",
       "      <th>2</th>\n",
       "      <td>1962-03-01</td>\n",
       "      <td>640.0</td>\n",
       "    </tr>\n",
       "    <tr>\n",
       "      <th>3</th>\n",
       "      <td>1962-04-01</td>\n",
       "      <td>656.0</td>\n",
       "    </tr>\n",
       "    <tr>\n",
       "      <th>4</th>\n",
       "      <td>1962-05-01</td>\n",
       "      <td>727.0</td>\n",
       "    </tr>\n",
       "  </tbody>\n",
       "</table>\n",
       "</div>"
      ],
      "text/plain": [
       "          ds      y\n",
       "0 1962-01-01  589.0\n",
       "1 1962-02-01  561.0\n",
       "2 1962-03-01  640.0\n",
       "3 1962-04-01  656.0\n",
       "4 1962-05-01  727.0"
      ]
     },
     "execution_count": 14,
     "metadata": {},
     "output_type": "execute_result"
    }
   ],
   "source": [
    "df.head()"
   ]
  },
  {
   "cell_type": "code",
   "execution_count": 15,
   "id": "69b77b53",
   "metadata": {},
   "outputs": [
    {
     "name": "stderr",
     "output_type": "stream",
     "text": [
      "INFO:numexpr.utils:NumExpr defaulting to 2 threads.\n",
      "INFO:prophet:Disabling weekly seasonality. Run prophet with weekly_seasonality=True to override this.\n",
      "INFO:prophet:Disabling daily seasonality. Run prophet with daily_seasonality=True to override this.\n"
     ]
    },
    {
     "data": {
      "text/plain": [
       "<prophet.forecaster.Prophet at 0x1ee69218f40>"
      ]
     },
     "execution_count": 15,
     "metadata": {},
     "output_type": "execute_result"
    }
   ],
   "source": [
    "model = Prophet()\n",
    "model.fit(df)"
   ]
  },
  {
   "cell_type": "code",
   "execution_count": 22,
   "id": "c6a278a3",
   "metadata": {},
   "outputs": [
    {
     "data": {
      "text/plain": [
       "OrderedDict([('yearly',\n",
       "              {'period': 365.25,\n",
       "               'fourier_order': 10,\n",
       "               'prior_scale': 10.0,\n",
       "               'mode': 'additive',\n",
       "               'condition_name': None})])"
      ]
     },
     "execution_count": 22,
     "metadata": {},
     "output_type": "execute_result"
    }
   ],
   "source": [
    "model.seasonalities"
   ]
  },
  {
   "cell_type": "code",
   "execution_count": 23,
   "id": "00cf4e2b",
   "metadata": {},
   "outputs": [
    {
     "data": {
      "text/plain": [
       "{'additive': ['yearly',\n",
       "  'additive_terms',\n",
       "  'extra_regressors_additive',\n",
       "  'holidays'],\n",
       " 'multiplicative': ['multiplicative_terms', 'extra_regressors_multiplicative']}"
      ]
     },
     "execution_count": 23,
     "metadata": {},
     "output_type": "execute_result"
    }
   ],
   "source": [
    "model.component_modes"
   ]
  },
  {
   "cell_type": "markdown",
   "id": "3a397e39",
   "metadata": {},
   "source": [
    "* Predictions are then made on a dataframe with a column ds containing the dates for which a prediction is to be made. \n",
    "* You can get a suitable dataframe that extends into the future a specified number of days using the helper method Prophet.make_future_dataframe. \n",
    "* By default it will also include the dates from the history, so we will see the model fit as well."
   ]
  },
  {
   "cell_type": "code",
   "execution_count": 24,
   "id": "ded20b33",
   "metadata": {},
   "outputs": [
    {
     "data": {
      "text/html": [
       "<div>\n",
       "<style scoped>\n",
       "    .dataframe tbody tr th:only-of-type {\n",
       "        vertical-align: middle;\n",
       "    }\n",
       "\n",
       "    .dataframe tbody tr th {\n",
       "        vertical-align: top;\n",
       "    }\n",
       "\n",
       "    .dataframe thead th {\n",
       "        text-align: right;\n",
       "    }\n",
       "</style>\n",
       "<table border=\"1\" class=\"dataframe\">\n",
       "  <thead>\n",
       "    <tr style=\"text-align: right;\">\n",
       "      <th></th>\n",
       "      <th>ds</th>\n",
       "    </tr>\n",
       "  </thead>\n",
       "  <tbody>\n",
       "    <tr>\n",
       "      <th>528</th>\n",
       "      <td>1976-11-26</td>\n",
       "    </tr>\n",
       "    <tr>\n",
       "      <th>529</th>\n",
       "      <td>1976-11-27</td>\n",
       "    </tr>\n",
       "    <tr>\n",
       "      <th>530</th>\n",
       "      <td>1976-11-28</td>\n",
       "    </tr>\n",
       "    <tr>\n",
       "      <th>531</th>\n",
       "      <td>1976-11-29</td>\n",
       "    </tr>\n",
       "    <tr>\n",
       "      <th>532</th>\n",
       "      <td>1976-11-30</td>\n",
       "    </tr>\n",
       "  </tbody>\n",
       "</table>\n",
       "</div>"
      ],
      "text/plain": [
       "            ds\n",
       "528 1976-11-26\n",
       "529 1976-11-27\n",
       "530 1976-11-28\n",
       "531 1976-11-29\n",
       "532 1976-11-30"
      ]
     },
     "execution_count": 24,
     "metadata": {},
     "output_type": "execute_result"
    }
   ],
   "source": [
    "future = model.make_future_dataframe(periods=365)\n",
    "future.tail()"
   ]
  },
  {
   "cell_type": "markdown",
   "id": "5b2b08a9",
   "metadata": {},
   "source": [
    "* The predict method will assign each row in future a predicted value which it names yhat. \n",
    "* If you pass in historical dates, it will provide an in-sample fit. \n",
    "* The forecast object here is a new dataframe that includes a column yhat with the forecast, as well as columns for components and uncertainty intervals."
   ]
  },
  {
   "cell_type": "code",
   "execution_count": 26,
   "id": "f3eb8f93",
   "metadata": {},
   "outputs": [
    {
     "data": {
      "text/html": [
       "<div>\n",
       "<style scoped>\n",
       "    .dataframe tbody tr th:only-of-type {\n",
       "        vertical-align: middle;\n",
       "    }\n",
       "\n",
       "    .dataframe tbody tr th {\n",
       "        vertical-align: top;\n",
       "    }\n",
       "\n",
       "    .dataframe thead th {\n",
       "        text-align: right;\n",
       "    }\n",
       "</style>\n",
       "<table border=\"1\" class=\"dataframe\">\n",
       "  <thead>\n",
       "    <tr style=\"text-align: right;\">\n",
       "      <th></th>\n",
       "      <th>ds</th>\n",
       "      <th>trend</th>\n",
       "      <th>yhat_lower</th>\n",
       "      <th>yhat_upper</th>\n",
       "      <th>trend_lower</th>\n",
       "      <th>trend_upper</th>\n",
       "      <th>additive_terms</th>\n",
       "      <th>additive_terms_lower</th>\n",
       "      <th>additive_terms_upper</th>\n",
       "      <th>yearly</th>\n",
       "      <th>yearly_lower</th>\n",
       "      <th>yearly_upper</th>\n",
       "      <th>multiplicative_terms</th>\n",
       "      <th>multiplicative_terms_lower</th>\n",
       "      <th>multiplicative_terms_upper</th>\n",
       "      <th>yhat</th>\n",
       "    </tr>\n",
       "  </thead>\n",
       "  <tbody>\n",
       "    <tr>\n",
       "      <th>528</th>\n",
       "      <td>1976-11-26</td>\n",
       "      <td>875.067691</td>\n",
       "      <td>804.794832</td>\n",
       "      <td>826.340920</td>\n",
       "      <td>870.748514</td>\n",
       "      <td>879.620478</td>\n",
       "      <td>-59.828629</td>\n",
       "      <td>-59.828629</td>\n",
       "      <td>-59.828629</td>\n",
       "      <td>-59.828629</td>\n",
       "      <td>-59.828629</td>\n",
       "      <td>-59.828629</td>\n",
       "      <td>0.0</td>\n",
       "      <td>0.0</td>\n",
       "      <td>0.0</td>\n",
       "      <td>815.239063</td>\n",
       "    </tr>\n",
       "    <tr>\n",
       "      <th>529</th>\n",
       "      <td>1976-11-27</td>\n",
       "      <td>875.086036</td>\n",
       "      <td>807.386287</td>\n",
       "      <td>829.337341</td>\n",
       "      <td>870.750503</td>\n",
       "      <td>879.661746</td>\n",
       "      <td>-56.668299</td>\n",
       "      <td>-56.668299</td>\n",
       "      <td>-56.668299</td>\n",
       "      <td>-56.668299</td>\n",
       "      <td>-56.668299</td>\n",
       "      <td>-56.668299</td>\n",
       "      <td>0.0</td>\n",
       "      <td>0.0</td>\n",
       "      <td>0.0</td>\n",
       "      <td>818.417737</td>\n",
       "    </tr>\n",
       "    <tr>\n",
       "      <th>530</th>\n",
       "      <td>1976-11-28</td>\n",
       "      <td>875.104380</td>\n",
       "      <td>811.473128</td>\n",
       "      <td>832.460721</td>\n",
       "      <td>870.747559</td>\n",
       "      <td>879.694667</td>\n",
       "      <td>-53.333610</td>\n",
       "      <td>-53.333610</td>\n",
       "      <td>-53.333610</td>\n",
       "      <td>-53.333610</td>\n",
       "      <td>-53.333610</td>\n",
       "      <td>-53.333610</td>\n",
       "      <td>0.0</td>\n",
       "      <td>0.0</td>\n",
       "      <td>0.0</td>\n",
       "      <td>821.770770</td>\n",
       "    </tr>\n",
       "    <tr>\n",
       "      <th>531</th>\n",
       "      <td>1976-11-29</td>\n",
       "      <td>875.122725</td>\n",
       "      <td>814.758291</td>\n",
       "      <td>836.983106</td>\n",
       "      <td>870.744615</td>\n",
       "      <td>879.715410</td>\n",
       "      <td>-49.887245</td>\n",
       "      <td>-49.887245</td>\n",
       "      <td>-49.887245</td>\n",
       "      <td>-49.887245</td>\n",
       "      <td>-49.887245</td>\n",
       "      <td>-49.887245</td>\n",
       "      <td>0.0</td>\n",
       "      <td>0.0</td>\n",
       "      <td>0.0</td>\n",
       "      <td>825.235479</td>\n",
       "    </tr>\n",
       "    <tr>\n",
       "      <th>532</th>\n",
       "      <td>1976-11-30</td>\n",
       "      <td>875.141069</td>\n",
       "      <td>817.732849</td>\n",
       "      <td>840.281305</td>\n",
       "      <td>870.741672</td>\n",
       "      <td>879.740089</td>\n",
       "      <td>-46.398941</td>\n",
       "      <td>-46.398941</td>\n",
       "      <td>-46.398941</td>\n",
       "      <td>-46.398941</td>\n",
       "      <td>-46.398941</td>\n",
       "      <td>-46.398941</td>\n",
       "      <td>0.0</td>\n",
       "      <td>0.0</td>\n",
       "      <td>0.0</td>\n",
       "      <td>828.742128</td>\n",
       "    </tr>\n",
       "  </tbody>\n",
       "</table>\n",
       "</div>"
      ],
      "text/plain": [
       "            ds       trend  yhat_lower  yhat_upper  trend_lower  trend_upper  \\\n",
       "528 1976-11-26  875.067691  804.794832  826.340920   870.748514   879.620478   \n",
       "529 1976-11-27  875.086036  807.386287  829.337341   870.750503   879.661746   \n",
       "530 1976-11-28  875.104380  811.473128  832.460721   870.747559   879.694667   \n",
       "531 1976-11-29  875.122725  814.758291  836.983106   870.744615   879.715410   \n",
       "532 1976-11-30  875.141069  817.732849  840.281305   870.741672   879.740089   \n",
       "\n",
       "     additive_terms  additive_terms_lower  additive_terms_upper     yearly  \\\n",
       "528      -59.828629            -59.828629            -59.828629 -59.828629   \n",
       "529      -56.668299            -56.668299            -56.668299 -56.668299   \n",
       "530      -53.333610            -53.333610            -53.333610 -53.333610   \n",
       "531      -49.887245            -49.887245            -49.887245 -49.887245   \n",
       "532      -46.398941            -46.398941            -46.398941 -46.398941   \n",
       "\n",
       "     yearly_lower  yearly_upper  multiplicative_terms  \\\n",
       "528    -59.828629    -59.828629                   0.0   \n",
       "529    -56.668299    -56.668299                   0.0   \n",
       "530    -53.333610    -53.333610                   0.0   \n",
       "531    -49.887245    -49.887245                   0.0   \n",
       "532    -46.398941    -46.398941                   0.0   \n",
       "\n",
       "     multiplicative_terms_lower  multiplicative_terms_upper        yhat  \n",
       "528                         0.0                         0.0  815.239063  \n",
       "529                         0.0                         0.0  818.417737  \n",
       "530                         0.0                         0.0  821.770770  \n",
       "531                         0.0                         0.0  825.235479  \n",
       "532                         0.0                         0.0  828.742128  "
      ]
     },
     "execution_count": 26,
     "metadata": {},
     "output_type": "execute_result"
    }
   ],
   "source": [
    "forecast = model.predict(future)\n",
    "forecast.tail()\n"
   ]
  },
  {
   "cell_type": "markdown",
   "id": "d6682784",
   "metadata": {},
   "source": [
    "You can plot the forecast by calling the Prophet.plot method and passing in your forecast dataframe."
   ]
  },
  {
   "cell_type": "code",
   "execution_count": 27,
   "id": "11ba0d48",
   "metadata": {},
   "outputs": [
    {
     "data": {
      "image/png": "[encoded data removed]",
      "text/plain": [
       "<Figure size 720x432 with 1 Axes>"
      ]
     },
     "metadata": {},
     "output_type": "display_data"
    }
   ],
   "source": [
    "fig1 = model.plot(forecast)\n"
   ]
  },
  {
   "cell_type": "markdown",
   "id": "820aaa4b",
   "metadata": {},
   "source": [
    "* If you want to see the forecast components, you can use the Prophet.plot_components method.  \n",
    "+ By default you’ll see the trend, yearly seasonality, and weekly seasonality of the time series. \n",
    "+ If you include holidays, you’ll see those here, too."
   ]
  },
  {
   "cell_type": "code",
   "execution_count": 28,
   "id": "0f516354",
   "metadata": {},
   "outputs": [
    {
     "data": {
      "image/png": "[encoded data removed]",
      "text/plain": [
       "<Figure size 648x432 with 2 Axes>"
      ]
     },
     "metadata": {},
     "output_type": "display_data"
    }
   ],
   "source": [
    "fig2 = model.plot_components(forecast)"
   ]
  },
  {
   "cell_type": "markdown",
   "id": "210cd441",
   "metadata": {},
   "source": [
    "### Cross Validation\n",
    "Next let’s measure the forecast error using the historical data. We’ll do this by comparing the predicted values with the actual values. In order to perform this operation we select cut of points in the history of the data and fit the model with data upto that cut off point. Afterwards we compare the actual values to the predicted values. The cross_validation method allows us to do this in Prophet. This method take the following parameters as explained below:\n",
    "\n",
    "+ horizon the forecast horizon\n",
    "+ initial the size of the initial training period\n",
    "+ period the spacing between cutoff dates"
   ]
  },
  {
   "cell_type": "code",
   "execution_count": 30,
   "id": "67c1333c",
   "metadata": {},
   "outputs": [],
   "source": [
    "from prophet.diagnostics import cross_validation"
   ]
  },
  {
   "cell_type": "code",
   "execution_count": 33,
   "id": "c378d46e",
   "metadata": {},
   "outputs": [
    {
     "name": "stderr",
     "output_type": "stream",
     "text": [
      "INFO:prophet:Making 21 forecasts with cutoffs between 1965-01-22 00:00:00 and 1974-12-01 00:00:00\n"
     ]
    },
    {
     "data": {
      "application/vnd.jupyter.widget-view+json": {
       "model_id": "2f68435fdcce43ee9b6719fd01800b2b",
       "version_major": 2,
       "version_minor": 0
      },
      "text/plain": [
       "  0%|          | 0/21 [00:00<?, ?it/s]"
      ]
     },
     "metadata": {},
     "output_type": "display_data"
    }
   ],
   "source": [
    "df_cv = cross_validation(model, initial='1065 days', period='180 days', horizon = '365 days')\n"
   ]
  },
  {
   "cell_type": "code",
   "execution_count": 34,
   "id": "f45a37f4",
   "metadata": {},
   "outputs": [
    {
     "data": {
      "text/html": [
       "<div>\n",
       "<style scoped>\n",
       "    .dataframe tbody tr th:only-of-type {\n",
       "        vertical-align: middle;\n",
       "    }\n",
       "\n",
       "    .dataframe tbody tr th {\n",
       "        vertical-align: top;\n",
       "    }\n",
       "\n",
       "    .dataframe thead th {\n",
       "        text-align: right;\n",
       "    }\n",
       "</style>\n",
       "<table border=\"1\" class=\"dataframe\">\n",
       "  <thead>\n",
       "    <tr style=\"text-align: right;\">\n",
       "      <th></th>\n",
       "      <th>ds</th>\n",
       "      <th>yhat</th>\n",
       "      <th>yhat_lower</th>\n",
       "      <th>yhat_upper</th>\n",
       "      <th>y</th>\n",
       "      <th>cutoff</th>\n",
       "    </tr>\n",
       "  </thead>\n",
       "  <tbody>\n",
       "    <tr>\n",
       "      <th>0</th>\n",
       "      <td>1965-02-01</td>\n",
       "      <td>633.103379</td>\n",
       "      <td>630.531111</td>\n",
       "      <td>634.933647</td>\n",
       "      <td>622.0</td>\n",
       "      <td>1965-01-22</td>\n",
       "    </tr>\n",
       "    <tr>\n",
       "      <th>1</th>\n",
       "      <td>1965-03-01</td>\n",
       "      <td>719.988685</td>\n",
       "      <td>711.754772</td>\n",
       "      <td>727.134291</td>\n",
       "      <td>709.0</td>\n",
       "      <td>1965-01-22</td>\n",
       "    </tr>\n",
       "    <tr>\n",
       "      <th>2</th>\n",
       "      <td>1965-04-01</td>\n",
       "      <td>744.891354</td>\n",
       "      <td>728.906458</td>\n",
       "      <td>759.553194</td>\n",
       "      <td>722.0</td>\n",
       "      <td>1965-01-22</td>\n",
       "    </tr>\n",
       "    <tr>\n",
       "      <th>3</th>\n",
       "      <td>1965-05-01</td>\n",
       "      <td>817.040441</td>\n",
       "      <td>790.911598</td>\n",
       "      <td>840.611719</td>\n",
       "      <td>782.0</td>\n",
       "      <td>1965-01-22</td>\n",
       "    </tr>\n",
       "    <tr>\n",
       "      <th>4</th>\n",
       "      <td>1965-06-01</td>\n",
       "      <td>785.567344</td>\n",
       "      <td>748.597107</td>\n",
       "      <td>819.861454</td>\n",
       "      <td>756.0</td>\n",
       "      <td>1965-01-22</td>\n",
       "    </tr>\n",
       "  </tbody>\n",
       "</table>\n",
       "</div>"
      ],
      "text/plain": [
       "          ds        yhat  yhat_lower  yhat_upper      y     cutoff\n",
       "0 1965-02-01  633.103379  630.531111  634.933647  622.0 1965-01-22\n",
       "1 1965-03-01  719.988685  711.754772  727.134291  709.0 1965-01-22\n",
       "2 1965-04-01  744.891354  728.906458  759.553194  722.0 1965-01-22\n",
       "3 1965-05-01  817.040441  790.911598  840.611719  782.0 1965-01-22\n",
       "4 1965-06-01  785.567344  748.597107  819.861454  756.0 1965-01-22"
      ]
     },
     "execution_count": 34,
     "metadata": {},
     "output_type": "execute_result"
    }
   ],
   "source": [
    "df_cv.head()"
   ]
  },
  {
   "cell_type": "code",
   "execution_count": null,
   "id": "7c7577e6",
   "metadata": {},
   "outputs": [],
   "source": []
  }
 ],
 "metadata": {
  "kernelspec": {
   "display_name": "Python 3",
   "language": "python",
   "name": "python3"
  },
  "language_info": {
   "codemirror_mode": {
    "name": "ipython",
    "version": 3
   },
   "file_extension": ".py",
   "mimetype": "text/x-python",
   "name": "python",
   "nbconvert_exporter": "python",
   "pygments_lexer": "ipython3",
   "version": "3.8.8"
  }
 },
 "nbformat": 4,
 "nbformat_minor": 5
}
